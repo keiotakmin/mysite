{
 "cells": [
  {
   "cell_type": "markdown",
   "metadata": {
    "id": "KocCE6JEn8pA"
   },
   "source": [
    "# データシステムの知能化とデザイン\n",
    "# 第6回課題\n",
    "## 学籍番号：62116674\n",
    "## 氏名：藤本巧実"
   ]
  },
  {
   "cell_type": "markdown",
   "metadata": {
    "id": "BWkOTgz2pevE"
   },
   "source": [
    "### 課題3"
   ]
  },
  {
   "cell_type": "markdown",
   "metadata": {
    "id": "A6S1vCAypcg_"
   },
   "source": [
    "前準備"
   ]
  },
  {
   "cell_type": "code",
   "execution_count": 1,
   "metadata": {
    "id": "_ttcy4K6oQ3O"
   },
   "outputs": [],
   "source": [
    "import torch"
   ]
  },
  {
   "cell_type": "markdown",
   "metadata": {
    "id": "Hrq53e6ozs80"
   },
   "source": [
    "関数の定義"
   ]
  },
  {
   "cell_type": "code",
   "execution_count": 2,
   "metadata": {
    "id": "PI2IB2Qhyfar"
   },
   "outputs": [],
   "source": [
    "def f(x):\n",
    "  return 2 * x ** 3 - 3 * x ** 2 - 12 * x + 1"
   ]
  },
  {
   "cell_type": "markdown",
   "metadata": {
    "id": "r_Y5FgJrpi_1"
   },
   "source": [
    "方法1"
   ]
  },
  {
   "cell_type": "code",
   "execution_count": 3,
   "metadata": {
    "colab": {
     "base_uri": "https://localhost:8080/"
    },
    "id": "D3eBjfRYoKoS",
    "outputId": "c3702de7-4657-42c4-cb12-6643bedd704c"
   },
   "outputs": [
    {
     "data": {
      "text/plain": [
       "tensor(-12.)"
      ]
     },
     "execution_count": 3,
     "metadata": {},
     "output_type": "execute_result"
    }
   ],
   "source": [
    "x = torch.tensor(1.0, requires_grad=True)\n",
    "y = f(x)\n",
    "y.backward()\n",
    "x.grad"
   ]
  },
  {
   "cell_type": "markdown",
   "metadata": {
    "id": "Zh8AYJYXpmRV"
   },
   "source": [
    "方法2(やや型が汚い？)"
   ]
  },
  {
   "cell_type": "code",
   "execution_count": 4,
   "metadata": {
    "colab": {
     "base_uri": "https://localhost:8080/"
    },
    "id": "M0OecY3ipmcN",
    "outputId": "d6a4e2b3-74ae-43fb-df60-33ac6965fc51"
   },
   "outputs": [
    {
     "data": {
      "text/plain": [
       "(tensor(-12.),)"
      ]
     },
     "execution_count": 4,
     "metadata": {},
     "output_type": "execute_result"
    }
   ],
   "source": [
    "x = torch.tensor(1.0, requires_grad=True)\n",
    "y = f(x)\n",
    "torch.autograd.grad(y, x)"
   ]
  },
  {
   "cell_type": "markdown",
   "metadata": {
    "id": "Gi9YL1RQwnNr"
   },
   "source": [
    "手計算"
   ]
  },
  {
   "cell_type": "markdown",
   "metadata": {
    "id": "CVHmIFAn1HCC"
   },
   "source": [
    "$$y=2x^3 - 3x^2 - 12x + 1$$\n",
    "$$y'=6x^2-6x-12$$\n",
    "$$y'(1)=6-6-12=-12$$\n"
   ]
  },
  {
   "cell_type": "markdown",
   "metadata": {
    "id": "6t2l0itE0BsF"
   },
   "source": [
    "autograd機能による計算結果と手計算によるそれが一致した．"
   ]
  }
 ],
 "metadata": {
  "colab": {
   "provenance": []
  },
  "kernelspec": {
   "display_name": "Python 3 (ipykernel)",
   "language": "python",
   "name": "python3"
  },
  "language_info": {
   "codemirror_mode": {
    "name": "ipython",
    "version": 3
   },
   "file_extension": ".py",
   "mimetype": "text/x-python",
   "name": "python",
   "nbconvert_exporter": "python",
   "pygments_lexer": "ipython3",
   "version": "3.9.12"
  }
 },
 "nbformat": 4,
 "nbformat_minor": 1
}
