{
 "cells": [
  {
   "cell_type": "markdown",
   "metadata": {
    "id": "K-6xLptR93oi"
   },
   "source": [
    "# データシステムの知能化とデザイン\n",
    "# 第4回課題\n",
    "## 学籍番号：62116674\n",
    "## 氏名：藤本巧実"
   ]
  },
  {
   "cell_type": "markdown",
   "metadata": {
    "id": "umPRnh7gUHNG"
   },
   "source": [
    "## 用語のまとめ"
   ]
  },
  {
   "cell_type": "markdown",
   "metadata": {
    "id": "UAn8uY_uTooK"
   },
   "source": [
    "- **最適化アルゴリズム**：モデルのパラメータを調節して**効率よく損失をゼロにする(損失関数を最小化する)こと**であり，ニューラルネットワークなどの機械学習の到達目標である．最急降下法を基本としているものが殆どであり，対象によって確率的勾配降下法(**SGD**)，アダム(**Adam**)等が用いられる．\n",
    "\n"
   ]
  },
  {
   "cell_type": "markdown",
   "metadata": {
    "id": "qYQan01BToxx"
   },
   "source": [
    "- **バッチ**と**エポック**：バッチは１つまたは複数ある**入力と正解のペアの集合**（このペアの数をバッチサイズという）である．エポックは複数のバッチで構成された**訓練データを1通り学習すること**である．訓練データをバッチサイズで割った分の学習を１エポックでする．これらの決め方によってバッチ学習・オンライン学習・ミニバッチ学習の３つの学習方法に分けることができる．"
   ]
  },
  {
   "cell_type": "markdown",
   "metadata": {
    "id": "Iu4EfK9yTo69"
   },
   "source": [
    "- **畳み込み層**：画像データの扱いに長けているレイヤである．畳み込み層では，**入力データに対してフィルタとの内積計算を行う**ことで，データの特徴を検出する[1]．画像を例にとると，エッジ・色・テクスチャなどの特定の特徴に反応するフィルタを使用して画像の特徴を調べる．\n",
    "\n",
    "参考文献：[1].https://nisshingeppo.com/ai/convolution/\n"
   ]
  },
  {
   "cell_type": "markdown",
   "metadata": {
    "id": "ra3TcIVYTpC-"
   },
   "source": [
    "## 調査とまとめ"
   ]
  },
  {
   "cell_type": "markdown",
   "metadata": {
    "id": "gLNjaCoxTpJB"
   },
   "source": [
    "- なぜ層数の多いネットワークは利用されなかったのか：①**計算負荷が大きい**こと，②勾配が途中の層で小さくなった場合に入力側の学習がうまくいかなくなる**勾配消失問題**のリスク，③未知のデータにうまく汎用できなくなる**過学習**のリスク等，様々なデメリットが存在するため．"
   ]
  },
  {
   "cell_type": "markdown",
   "metadata": {
    "id": "DslcuE_gUOF4"
   },
   "source": [
    "- どのような技術が層数の拡大を可能としたのか：活性化関数によって勾配消失問題に対応する**ReLU関数(ランプ関数)**，ミニバッチ毎の平均でパラメータを更新することで過学習を抑える**ミニバッチ**等がある．しかし，その成長度がわずかであることから終焉を感じさせられる．"
   ]
  }
 ],
 "metadata": {
  "colab": {
   "provenance": []
  },
  "kernelspec": {
   "display_name": "Python 3 (ipykernel)",
   "language": "python",
   "name": "python3"
  },
  "language_info": {
   "codemirror_mode": {
    "name": "ipython",
    "version": 3
   },
   "file_extension": ".py",
   "mimetype": "text/x-python",
   "name": "python",
   "nbconvert_exporter": "python",
   "pygments_lexer": "ipython3",
   "version": "3.9.12"
  }
 },
 "nbformat": 4,
 "nbformat_minor": 1
}
