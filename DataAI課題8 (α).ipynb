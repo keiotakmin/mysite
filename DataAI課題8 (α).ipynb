{
 "cells": [
  {
   "cell_type": "markdown",
   "metadata": {
    "id": "1DuvzT0xj-3q"
   },
   "source": [
    "# データシステムの知能化とデザイン\n",
    "# 第8回課題\n",
    "## 学籍番号：62116674\n",
    "## 氏名：藤本巧実"
   ]
  },
  {
   "cell_type": "markdown",
   "metadata": {
    "id": "vY5IhpUuEslN"
   },
   "source": [
    "## やるべきほうの課題(LSTMによる記事分類)"
   ]
  },
  {
   "cell_type": "markdown",
   "metadata": {
    "id": "WftoDMdiFhKL"
   },
   "source": [
    "### データセットの作成"
   ]
  },
  {
   "cell_type": "markdown",
   "metadata": {
    "id": "FApuxRCtIzrq"
   },
   "source": [
    "ライブラリのインポートとデータの取得"
   ]
  },
  {
   "cell_type": "code",
   "execution_count": null,
   "metadata": {
    "colab": {
     "base_uri": "https://localhost:8080/"
    },
    "id": "KQQZwVO9FwTG",
    "outputId": "d62fa324-7877-4467-cafb-85529f190016"
   },
   "outputs": [
    {
     "name": "stdout",
     "output_type": "stream",
     "text": [
      "--2023-12-14 02:52:20--  https://keio.box.com/shared/static/agjdm4m93o5lay6k0uy9wfadqi79hwpm\n",
      "Resolving keio.box.com (keio.box.com)... 74.112.186.144\n",
      "Connecting to keio.box.com (keio.box.com)|74.112.186.144|:443... connected.\n",
      "HTTP request sent, awaiting response... 301 Moved Permanently\n",
      "Location: /public/static/agjdm4m93o5lay6k0uy9wfadqi79hwpm [following]\n",
      "--2023-12-14 02:52:20--  https://keio.box.com/public/static/agjdm4m93o5lay6k0uy9wfadqi79hwpm\n",
      "Reusing existing connection to keio.box.com:443.\n",
      "HTTP request sent, awaiting response... 301 Moved Permanently\n",
      "Location: https://keio.app.box.com/public/static/agjdm4m93o5lay6k0uy9wfadqi79hwpm [following]\n",
      "--2023-12-14 02:52:21--  https://keio.app.box.com/public/static/agjdm4m93o5lay6k0uy9wfadqi79hwpm\n",
      "Resolving keio.app.box.com (keio.app.box.com)... 74.112.186.144\n",
      "Connecting to keio.app.box.com (keio.app.box.com)|74.112.186.144|:443... connected.\n",
      "HTTP request sent, awaiting response... 302 Found\n",
      "Location: https://public.boxcloud.com/d/1/b1!DRyqcrH4imrH7DJPgdtsc4A3DYXdDJGm42lLBw6-YM7FUNUM6K_0EweOTcT0pK68wAAKlKQ4sIunUEZtI0PFpPDY0GAMuWByTY7wqBoxDAycsP_FpC6h528XRE7Y8ojy9Z8LzJjv_2UllBowJcqD-otrXvBXEmZ5COe7Rn-bUt8AfV_9bne0tva-2ec01aBk7NQk1XhjIu9Og48mj8-s2EP7U6vWZbmtbVUbOVYodfSIpt3HpRK3nG-TV-8yrde5Mr9kNxG-CrvFBzpcQxKQB_hyqEk8OTwmfmeziFHE_sM94UyU2Rj-O8Ql4k8iUbZhmomXgfDOIs0vVhnrUpAV-EhGgqweJkjVcfbdieHM_CsF1nJtjJEKvPVbGmvq7jrRysvgUSZLiT7IGsHIidwSscRsvQofytuEUCyW3GpJWxzfaLss0yqcoLvrzDjuLDBkwc2ZgZaNaTdDm8v6hXksQ4Nk3edxnZPreaI8MwUiqUIRrMsi7iSXIIkj0T2FFbnbOrx32zpNRWenuXvlBrO4tf8HTtEUMLUP6L9FQ7tnXtRnNwpGqmDwkYxJyr8HUoctTPdMeL_7ytaTnDb0m-LDjfQFM9X0Og97lHLiMhtUWh9ZoetFh9JQK0vaaT93rvG6pn3jj01SzA52bkbtviDQVvtyobyzkgH8ZSffwPFAJAY1V6VLGvtCifw_gJvijks0oygTubSpjigRoJaCsLbvsOaxj6bO4T_imMR7Wyi2gq3cle_7ZTCiT7ru57imdeSie1cPzqREOt9vz48HawmrwKdL7Sk2JbrNPKQV8njXZEKhLhUzttxbh-t_docKsJf7lE9loVyMdmJB0cZZbUhDXpZJo3yP_aXBOCWPhL-f5XkFXNRCBtUcI2u9el1xG-6CivJ5nHFZnTDYpSu_zAxsxLEaUYAzhm-QJcd21xCt7zjHoTKipCHeVhm1fMLK_zSQYgSfXKQXfLYVKE1TnE5nRgPRVQWH8AYzpUV342550ILmlnB8iX5DuXbST7x0Hy1TwajqSY7JoL7fZuQzVZZNy10xLI6zuWcR_seO5ngLIRMNZf55gdyxWa_HLMC-9nle4sYxIyV1_Hk__WSwrS_cDJFXlHPlaCL_sVNkV9XQZv991LROvXa6sQCQ4Wf9b7tvNKhZa9CKZpA_3RscMCUI5U84lIig8fTy-V8OULZHiWVe1uwqgppHCL2gAe0Tb9_RSbEl1hKVTjvXWm4nAk_FVOGg2Q1gIxJrYZyDW1FdLSdBy8BymCsyvH23MMOIxB_MCRICdJ8cS-tcawV8dgckDk7K958fND4ies69p6f8vpIYi8uV4k7ShLNnetdxj_ge-xzGppVOaQDWzE8ypevJ1_p-KpBQitxfUehD7M3bfW9nSQ../download [following]\n",
      "--2023-12-14 02:52:21--  https://public.boxcloud.com/d/1/b1!DRyqcrH4imrH7DJPgdtsc4A3DYXdDJGm42lLBw6-YM7FUNUM6K_0EweOTcT0pK68wAAKlKQ4sIunUEZtI0PFpPDY0GAMuWByTY7wqBoxDAycsP_FpC6h528XRE7Y8ojy9Z8LzJjv_2UllBowJcqD-otrXvBXEmZ5COe7Rn-bUt8AfV_9bne0tva-2ec01aBk7NQk1XhjIu9Og48mj8-s2EP7U6vWZbmtbVUbOVYodfSIpt3HpRK3nG-TV-8yrde5Mr9kNxG-CrvFBzpcQxKQB_hyqEk8OTwmfmeziFHE_sM94UyU2Rj-O8Ql4k8iUbZhmomXgfDOIs0vVhnrUpAV-EhGgqweJkjVcfbdieHM_CsF1nJtjJEKvPVbGmvq7jrRysvgUSZLiT7IGsHIidwSscRsvQofytuEUCyW3GpJWxzfaLss0yqcoLvrzDjuLDBkwc2ZgZaNaTdDm8v6hXksQ4Nk3edxnZPreaI8MwUiqUIRrMsi7iSXIIkj0T2FFbnbOrx32zpNRWenuXvlBrO4tf8HTtEUMLUP6L9FQ7tnXtRnNwpGqmDwkYxJyr8HUoctTPdMeL_7ytaTnDb0m-LDjfQFM9X0Og97lHLiMhtUWh9ZoetFh9JQK0vaaT93rvG6pn3jj01SzA52bkbtviDQVvtyobyzkgH8ZSffwPFAJAY1V6VLGvtCifw_gJvijks0oygTubSpjigRoJaCsLbvsOaxj6bO4T_imMR7Wyi2gq3cle_7ZTCiT7ru57imdeSie1cPzqREOt9vz48HawmrwKdL7Sk2JbrNPKQV8njXZEKhLhUzttxbh-t_docKsJf7lE9loVyMdmJB0cZZbUhDXpZJo3yP_aXBOCWPhL-f5XkFXNRCBtUcI2u9el1xG-6CivJ5nHFZnTDYpSu_zAxsxLEaUYAzhm-QJcd21xCt7zjHoTKipCHeVhm1fMLK_zSQYgSfXKQXfLYVKE1TnE5nRgPRVQWH8AYzpUV342550ILmlnB8iX5DuXbST7x0Hy1TwajqSY7JoL7fZuQzVZZNy10xLI6zuWcR_seO5ngLIRMNZf55gdyxWa_HLMC-9nle4sYxIyV1_Hk__WSwrS_cDJFXlHPlaCL_sVNkV9XQZv991LROvXa6sQCQ4Wf9b7tvNKhZa9CKZpA_3RscMCUI5U84lIig8fTy-V8OULZHiWVe1uwqgppHCL2gAe0Tb9_RSbEl1hKVTjvXWm4nAk_FVOGg2Q1gIxJrYZyDW1FdLSdBy8BymCsyvH23MMOIxB_MCRICdJ8cS-tcawV8dgckDk7K958fND4ies69p6f8vpIYi8uV4k7ShLNnetdxj_ge-xzGppVOaQDWzE8ypevJ1_p-KpBQitxfUehD7M3bfW9nSQ../download\n",
      "Resolving public.boxcloud.com (public.boxcloud.com)... 74.112.186.128\n",
      "Connecting to public.boxcloud.com (public.boxcloud.com)|74.112.186.128|:443... connected.\n",
      "HTTP request sent, awaiting response... 200 OK\n",
      "Length: 13526257 (13M) [application/zip]\n",
      "Saving to: ‘ldcc-20140209.zip’\n",
      "\n",
      "ldcc-20140209.zip   100%[===================>]  12.90M  32.7MB/s    in 0.4s    \n",
      "\n",
      "2023-12-14 02:52:23 (32.7 MB/s) - ‘ldcc-20140209.zip’ saved [13526257/13526257]\n",
      "\n"
     ]
    }
   ],
   "source": [
    "from glob import glob\n",
    "import pandas as pd\n",
    "import linecache\n",
    "import os\n",
    "if not os.path.exists('text/topic-news/LICENSE.txt'):\n",
    "  #!wget \"https://drive.google.com/uc?export=download&id=15EvNnKB6Y6-jGpo1q6N5BZ8SqMI-xzze\" -O ldcc-20140209.zip\n",
    "  !wget https://keio.box.com/shared/static/agjdm4m93o5lay6k0uy9wfadqi79hwpm -O ldcc-20140209.zip\n",
    "if not os.path.exists('text'):\n",
    "  !unzip -q -P dataai ldcc-20140209.zip"
   ]
  },
  {
   "cell_type": "markdown",
   "metadata": {
    "id": "fLgs0sVLJChk"
   },
   "source": [
    "タイトル記事名の取得"
   ]
  },
  {
   "cell_type": "code",
   "execution_count": null,
   "metadata": {
    "colab": {
     "base_uri": "https://localhost:8080/"
    },
    "id": "SxPAelDBF8M1",
    "outputId": "82434582-b730-4cde-dc5d-04026685cf6d"
   },
   "outputs": [
    {
     "name": "stdout",
     "output_type": "stream",
     "text": [
      "['it-life-hack', 'dokujo-tsushin', 'kaden-channel', 'movie-enter', 'livedoor-homme', 'topic-news', 'smax', 'sports-watch', 'peachy']\n"
     ]
    }
   ],
   "source": [
    "categories = [name for name in os.listdir('./text') if os.path.isdir(\"./text/\" +name)]\n",
    "print(categories)"
   ]
  },
  {
   "cell_type": "markdown",
   "metadata": {
    "id": "J-ehuJLEJKQC"
   },
   "source": [
    "タイトルとカテゴリのセットを作成・表示"
   ]
  },
  {
   "cell_type": "code",
   "execution_count": null,
   "metadata": {
    "colab": {
     "base_uri": "https://localhost:8080/",
     "height": 423
    },
    "id": "dLutnGUdF9b3",
    "outputId": "d55e3493-4137-4ddb-a40e-319a58b1adb4"
   },
   "outputs": [
    {
     "data": {
      "text/html": [
       "\n",
       "  <div id=\"df-4584f350-fde8-4c12-920f-a3b62a6886c6\" class=\"colab-df-container\">\n",
       "    <div>\n",
       "<style scoped>\n",
       "    .dataframe tbody tr th:only-of-type {\n",
       "        vertical-align: middle;\n",
       "    }\n",
       "\n",
       "    .dataframe tbody tr th {\n",
       "        vertical-align: top;\n",
       "    }\n",
       "\n",
       "    .dataframe thead th {\n",
       "        text-align: right;\n",
       "    }\n",
       "</style>\n",
       "<table border=\"1\" class=\"dataframe\">\n",
       "  <thead>\n",
       "    <tr style=\"text-align: right;\">\n",
       "      <th></th>\n",
       "      <th>title</th>\n",
       "      <th>category</th>\n",
       "    </tr>\n",
       "  </thead>\n",
       "  <tbody>\n",
       "    <tr>\n",
       "      <th>0</th>\n",
       "      <td>なんだ、そうだったのか！Googleロゴが四角い建築である理由\\n</td>\n",
       "      <td>it-life-hack</td>\n",
       "    </tr>\n",
       "    <tr>\n",
       "      <th>1</th>\n",
       "      <td>電子ブックリーダー「kobo Touch」の実機が見られる！楽天が大手書店と連携した理由\\n</td>\n",
       "      <td>it-life-hack</td>\n",
       "    </tr>\n",
       "    <tr>\n",
       "      <th>2</th>\n",
       "      <td>ついに本日、発売開始！パナソニック、最強カスタマイズの「レッツノートSX1」開封レポート\\n</td>\n",
       "      <td>it-life-hack</td>\n",
       "    </tr>\n",
       "    <tr>\n",
       "      <th>3</th>\n",
       "      <td>Wordで何行書いたかひと目でわかるようにする方法【知っ得・虎の巻】\\n</td>\n",
       "      <td>it-life-hack</td>\n",
       "    </tr>\n",
       "    <tr>\n",
       "      <th>4</th>\n",
       "      <td>話題の最新スマホの予約日が決定！ドコモ、MEDIAS X N-07Dを発売へ\\n</td>\n",
       "      <td>it-life-hack</td>\n",
       "    </tr>\n",
       "    <tr>\n",
       "      <th>...</th>\n",
       "      <td>...</td>\n",
       "      <td>...</td>\n",
       "    </tr>\n",
       "    <tr>\n",
       "      <th>7371</th>\n",
       "      <td>向井理さんの「今の時間帯だと言えない」ヒミツ\\n</td>\n",
       "      <td>peachy</td>\n",
       "    </tr>\n",
       "    <tr>\n",
       "      <th>7372</th>\n",
       "      <td>【終了しました】600万個突破！「クレンジングリサーチ　ソープ＆ソープｂ」をセットで20名様...</td>\n",
       "      <td>peachy</td>\n",
       "    </tr>\n",
       "    <tr>\n",
       "      <th>7373</th>\n",
       "      <td>あなたの見た目年齢を上げているのは“シミ”だった？　今こそ本気で美白対策！ \\n</td>\n",
       "      <td>peachy</td>\n",
       "    </tr>\n",
       "    <tr>\n",
       "      <th>7374</th>\n",
       "      <td>友近千鶴の運命相談\\n</td>\n",
       "      <td>peachy</td>\n",
       "    </tr>\n",
       "    <tr>\n",
       "      <th>7375</th>\n",
       "      <td>浮気性の血液型は?／幸せになれない女子の特徴−【恋愛】週間ランキング\\n</td>\n",
       "      <td>peachy</td>\n",
       "    </tr>\n",
       "  </tbody>\n",
       "</table>\n",
       "<p>7376 rows × 2 columns</p>\n",
       "</div>\n",
       "    <div class=\"colab-df-buttons\">\n",
       "\n",
       "  <div class=\"colab-df-container\">\n",
       "    <button class=\"colab-df-convert\" onclick=\"convertToInteractive('df-4584f350-fde8-4c12-920f-a3b62a6886c6')\"\n",
       "            title=\"Convert this dataframe to an interactive table.\"\n",
       "            style=\"display:none;\">\n",
       "\n",
       "  <svg xmlns=\"http://www.w3.org/2000/svg\" height=\"24px\" viewBox=\"0 -960 960 960\">\n",
       "    <path d=\"M120-120v-720h720v720H120Zm60-500h600v-160H180v160Zm220 220h160v-160H400v160Zm0 220h160v-160H400v160ZM180-400h160v-160H180v160Zm440 0h160v-160H620v160ZM180-180h160v-160H180v160Zm440 0h160v-160H620v160Z\"/>\n",
       "  </svg>\n",
       "    </button>\n",
       "\n",
       "  <style>\n",
       "    .colab-df-container {\n",
       "      display:flex;\n",
       "      gap: 12px;\n",
       "    }\n",
       "\n",
       "    .colab-df-convert {\n",
       "      background-color: #E8F0FE;\n",
       "      border: none;\n",
       "      border-radius: 50%;\n",
       "      cursor: pointer;\n",
       "      display: none;\n",
       "      fill: #1967D2;\n",
       "      height: 32px;\n",
       "      padding: 0 0 0 0;\n",
       "      width: 32px;\n",
       "    }\n",
       "\n",
       "    .colab-df-convert:hover {\n",
       "      background-color: #E2EBFA;\n",
       "      box-shadow: 0px 1px 2px rgba(60, 64, 67, 0.3), 0px 1px 3px 1px rgba(60, 64, 67, 0.15);\n",
       "      fill: #174EA6;\n",
       "    }\n",
       "\n",
       "    .colab-df-buttons div {\n",
       "      margin-bottom: 4px;\n",
       "    }\n",
       "\n",
       "    [theme=dark] .colab-df-convert {\n",
       "      background-color: #3B4455;\n",
       "      fill: #D2E3FC;\n",
       "    }\n",
       "\n",
       "    [theme=dark] .colab-df-convert:hover {\n",
       "      background-color: #434B5C;\n",
       "      box-shadow: 0px 1px 3px 1px rgba(0, 0, 0, 0.15);\n",
       "      filter: drop-shadow(0px 1px 2px rgba(0, 0, 0, 0.3));\n",
       "      fill: #FFFFFF;\n",
       "    }\n",
       "  </style>\n",
       "\n",
       "    <script>\n",
       "      const buttonEl =\n",
       "        document.querySelector('#df-4584f350-fde8-4c12-920f-a3b62a6886c6 button.colab-df-convert');\n",
       "      buttonEl.style.display =\n",
       "        google.colab.kernel.accessAllowed ? 'block' : 'none';\n",
       "\n",
       "      async function convertToInteractive(key) {\n",
       "        const element = document.querySelector('#df-4584f350-fde8-4c12-920f-a3b62a6886c6');\n",
       "        const dataTable =\n",
       "          await google.colab.kernel.invokeFunction('convertToInteractive',\n",
       "                                                    [key], {});\n",
       "        if (!dataTable) return;\n",
       "\n",
       "        const docLinkHtml = 'Like what you see? Visit the ' +\n",
       "          '<a target=\"_blank\" href=https://colab.research.google.com/notebooks/data_table.ipynb>data table notebook</a>'\n",
       "          + ' to learn more about interactive tables.';\n",
       "        element.innerHTML = '';\n",
       "        dataTable['output_type'] = 'display_data';\n",
       "        await google.colab.output.renderOutput(dataTable, element);\n",
       "        const docLink = document.createElement('div');\n",
       "        docLink.innerHTML = docLinkHtml;\n",
       "        element.appendChild(docLink);\n",
       "      }\n",
       "    </script>\n",
       "  </div>\n",
       "\n",
       "\n",
       "<div id=\"df-f85fe2ff-9db1-48f5-ab9a-9eefbc788a43\">\n",
       "  <button class=\"colab-df-quickchart\" onclick=\"quickchart('df-f85fe2ff-9db1-48f5-ab9a-9eefbc788a43')\"\n",
       "            title=\"Suggest charts\"\n",
       "            style=\"display:none;\">\n",
       "\n",
       "<svg xmlns=\"http://www.w3.org/2000/svg\" height=\"24px\"viewBox=\"0 0 24 24\"\n",
       "     width=\"24px\">\n",
       "    <g>\n",
       "        <path d=\"M19 3H5c-1.1 0-2 .9-2 2v14c0 1.1.9 2 2 2h14c1.1 0 2-.9 2-2V5c0-1.1-.9-2-2-2zM9 17H7v-7h2v7zm4 0h-2V7h2v10zm4 0h-2v-4h2v4z\"/>\n",
       "    </g>\n",
       "</svg>\n",
       "  </button>\n",
       "\n",
       "<style>\n",
       "  .colab-df-quickchart {\n",
       "      --bg-color: #E8F0FE;\n",
       "      --fill-color: #1967D2;\n",
       "      --hover-bg-color: #E2EBFA;\n",
       "      --hover-fill-color: #174EA6;\n",
       "      --disabled-fill-color: #AAA;\n",
       "      --disabled-bg-color: #DDD;\n",
       "  }\n",
       "\n",
       "  [theme=dark] .colab-df-quickchart {\n",
       "      --bg-color: #3B4455;\n",
       "      --fill-color: #D2E3FC;\n",
       "      --hover-bg-color: #434B5C;\n",
       "      --hover-fill-color: #FFFFFF;\n",
       "      --disabled-bg-color: #3B4455;\n",
       "      --disabled-fill-color: #666;\n",
       "  }\n",
       "\n",
       "  .colab-df-quickchart {\n",
       "    background-color: var(--bg-color);\n",
       "    border: none;\n",
       "    border-radius: 50%;\n",
       "    cursor: pointer;\n",
       "    display: none;\n",
       "    fill: var(--fill-color);\n",
       "    height: 32px;\n",
       "    padding: 0;\n",
       "    width: 32px;\n",
       "  }\n",
       "\n",
       "  .colab-df-quickchart:hover {\n",
       "    background-color: var(--hover-bg-color);\n",
       "    box-shadow: 0 1px 2px rgba(60, 64, 67, 0.3), 0 1px 3px 1px rgba(60, 64, 67, 0.15);\n",
       "    fill: var(--button-hover-fill-color);\n",
       "  }\n",
       "\n",
       "  .colab-df-quickchart-complete:disabled,\n",
       "  .colab-df-quickchart-complete:disabled:hover {\n",
       "    background-color: var(--disabled-bg-color);\n",
       "    fill: var(--disabled-fill-color);\n",
       "    box-shadow: none;\n",
       "  }\n",
       "\n",
       "  .colab-df-spinner {\n",
       "    border: 2px solid var(--fill-color);\n",
       "    border-color: transparent;\n",
       "    border-bottom-color: var(--fill-color);\n",
       "    animation:\n",
       "      spin 1s steps(1) infinite;\n",
       "  }\n",
       "\n",
       "  @keyframes spin {\n",
       "    0% {\n",
       "      border-color: transparent;\n",
       "      border-bottom-color: var(--fill-color);\n",
       "      border-left-color: var(--fill-color);\n",
       "    }\n",
       "    20% {\n",
       "      border-color: transparent;\n",
       "      border-left-color: var(--fill-color);\n",
       "      border-top-color: var(--fill-color);\n",
       "    }\n",
       "    30% {\n",
       "      border-color: transparent;\n",
       "      border-left-color: var(--fill-color);\n",
       "      border-top-color: var(--fill-color);\n",
       "      border-right-color: var(--fill-color);\n",
       "    }\n",
       "    40% {\n",
       "      border-color: transparent;\n",
       "      border-right-color: var(--fill-color);\n",
       "      border-top-color: var(--fill-color);\n",
       "    }\n",
       "    60% {\n",
       "      border-color: transparent;\n",
       "      border-right-color: var(--fill-color);\n",
       "    }\n",
       "    80% {\n",
       "      border-color: transparent;\n",
       "      border-right-color: var(--fill-color);\n",
       "      border-bottom-color: var(--fill-color);\n",
       "    }\n",
       "    90% {\n",
       "      border-color: transparent;\n",
       "      border-bottom-color: var(--fill-color);\n",
       "    }\n",
       "  }\n",
       "</style>\n",
       "\n",
       "  <script>\n",
       "    async function quickchart(key) {\n",
       "      const quickchartButtonEl =\n",
       "        document.querySelector('#' + key + ' button');\n",
       "      quickchartButtonEl.disabled = true;  // To prevent multiple clicks.\n",
       "      quickchartButtonEl.classList.add('colab-df-spinner');\n",
       "      try {\n",
       "        const charts = await google.colab.kernel.invokeFunction(\n",
       "            'suggestCharts', [key], {});\n",
       "      } catch (error) {\n",
       "        console.error('Error during call to suggestCharts:', error);\n",
       "      }\n",
       "      quickchartButtonEl.classList.remove('colab-df-spinner');\n",
       "      quickchartButtonEl.classList.add('colab-df-quickchart-complete');\n",
       "    }\n",
       "    (() => {\n",
       "      let quickchartButtonEl =\n",
       "        document.querySelector('#df-f85fe2ff-9db1-48f5-ab9a-9eefbc788a43 button');\n",
       "      quickchartButtonEl.style.display =\n",
       "        google.colab.kernel.accessAllowed ? 'block' : 'none';\n",
       "    })();\n",
       "  </script>\n",
       "</div>\n",
       "    </div>\n",
       "  </div>\n"
      ],
      "text/plain": [
       "                                                  title      category\n",
       "0                     なんだ、そうだったのか！Googleロゴが四角い建築である理由\\n  it-life-hack\n",
       "1        電子ブックリーダー「kobo Touch」の実機が見られる！楽天が大手書店と連携した理由\\n  it-life-hack\n",
       "2        ついに本日、発売開始！パナソニック、最強カスタマイズの「レッツノートSX1」開封レポート\\n  it-life-hack\n",
       "3                  Wordで何行書いたかひと目でわかるようにする方法【知っ得・虎の巻】\\n  it-life-hack\n",
       "4              話題の最新スマホの予約日が決定！ドコモ、MEDIAS X N-07Dを発売へ\\n  it-life-hack\n",
       "...                                                 ...           ...\n",
       "7371                           向井理さんの「今の時間帯だと言えない」ヒミツ\\n        peachy\n",
       "7372  【終了しました】600万個突破！「クレンジングリサーチ　ソープ＆ソープｂ」をセットで20名様...        peachy\n",
       "7373           あなたの見た目年齢を上げているのは“シミ”だった？　今こそ本気で美白対策！ \\n        peachy\n",
       "7374                                        友近千鶴の運命相談\\n        peachy\n",
       "7375               浮気性の血液型は?／幸せになれない女子の特徴−【恋愛】週間ランキング\\n        peachy\n",
       "\n",
       "[7376 rows x 2 columns]"
      ]
     },
     "execution_count": 3,
     "metadata": {},
     "output_type": "execute_result"
    }
   ],
   "source": [
    "xs = []\n",
    "for catdir in categories:\n",
    "  path = \"./text/\" + catdir + \"/*.txt\"\n",
    "  files = glob(path)\n",
    "  for text_name in files:\n",
    "    title = linecache.getline(text_name, 3)\n",
    "    xs.append([title, catdir])\n",
    "ldccdatasets = pd.DataFrame(xs, columns=[\"title\", \"category\"])\n",
    "ldccdatasets"
   ]
  },
  {
   "cell_type": "markdown",
   "metadata": {
    "id": "mbmB3MuaJuOU"
   },
   "source": [
    "しっかりシャッフル・型の確認"
   ]
  },
  {
   "cell_type": "code",
   "execution_count": null,
   "metadata": {
    "colab": {
     "base_uri": "https://localhost:8080/"
    },
    "id": "GZvC1VSJGCNj",
    "outputId": "d44d34a2-7b8e-486b-9cfb-10ab644e59e9"
   },
   "outputs": [
    {
     "data": {
      "text/plain": [
       "(7376, 2)"
      ]
     },
     "execution_count": 4,
     "metadata": {},
     "output_type": "execute_result"
    }
   ],
   "source": [
    "# データフレームシャッフル\n",
    "datasets = ldccdatasets.sample(frac=1, random_state=12).reset_index(drop=True)\n",
    "datasets.head()\n",
    "datasets.shape"
   ]
  },
  {
   "cell_type": "markdown",
   "metadata": {
    "id": "1Rq3z0msKLvl"
   },
   "source": [
    "### 形態素解析(言語をネットワークに入力する)"
   ]
  },
  {
   "cell_type": "markdown",
   "metadata": {
    "id": "AVq_lErTKj60"
   },
   "source": [
    "mecabのインストール"
   ]
  },
  {
   "cell_type": "code",
   "execution_count": null,
   "metadata": {
    "colab": {
     "base_uri": "https://localhost:8080/"
    },
    "id": "8fCDzVAZGFHo",
    "outputId": "5d03bbc3-4224-4dc9-8707-2e26d65d9831"
   },
   "outputs": [
    {
     "name": "stdout",
     "output_type": "stream",
     "text": [
      "Reading package lists...\n",
      "Building dependency tree...\n",
      "Reading state information...\n",
      "make is already the newest version (4.3-4.1build1).\n",
      "make set to manually installed.\n",
      "xz-utils is already the newest version (5.2.5-2ubuntu1).\n",
      "xz-utils set to manually installed.\n",
      "curl is already the newest version (7.81.0-1ubuntu1.15).\n",
      "file is already the newest version (1:5.41-3ubuntu0.1).\n",
      "git is already the newest version (1:2.34.1-1ubuntu1.10).\n",
      "The following additional packages will be installed:\n",
      "  libmecab2 mecab-ipadic mecab-utils\n",
      "The following NEW packages will be installed:\n",
      "  libmecab-dev libmecab2 mecab mecab-ipadic mecab-ipadic-utf8 mecab-utils\n",
      "0 upgraded, 6 newly installed, 0 to remove and 23 not upgraded.\n",
      "Need to get 7,367 kB of archives.\n",
      "After this operation, 59.3 MB of additional disk space will be used.\n",
      "Get:1 http://archive.ubuntu.com/ubuntu jammy/main amd64 libmecab2 amd64 0.996-14build9 [199 kB]\n",
      "Get:2 http://archive.ubuntu.com/ubuntu jammy/main amd64 libmecab-dev amd64 0.996-14build9 [306 kB]\n",
      "Get:3 http://archive.ubuntu.com/ubuntu jammy/main amd64 mecab-utils amd64 0.996-14build9 [4,850 B]\n",
      "Get:4 http://archive.ubuntu.com/ubuntu jammy/main amd64 mecab-ipadic all 2.7.0-20070801+main-3 [6,718 kB]\n",
      "Get:5 http://archive.ubuntu.com/ubuntu jammy/universe amd64 mecab amd64 0.996-14build9 [136 kB]\n",
      "Get:6 http://archive.ubuntu.com/ubuntu jammy/main amd64 mecab-ipadic-utf8 all 2.7.0-20070801+main-3 [4,384 B]\n",
      "Fetched 7,367 kB in 1s (11.0 MB/s)\n",
      "Selecting previously unselected package libmecab2:amd64.\n",
      "(Reading database ... 120903 files and directories currently installed.)\n",
      "Preparing to unpack .../0-libmecab2_0.996-14build9_amd64.deb ...\n",
      "Unpacking libmecab2:amd64 (0.996-14build9) ...\n",
      "Selecting previously unselected package libmecab-dev.\n",
      "Preparing to unpack .../1-libmecab-dev_0.996-14build9_amd64.deb ...\n",
      "Unpacking libmecab-dev (0.996-14build9) ...\n",
      "Selecting previously unselected package mecab-utils.\n",
      "Preparing to unpack .../2-mecab-utils_0.996-14build9_amd64.deb ...\n",
      "Unpacking mecab-utils (0.996-14build9) ...\n",
      "Selecting previously unselected package mecab-ipadic.\n",
      "Preparing to unpack .../3-mecab-ipadic_2.7.0-20070801+main-3_all.deb ...\n",
      "Unpacking mecab-ipadic (2.7.0-20070801+main-3) ...\n",
      "Selecting previously unselected package mecab.\n",
      "Preparing to unpack .../4-mecab_0.996-14build9_amd64.deb ...\n",
      "Unpacking mecab (0.996-14build9) ...\n",
      "Selecting previously unselected package mecab-ipadic-utf8.\n",
      "Preparing to unpack .../5-mecab-ipadic-utf8_2.7.0-20070801+main-3_all.deb ...\n",
      "Unpacking mecab-ipadic-utf8 (2.7.0-20070801+main-3) ...\n",
      "Setting up libmecab2:amd64 (0.996-14build9) ...\n",
      "Setting up libmecab-dev (0.996-14build9) ...\n",
      "Setting up mecab-utils (0.996-14build9) ...\n",
      "Setting up mecab-ipadic (2.7.0-20070801+main-3) ...\n",
      "Compiling IPA dictionary for Mecab.  This takes long time...\n",
      "reading /usr/share/mecab/dic/ipadic/unk.def ... 40\n",
      "emitting double-array: 100% |###########################################| \n",
      "/usr/share/mecab/dic/ipadic/model.def is not found. skipped.\n",
      "reading /usr/share/mecab/dic/ipadic/Postp.csv ... 146\n",
      "reading /usr/share/mecab/dic/ipadic/Prefix.csv ... 221\n",
      "reading /usr/share/mecab/dic/ipadic/Filler.csv ... 19\n",
      "reading /usr/share/mecab/dic/ipadic/Noun.demonst.csv ... 120\n",
      "reading /usr/share/mecab/dic/ipadic/Noun.nai.csv ... 42\n",
      "reading /usr/share/mecab/dic/ipadic/Conjunction.csv ... 171\n",
      "reading /usr/share/mecab/dic/ipadic/Adj.csv ... 27210\n",
      "reading /usr/share/mecab/dic/ipadic/Postp-col.csv ... 91\n",
      "reading /usr/share/mecab/dic/ipadic/Noun.csv ... 60477\n",
      "reading /usr/share/mecab/dic/ipadic/Noun.name.csv ... 34202\n",
      "reading /usr/share/mecab/dic/ipadic/Noun.place.csv ... 72999\n",
      "reading /usr/share/mecab/dic/ipadic/Suffix.csv ... 1393\n",
      "reading /usr/share/mecab/dic/ipadic/Auxil.csv ... 199\n",
      "reading /usr/share/mecab/dic/ipadic/Noun.adverbal.csv ... 795\n",
      "reading /usr/share/mecab/dic/ipadic/Noun.number.csv ... 42\n",
      "reading /usr/share/mecab/dic/ipadic/Noun.org.csv ... 16668\n",
      "reading /usr/share/mecab/dic/ipadic/Noun.others.csv ... 151\n",
      "reading /usr/share/mecab/dic/ipadic/Noun.verbal.csv ... 12146\n",
      "reading /usr/share/mecab/dic/ipadic/Verb.csv ... 130750\n",
      "reading /usr/share/mecab/dic/ipadic/Interjection.csv ... 252\n",
      "reading /usr/share/mecab/dic/ipadic/Noun.proper.csv ... 27328\n",
      "reading /usr/share/mecab/dic/ipadic/Symbol.csv ... 208\n",
      "reading /usr/share/mecab/dic/ipadic/Adnominal.csv ... 135\n",
      "reading /usr/share/mecab/dic/ipadic/Noun.adjv.csv ... 3328\n",
      "reading /usr/share/mecab/dic/ipadic/Others.csv ... 2\n",
      "reading /usr/share/mecab/dic/ipadic/Adverb.csv ... 3032\n",
      "emitting double-array: 100% |###########################################| \n",
      "reading /usr/share/mecab/dic/ipadic/matrix.def ... 1316x1316\n",
      "emitting matrix      : 100% |###########################################| \n",
      "\n",
      "done!\n",
      "update-alternatives: using /var/lib/mecab/dic/ipadic to provide /var/lib/mecab/dic/debian (mecab-dictionary) in auto mode\n",
      "Setting up mecab (0.996-14build9) ...\n",
      "Compiling IPA dictionary for Mecab.  This takes long time...\n",
      "reading /usr/share/mecab/dic/ipadic/unk.def ... 40\n",
      "emitting double-array: 100% |###########################################| \n",
      "/usr/share/mecab/dic/ipadic/model.def is not found. skipped.\n",
      "reading /usr/share/mecab/dic/ipadic/Postp.csv ... 146\n",
      "reading /usr/share/mecab/dic/ipadic/Prefix.csv ... 221\n",
      "reading /usr/share/mecab/dic/ipadic/Filler.csv ... 19\n",
      "reading /usr/share/mecab/dic/ipadic/Noun.demonst.csv ... 120\n",
      "reading /usr/share/mecab/dic/ipadic/Noun.nai.csv ... 42\n",
      "reading /usr/share/mecab/dic/ipadic/Conjunction.csv ... 171\n",
      "reading /usr/share/mecab/dic/ipadic/Adj.csv ... 27210\n",
      "reading /usr/share/mecab/dic/ipadic/Postp-col.csv ... 91\n",
      "reading /usr/share/mecab/dic/ipadic/Noun.csv ... 60477\n",
      "reading /usr/share/mecab/dic/ipadic/Noun.name.csv ... 34202\n",
      "reading /usr/share/mecab/dic/ipadic/Noun.place.csv ... 72999\n",
      "reading /usr/share/mecab/dic/ipadic/Suffix.csv ... 1393\n",
      "reading /usr/share/mecab/dic/ipadic/Auxil.csv ... 199\n",
      "reading /usr/share/mecab/dic/ipadic/Noun.adverbal.csv ... 795\n",
      "reading /usr/share/mecab/dic/ipadic/Noun.number.csv ... 42\n",
      "reading /usr/share/mecab/dic/ipadic/Noun.org.csv ... 16668\n",
      "reading /usr/share/mecab/dic/ipadic/Noun.others.csv ... 151\n",
      "reading /usr/share/mecab/dic/ipadic/Noun.verbal.csv ... 12146\n",
      "reading /usr/share/mecab/dic/ipadic/Verb.csv ... 130750\n",
      "reading /usr/share/mecab/dic/ipadic/Interjection.csv ... 252\n",
      "reading /usr/share/mecab/dic/ipadic/Noun.proper.csv ... 27328\n",
      "reading /usr/share/mecab/dic/ipadic/Symbol.csv ... 208\n",
      "reading /usr/share/mecab/dic/ipadic/Adnominal.csv ... 135\n",
      "reading /usr/share/mecab/dic/ipadic/Noun.adjv.csv ... 3328\n",
      "reading /usr/share/mecab/dic/ipadic/Others.csv ... 2\n",
      "reading /usr/share/mecab/dic/ipadic/Adverb.csv ... 3032\n",
      "emitting double-array: 100% |###########################################| \n",
      "reading /usr/share/mecab/dic/ipadic/matrix.def ... 1316x1316\n",
      "emitting matrix      : 100% |###########################################| \n",
      "\n",
      "done!\n",
      "Setting up mecab-ipadic-utf8 (2.7.0-20070801+main-3) ...\n",
      "Compiling IPA dictionary for Mecab.  This takes long time...\n",
      "reading /usr/share/mecab/dic/ipadic/unk.def ... 40\n",
      "emitting double-array: 100% |###########################################| \n",
      "/usr/share/mecab/dic/ipadic/model.def is not found. skipped.\n",
      "reading /usr/share/mecab/dic/ipadic/Postp.csv ... 146\n",
      "reading /usr/share/mecab/dic/ipadic/Prefix.csv ... 221\n",
      "reading /usr/share/mecab/dic/ipadic/Filler.csv ... 19\n",
      "reading /usr/share/mecab/dic/ipadic/Noun.demonst.csv ... 120\n",
      "reading /usr/share/mecab/dic/ipadic/Noun.nai.csv ... 42\n",
      "reading /usr/share/mecab/dic/ipadic/Conjunction.csv ... 171\n",
      "reading /usr/share/mecab/dic/ipadic/Adj.csv ... 27210\n",
      "reading /usr/share/mecab/dic/ipadic/Postp-col.csv ... 91\n",
      "reading /usr/share/mecab/dic/ipadic/Noun.csv ... 60477\n",
      "reading /usr/share/mecab/dic/ipadic/Noun.name.csv ... 34202\n",
      "reading /usr/share/mecab/dic/ipadic/Noun.place.csv ... 72999\n",
      "reading /usr/share/mecab/dic/ipadic/Suffix.csv ... 1393\n",
      "reading /usr/share/mecab/dic/ipadic/Auxil.csv ... 199\n",
      "reading /usr/share/mecab/dic/ipadic/Noun.adverbal.csv ... 795\n",
      "reading /usr/share/mecab/dic/ipadic/Noun.number.csv ... 42\n",
      "reading /usr/share/mecab/dic/ipadic/Noun.org.csv ... 16668\n",
      "reading /usr/share/mecab/dic/ipadic/Noun.others.csv ... 151\n",
      "reading /usr/share/mecab/dic/ipadic/Noun.verbal.csv ... 12146\n",
      "reading /usr/share/mecab/dic/ipadic/Verb.csv ... 130750\n",
      "reading /usr/share/mecab/dic/ipadic/Interjection.csv ... 252\n",
      "reading /usr/share/mecab/dic/ipadic/Noun.proper.csv ... 27328\n",
      "reading /usr/share/mecab/dic/ipadic/Symbol.csv ... 208\n",
      "reading /usr/share/mecab/dic/ipadic/Adnominal.csv ... 135\n",
      "reading /usr/share/mecab/dic/ipadic/Noun.adjv.csv ... 3328\n",
      "reading /usr/share/mecab/dic/ipadic/Others.csv ... 2\n",
      "reading /usr/share/mecab/dic/ipadic/Adverb.csv ... 3032\n",
      "emitting double-array: 100% |###########################################| \n",
      "reading /usr/share/mecab/dic/ipadic/matrix.def ... 1316x1316\n",
      "emitting matrix      : 100% |###########################################| \n",
      "\n",
      "done!\n",
      "update-alternatives: using /var/lib/mecab/dic/ipadic-utf8 to provide /var/lib/mecab/dic/debian (mecab-dictionary) in auto mode\n",
      "Processing triggers for man-db (2.10.2-1) ...\n",
      "Processing triggers for libc-bin (2.35-0ubuntu3.4) ...\n",
      "/sbin/ldconfig.real: /usr/local/lib/libtbbmalloc_proxy.so.2 is not a symbolic link\n",
      "\n",
      "/sbin/ldconfig.real: /usr/local/lib/libtbbbind_2_5.so.3 is not a symbolic link\n",
      "\n",
      "/sbin/ldconfig.real: /usr/local/lib/libtbbbind.so.3 is not a symbolic link\n",
      "\n",
      "/sbin/ldconfig.real: /usr/local/lib/libtbbbind_2_0.so.3 is not a symbolic link\n",
      "\n",
      "/sbin/ldconfig.real: /usr/local/lib/libtbbmalloc.so.2 is not a symbolic link\n",
      "\n",
      "/sbin/ldconfig.real: /usr/local/lib/libtbb.so.12 is not a symbolic link\n",
      "\n",
      "\u001b[2K     \u001b[90m━━━━━━━━━━━━━━━━━━━━━━━━━━━━━━━━━━━━━━━━\u001b[0m \u001b[32m581.7/581.7 kB\u001b[0m \u001b[31m4.0 MB/s\u001b[0m eta \u001b[36m0:00:00\u001b[0m\n",
      "\u001b[?25h"
     ]
    }
   ],
   "source": [
    "!apt install -y --quiet mecab libmecab-dev mecab-ipadic-utf8 git make curl xz-utils file\n",
    "!pip install -q mecab-python3\n",
    "!ln -s /etc/mecabrc /usr/local/etc/mecabrc"
   ]
  },
  {
   "cell_type": "markdown",
   "metadata": {
    "id": "kftGwwHsLACd"
   },
   "source": [
    "確認"
   ]
  },
  {
   "cell_type": "code",
   "execution_count": null,
   "metadata": {
    "colab": {
     "base_uri": "https://localhost:8080/"
    },
    "id": "plRdac7fK8o7",
    "outputId": "3ada6f9c-3596-4969-d196-b5faed90e276"
   },
   "outputs": [
    {
     "name": "stdout",
     "output_type": "stream",
     "text": [
      "すもも\t名詞,一般,*,*,*,*,すもも,スモモ,スモモ\n",
      "も\t助詞,係助詞,*,*,*,*,も,モ,モ\n",
      "もも\t名詞,一般,*,*,*,*,もも,モモ,モモ\n",
      "も\t助詞,係助詞,*,*,*,*,も,モ,モ\n",
      "もも\t名詞,一般,*,*,*,*,もも,モモ,モモ\n",
      "の\t助詞,連体化,*,*,*,*,の,ノ,ノ\n",
      "うち\t名詞,非自立,副詞可能,*,*,*,うち,ウチ,ウチ\n",
      "。\t記号,句点,*,*,*,*,。,。,。\n",
      "EOS\n"
     ]
    }
   ],
   "source": [
    "!echo すもももももももものうち。 | mecab"
   ]
  },
  {
   "cell_type": "markdown",
   "metadata": {
    "id": "VkXWOe1YLgzy"
   },
   "source": [
    "ライブラリのインポートとwakatiリストの定義"
   ]
  },
  {
   "cell_type": "code",
   "execution_count": null,
   "metadata": {
    "id": "WVTpWFxNGJHV"
   },
   "outputs": [],
   "source": [
    "import MeCab\n",
    "import re\n",
    "\n",
    "tagger = MeCab.Tagger(\"-Owakati\")\n",
    "\n",
    "def make_wakati(sentence):\n",
    "  sentence = tagger.parse(sentence)\n",
    "  sentence = re.sub(r'[0-9０-９a-zA-Zａ-ｚＡ-Ｚ]+', \" \", sentence)\n",
    "  sentence = re.sub(r'[\\．_－―─！＠＃＄％＾＆\\-‐|\\\\＊\\“（）＿■×+α※÷⇒—●★☆〇◎◆▼◇△□(：〜～＋=)／*&^%$#@!~`){}［］…\\[\\]\\\"\\'\\”\\’:;<>?＜＞〔〕〈〉？、。・,\\./『』【】「」→←○《》≪≫\\n\\u3000]+', \"\", sentence)\n",
    "  wakati = sentence.split(\" \")\n",
    "  wakati = list(filter((\"\").__ne__, wakati))\n",
    "  return wakati"
   ]
  },
  {
   "cell_type": "markdown",
   "metadata": {
    "id": "RToqHMwBL3Am"
   },
   "source": [
    "単語から番号を得るword2indexを作成"
   ]
  },
  {
   "cell_type": "code",
   "execution_count": null,
   "metadata": {
    "colab": {
     "base_uri": "https://localhost:8080/"
    },
    "id": "8IrbcKEQGNmZ",
    "outputId": "bc82bf10-27ad-44c5-8b4a-7d9262d10d2f"
   },
   "outputs": [
    {
     "name": "stdout",
     "output_type": "stream",
     "text": [
      "datasets vocab size :  13230\n"
     ]
    }
   ],
   "source": [
    "word2index = {}\n",
    "# 系列を揃えるためのパディング文字列<pad>を追加\n",
    "# パディング文字列のIDは0とする\n",
    "word2index.update({\"<pad>\":0})\n",
    "\n",
    "for title in datasets[\"title\"]:\n",
    "  wakati = make_wakati(title)\n",
    "  for word in wakati:\n",
    "    if word in word2index: continue\n",
    "    word2index[word] = len(word2index)\n",
    "print(\"datasets vocab size : \", len(word2index))"
   ]
  },
  {
   "cell_type": "markdown",
   "metadata": {
    "id": "6fFbtz9ZL-ic"
   },
   "source": [
    "確認"
   ]
  },
  {
   "cell_type": "code",
   "execution_count": null,
   "metadata": {
    "colab": {
     "base_uri": "https://localhost:8080/"
    },
    "id": "u7BpB5iRGPXv",
    "outputId": "a31ce169-c420-4b9e-cc10-9bf3f566971e"
   },
   "outputs": [
    {
     "data": {
      "text/plain": [
       "560"
      ]
     },
     "execution_count": 9,
     "metadata": {},
     "output_type": "execute_result"
    }
   ],
   "source": [
    "word2index['クリスマス']"
   ]
  },
  {
   "cell_type": "markdown",
   "metadata": {
    "id": "IsPQUc5WMA6c"
   },
   "source": [
    "### サポート関数の定義"
   ]
  },
  {
   "cell_type": "markdown",
   "metadata": {
    "id": "R8Hy6MNBMNrD"
   },
   "source": [
    "ライブラリのインポートと定義"
   ]
  },
  {
   "cell_type": "code",
   "execution_count": null,
   "metadata": {
    "id": "LrYjSkocGQ0J"
   },
   "outputs": [],
   "source": [
    "from sklearn.model_selection import train_test_split\n",
    "import random\n",
    "from sklearn.utils import shuffle\n",
    "\n",
    "cat2index = {}\n",
    "for cat in categories:\n",
    "  if cat in cat2index: continue\n",
    "  cat2index[cat] = len(cat2index)\n",
    "\n",
    "def sentence2index(sentence):\n",
    "  wakati = make_wakati(sentence)\n",
    "  return [word2index[w] for w in wakati]"
   ]
  },
  {
   "cell_type": "markdown",
   "metadata": {
    "id": "fsxe1GyqMUZW"
   },
   "source": [
    "タイトル文章を単語IDの配列に変換"
   ]
  },
  {
   "cell_type": "code",
   "execution_count": null,
   "metadata": {
    "id": "DxCxwJIRGTiG"
   },
   "outputs": [],
   "source": [
    "idx_title_raw = []\n",
    "idx_category = []\n",
    "\n",
    "# 系列の長さの最大値を取得する\n",
    "max_len = 0\n",
    "for title, category in zip(datasets[\"title\"], datasets[\"category\"]):\n",
    "  idxtitle = sentence2index(title) # タイトルを文字ID列に変換\n",
    "  idxcategory = [cat2index[category]] # カテゴリ名をカテゴリIDに変換し2次元配列にする\n",
    "  idx_title_raw.append(idxtitle) # タイトルの文字ID列をそのまま追加\n",
    "  idx_category.append(idxcategory) #カテゴリIDを追加\n",
    "  if max_len < len(idxtitle): # 最大長さを取得\n",
    "    max_len = len(idxtitle)\n",
    "\n",
    "# 短い系列に対してパディングを追加し系列の長さをmax_len揃える\n",
    "idx_title = []\n",
    "for title in idx_title_raw:\n",
    "  for i in range(max_len - len(title)):\n",
    "#    title.insert(0, 0) # 前パディング\n",
    "    title.append(0) # 後ろパディング\n",
    "  idx_title.append(title)"
   ]
  },
  {
   "cell_type": "markdown",
   "metadata": {
    "id": "9_PORJ5GMYyO"
   },
   "source": [
    "### データローダの定義"
   ]
  },
  {
   "cell_type": "markdown",
   "metadata": {
    "id": "Htncv4ATMh34"
   },
   "source": [
    "ライブラリのインポートと定義"
   ]
  },
  {
   "cell_type": "code",
   "execution_count": null,
   "metadata": {
    "id": "mU5ZDon0GU9F"
   },
   "outputs": [],
   "source": [
    "import torch\n",
    "import torch.nn as nn\n",
    "import torch.nn.functional as F\n",
    "import torch.optim as optim\n",
    "from torch.utils.data import Dataset\n",
    "class MyDataset(Dataset):\n",
    "    def __init__(self):\n",
    "      super().__init__()\n",
    "\n",
    "    def __len__(self):\n",
    "        return len(idx_title)\n",
    "\n",
    "    def __getitem__(self, idx):\n",
    "        title = torch.LongTensor(idx_title[idx])\n",
    "        category = torch.LongTensor(idx_category[idx])\n",
    "        return title, category"
   ]
  },
  {
   "cell_type": "markdown",
   "metadata": {
    "id": "YJTU2ZkRMkos"
   },
   "source": [
    "インスタンス化"
   ]
  },
  {
   "cell_type": "code",
   "execution_count": null,
   "metadata": {
    "id": "d8C5PHHGGWJA"
   },
   "outputs": [],
   "source": [
    "mydataset = MyDataset()"
   ]
  },
  {
   "cell_type": "markdown",
   "metadata": {
    "id": "VFrFFlK3MmSw"
   },
   "source": [
    "確認"
   ]
  },
  {
   "cell_type": "code",
   "execution_count": null,
   "metadata": {
    "colab": {
     "base_uri": "https://localhost:8080/"
    },
    "id": "4hMzuoaQGXRT",
    "outputId": "c69f8fc3-703e-41fb-8f81-7c1456a62b16"
   },
   "outputs": [
    {
     "data": {
      "text/plain": [
       "((tensor([53, 54,  4, 55, 56, 57,  2, 58, 59,  0,  0,  0,  0,  0,  0,  0,  0,  0,\n",
       "           0,  0,  0,  0,  0,  0,  0,  0,  0,  0,  0,  0,  0,  0,  0,  0,  0,  0,\n",
       "           0,  0,  0]),\n",
       "  tensor([5])),\n",
       " 'ＡＫＢ大島優子に非難殺到 「性格が悪すぎる」\\n',\n",
       " 2400)"
      ]
     },
     "execution_count": 14,
     "metadata": {},
     "output_type": "execute_result"
    }
   ],
   "source": [
    "mydataset[4], datasets[\"title\"][4], word2index['猫']"
   ]
  },
  {
   "cell_type": "markdown",
   "metadata": {
    "id": "NlmY77ZrMuHC"
   },
   "source": [
    "学習用と検証用のデータセットを作成"
   ]
  },
  {
   "cell_type": "code",
   "execution_count": null,
   "metadata": {
    "id": "YLhHVSBwGYer"
   },
   "outputs": [],
   "source": [
    "train_dataset, valid_dataset = torch.utils.data.random_split(\n",
    "    mydataset,\n",
    "    [int(len(mydataset)*0.7), len(mydataset)-int(len(mydataset)*0.7)]\n",
    ")"
   ]
  },
  {
   "cell_type": "markdown",
   "metadata": {
    "id": "zMTYQHv7M-ci"
   },
   "source": [
    "学習用と評価用のデータローダを定義"
   ]
  },
  {
   "cell_type": "code",
   "execution_count": null,
   "metadata": {
    "id": "XCrcECLmGbLx"
   },
   "outputs": [],
   "source": [
    "BATCH_SIZE = 100\n",
    "from torch.utils.data import DataLoader\n",
    "\n",
    "train_dataloader = DataLoader(\n",
    "    train_dataset,\n",
    "    batch_size=BATCH_SIZE,\n",
    "    shuffle=True,\n",
    "    num_workers=2,\n",
    "    drop_last=True,\n",
    "    pin_memory=True\n",
    ")\n",
    "\n",
    "valid_dataloader = DataLoader(\n",
    "    valid_dataset,\n",
    "    batch_size=len(valid_dataset),\n",
    "    shuffle=False\n",
    ")"
   ]
  },
  {
   "cell_type": "markdown",
   "metadata": {
    "id": "zxP-bVlKNGXc"
   },
   "source": [
    "検証用データの確認"
   ]
  },
  {
   "cell_type": "code",
   "execution_count": null,
   "metadata": {
    "colab": {
     "base_uri": "https://localhost:8080/"
    },
    "id": "32heB3JiGcVe",
    "outputId": "efeb0c09-ab25-44e0-d1da-823cb8984425"
   },
   "outputs": [
    {
     "data": {
      "text/plain": [
       "torch.Size([2213, 39])"
      ]
     },
     "execution_count": 17,
     "metadata": {},
     "output_type": "execute_result"
    }
   ],
   "source": [
    "next(iter(train_dataloader))\n",
    "next(iter(valid_dataloader))[0].shape"
   ]
  },
  {
   "cell_type": "markdown",
   "metadata": {
    "id": "MKGGfI_5NLoJ"
   },
   "source": [
    "### ネットワークの定義"
   ]
  },
  {
   "cell_type": "markdown",
   "metadata": {
    "id": "_fbKlutsNiLN"
   },
   "source": [
    "**LSTM**のネットワークを定義"
   ]
  },
  {
   "cell_type": "code",
   "execution_count": null,
   "metadata": {
    "id": "aRJq77s-Gd5s"
   },
   "outputs": [],
   "source": [
    "class LSTMClassifier(nn.Module):\n",
    "  def __init__(self, embedding_dim, hidden_dim, vocab_size, tagset_size):\n",
    "    super(LSTMClassifier, self).__init__()\n",
    "    self.hidden_dim = hidden_dim\n",
    "    self.word_embeddings = nn.Embedding(vocab_size, embedding_dim, padding_idx=0)\n",
    "    self.lstm = nn.LSTM(embedding_dim, hidden_dim, batch_first=True)\n",
    "    self.fc = nn.Linear(hidden_dim, tagset_size)\n",
    "\n",
    "  def forward(self, sentence):\n",
    "    embeds = self.word_embeddings(sentence)\n",
    "    _, lstm_out = self.lstm(embeds)\n",
    "    tag_space = self.fc(lstm_out[0])\n",
    "    return tag_space"
   ]
  },
  {
   "cell_type": "markdown",
   "metadata": {
    "id": "5bbUCS_9NmjY"
   },
   "source": [
    "### ネットワークの構築，ハイパーパラメータ・ロス関数・最適化関数の設定"
   ]
  },
  {
   "cell_type": "code",
   "execution_count": null,
   "metadata": {
    "id": "GTZtO3pGGiJu"
   },
   "outputs": [],
   "source": [
    "cuda = \"cuda:0\"\n",
    "device = torch.device(cuda if torch.cuda.is_available() else \"cpu\")\n",
    "\n",
    "EMBEDDING_DIM = 200\n",
    "HIDDEN_DIM = 128\n",
    "VOCAB_SIZE = len(word2index)\n",
    "TAG_SIZE = len(categories)\n",
    "EPOCH = 100\n",
    "model = LSTMClassifier(EMBEDDING_DIM, HIDDEN_DIM, VOCAB_SIZE, TAG_SIZE).to(device)\n",
    "loss_function = nn.CrossEntropyLoss()\n",
    "optimizer = optim.Adam(model.parameters(), lr=0.001)"
   ]
  },
  {
   "cell_type": "markdown",
   "metadata": {
    "id": "pB3m8xE0OCqi"
   },
   "source": [
    "### 学習と検証"
   ]
  },
  {
   "cell_type": "code",
   "execution_count": null,
   "metadata": {
    "colab": {
     "base_uri": "https://localhost:8080/"
    },
    "id": "ctidcVnxGjdm",
    "outputId": "ceeaba5c-4585-470c-df2c-3e2fe434a255"
   },
   "outputs": [
    {
     "name": "stdout",
     "output_type": "stream",
     "text": [
      "epoch 0 \n",
      " loss 111.6262857913971\n",
      "accuracy :  0.10257569\n",
      "epoch 1 \n",
      " loss 111.5198974609375\n",
      "accuracy :  0.10483506\n",
      "epoch 2 \n",
      " loss 106.54406332969666\n",
      "accuracy :  0.22096701\n",
      "epoch 3 \n",
      " loss 101.54603779315948\n",
      "accuracy :  0.19972886\n",
      "epoch 4 \n",
      " loss 98.27247655391693\n",
      "accuracy :  0.21870764\n",
      "epoch 5 \n",
      " loss 91.50966799259186\n",
      "accuracy :  0.29326704\n",
      "epoch 6 \n",
      " loss 79.65087294578552\n",
      "accuracy :  0.36827835\n",
      "epoch 7 \n",
      " loss 71.25637483596802\n",
      "accuracy :  0.38138273\n",
      "epoch 8 \n",
      " loss 68.79096901416779\n",
      "accuracy :  0.44826028\n",
      "epoch 9 \n",
      " loss 63.263771533966064\n",
      "accuracy :  0.4532309\n",
      "epoch 10 \n",
      " loss 58.10863423347473\n",
      "accuracy :  0.45006776\n",
      "epoch 11 \n",
      " loss 54.109259724617004\n",
      "accuracy :  0.47220966\n",
      "epoch 12 \n",
      " loss 49.8237566947937\n",
      "accuracy :  0.51649344\n",
      "epoch 13 \n",
      " loss 41.8763524889946\n",
      "accuracy :  0.54722095\n",
      "epoch 14 \n",
      " loss 38.72339969873428\n",
      "accuracy :  0.53727967\n",
      "epoch 15 \n",
      " loss 35.33731797337532\n",
      "accuracy :  0.55987346\n",
      "epoch 16 \n",
      " loss 30.12907338142395\n",
      "accuracy :  0.57794845\n",
      "epoch 17 \n",
      " loss 27.21379166841507\n",
      "accuracy :  0.5793041\n",
      "epoch 18 \n",
      " loss 24.613007247447968\n",
      "accuracy :  0.5901491\n",
      "epoch 19 \n",
      " loss 21.98816193640232\n",
      "accuracy :  0.5811116\n",
      "epoch 20 \n",
      " loss 20.676039278507233\n",
      "accuracy :  0.5824672\n",
      "epoch 21 \n",
      " loss 18.077719286084175\n",
      "accuracy :  0.5960235\n",
      "epoch 22 \n",
      " loss 17.078415244817734\n",
      "accuracy :  0.59286034\n",
      "epoch 23 \n",
      " loss 17.507313653826714\n",
      "accuracy :  0.58788973\n",
      "epoch 24 \n",
      " loss 16.676261246204376\n",
      "accuracy :  0.5919566\n",
      "epoch 25 \n",
      " loss 15.301252707839012\n",
      "accuracy :  0.5969272\n",
      "epoch 26 \n",
      " loss 14.596870832145214\n",
      "accuracy :  0.594216\n",
      "epoch 27 \n",
      " loss 14.329427264630795\n",
      "accuracy :  0.57794845\n",
      "epoch 28 \n",
      " loss 25.13062134385109\n",
      "accuracy :  0.5743335\n",
      "epoch 29 \n",
      " loss 19.382746055722237\n",
      "accuracy :  0.605061\n",
      "epoch 30 \n",
      " loss 15.82284739613533\n",
      "accuracy :  0.601446\n",
      "epoch 31 \n",
      " loss 13.399232424795628\n",
      "accuracy :  0.6059647\n",
      "epoch 32 \n",
      " loss 11.989018611609936\n",
      "accuracy :  0.608676\n",
      "epoch 33 \n",
      " loss 10.49696096777916\n",
      "accuracy :  0.6150022\n",
      "epoch 34 \n",
      " loss 11.63799761980772\n",
      "accuracy :  0.6009941\n",
      "epoch 35 \n",
      " loss 19.324824318289757\n",
      "accuracy :  0.5937641\n",
      "epoch 36 \n",
      " loss 16.87359730899334\n",
      "accuracy :  0.6109354\n",
      "epoch 37 \n",
      " loss 13.604739055037498\n",
      "accuracy :  0.6208766\n",
      "epoch 38 \n",
      " loss 11.796887330710888\n",
      "accuracy :  0.6177135\n",
      "epoch 39 \n",
      " loss 10.715176060795784\n",
      "accuracy :  0.6118391\n",
      "epoch 40 \n",
      " loss 10.06591972336173\n",
      "accuracy :  0.60370535\n",
      "epoch 41 \n",
      " loss 14.11851941794157\n",
      "accuracy :  0.6150022\n",
      "epoch 42 \n",
      " loss 11.952888064086437\n",
      "accuracy :  0.605061\n",
      "epoch 43 \n",
      " loss 14.144713588058949\n",
      "accuracy :  0.6150022\n",
      "epoch 44 \n",
      " loss 11.584696963429451\n",
      "accuracy :  0.60370535\n",
      "epoch 45 \n",
      " loss 9.635672733187675\n",
      "accuracy :  0.6109354\n",
      "epoch 46 \n",
      " loss 8.440905429422855\n",
      "accuracy :  0.6028016\n",
      "epoch 47 \n",
      " loss 8.088370643556118\n",
      "accuracy :  0.605061\n",
      "epoch 48 \n",
      " loss 7.411456752568483\n",
      "accuracy :  0.6082241\n",
      "epoch 49 \n",
      " loss 6.854965038597584\n",
      "accuracy :  0.6032535\n",
      "epoch 50 \n",
      " loss 7.069307878613472\n",
      "accuracy :  0.60234976\n",
      "epoch 51 \n",
      " loss 6.538336303085089\n",
      "accuracy :  0.6009941\n",
      "epoch 52 \n",
      " loss 6.130093986168504\n",
      "accuracy :  0.5973791\n",
      "epoch 53 \n",
      " loss 6.074982240796089\n",
      "accuracy :  0.6000904\n",
      "epoch 54 \n",
      " loss 5.872174851596355\n",
      "accuracy :  0.59873474\n",
      "epoch 55 \n",
      " loss 5.754505842924118\n",
      "accuracy :  0.5933122\n",
      "epoch 56 \n",
      " loss 6.271554356440902\n",
      "accuracy :  0.59783095\n",
      "epoch 57 \n",
      " loss 6.434572242200375\n",
      "accuracy :  0.5901491\n",
      "epoch 58 \n",
      " loss 6.519674576818943\n",
      "accuracy :  0.58788973\n",
      "epoch 59 \n",
      " loss 6.9542126171290874\n",
      "accuracy :  0.5824672\n",
      "epoch 60 \n",
      " loss 6.797395668923855\n",
      "accuracy :  0.59466785\n",
      "epoch 61 \n",
      " loss 6.462855760008097\n",
      "accuracy :  0.59466785\n",
      "epoch 62 \n",
      " loss 6.7502627447247505\n",
      "accuracy :  0.5982829\n",
      "epoch 63 \n",
      " loss 6.108816539868712\n",
      "accuracy :  0.5991866\n",
      "epoch 64 \n",
      " loss 6.42989119514823\n",
      "accuracy :  0.58743787\n",
      "epoch 65 \n",
      " loss 10.83940381463617\n",
      "accuracy :  0.5404428\n",
      "epoch 66 \n",
      " loss 19.084480799734592\n",
      "accuracy :  0.59647536\n",
      "epoch 67 \n",
      " loss 10.0611750818789\n",
      "accuracy :  0.60551286\n",
      "epoch 68 \n",
      " loss 9.038396790623665\n",
      "accuracy :  0.59286034\n",
      "epoch 69 \n",
      " loss 8.761916566640139\n",
      "accuracy :  0.60234976\n",
      "epoch 70 \n",
      " loss 7.965003538876772\n",
      "accuracy :  0.6109354\n",
      "epoch 71 \n",
      " loss 6.7072494104504585\n",
      "accuracy :  0.612291\n",
      "epoch 72 \n",
      " loss 5.967936635017395\n",
      "accuracy :  0.6082241\n",
      "epoch 73 \n",
      " loss 5.379656742326915\n",
      "accuracy :  0.601446\n",
      "epoch 74 \n",
      " loss 5.05793821439147\n",
      "accuracy :  0.5933122\n",
      "epoch 75 \n",
      " loss 4.7661292450502515\n",
      "accuracy :  0.5883416\n",
      "epoch 76 \n",
      " loss 4.462057594209909\n",
      "accuracy :  0.58743787\n",
      "epoch 77 \n",
      " loss 4.394629163201898\n",
      "accuracy :  0.5829191\n",
      "epoch 78 \n",
      " loss 6.063329191878438\n",
      "accuracy :  0.58563036\n",
      "epoch 79 \n",
      " loss 6.491590050980449\n",
      "accuracy :  0.5793041\n",
      "epoch 80 \n",
      " loss 9.117094036191702\n",
      "accuracy :  0.59647536\n",
      "epoch 81 \n",
      " loss 7.331561520695686\n",
      "accuracy :  0.5969272\n",
      "epoch 82 \n",
      " loss 7.082775114104152\n",
      "accuracy :  0.6032535\n",
      "epoch 83 \n",
      " loss 5.865341080352664\n",
      "accuracy :  0.61274284\n",
      "epoch 84 \n",
      " loss 5.280536811798811\n",
      "accuracy :  0.601446\n",
      "epoch 85 \n",
      " loss 4.7958273882977664\n",
      "accuracy :  0.6059647\n",
      "epoch 86 \n",
      " loss 4.126201863400638\n",
      "accuracy :  0.6064166\n",
      "epoch 87 \n",
      " loss 4.037714130245149\n",
      "accuracy :  0.60370535\n",
      "epoch 88 \n",
      " loss 3.58826988004148\n",
      "accuracy :  0.6059647\n",
      "epoch 89 \n",
      " loss 3.666369355749339\n",
      "accuracy :  0.61274284\n",
      "epoch 90 \n",
      " loss 3.4074907591566443\n",
      "accuracy :  0.60732037\n",
      "epoch 91 \n",
      " loss 3.2972660900559276\n",
      "accuracy :  0.6082241\n",
      "epoch 92 \n",
      " loss 3.29039967013523\n",
      "accuracy :  0.6028016\n",
      "epoch 93 \n",
      " loss 3.2732560634613037\n",
      "accuracy :  0.6041572\n",
      "epoch 94 \n",
      " loss 3.0145491026341915\n",
      "accuracy :  0.5982829\n",
      "epoch 95 \n",
      " loss 3.140436087269336\n",
      "accuracy :  0.5851785\n",
      "epoch 96 \n",
      " loss 3.229578120401129\n",
      "accuracy :  0.5951197\n",
      "epoch 97 \n",
      " loss 3.402822233736515\n",
      "accuracy :  0.59286034\n",
      "epoch 98 \n",
      " loss 3.6534874634817243\n",
      "accuracy :  0.605061\n",
      "epoch 99 \n",
      " loss 4.741829840000719\n",
      "accuracy :  0.5919566\n",
      "done.\n"
     ]
    }
   ],
   "source": [
    "losses = []\n",
    "losshist = []\n",
    "acchist = []\n",
    "for epoch in range(EPOCH):\n",
    "  all_loss = 0\n",
    "  model.train()\n",
    "  for title, catgory in train_dataloader:\n",
    "    model.zero_grad()\n",
    "    title_tensor = title.to(device)\n",
    "    category_tensor = catgory.to(device)\n",
    "    out = model(title_tensor)\n",
    "    batch_loss = loss_function(out.squeeze(), category_tensor.reshape(-1))\n",
    "    batch_loss.backward()\n",
    "    optimizer.step()\n",
    "    all_loss += batch_loss.item()\n",
    "  print(\"epoch\", epoch, \"\\n\" , \"loss\", all_loss)\n",
    "  losshist.append(all_loss)\n",
    "\n",
    "  model.eval()\n",
    "  with torch.no_grad():\n",
    "    for title, catgory in valid_dataloader:\n",
    "      title_tensor = title.to(device)\n",
    "      category_tensor = catgory.to(device).squeeze()\n",
    "      out = model(title_tensor)\n",
    "      _, preds = torch.max(out, 2)\n",
    "  acc = ((preds == category_tensor).sum() / len(preds.reshape(-1))).cpu().numpy().copy()\n",
    "  print(\"accuracy : \", acc)\n",
    "  acchist.append(acc)\n",
    "  if all_loss < 1: break\n",
    "print(\"done.\")"
   ]
  },
  {
   "cell_type": "markdown",
   "metadata": {
    "id": "YXznmBhBOKaZ"
   },
   "source": [
    "###結果の描画"
   ]
  },
  {
   "cell_type": "code",
   "execution_count": null,
   "metadata": {
    "colab": {
     "base_uri": "https://localhost:8080/",
     "height": 449
    },
    "id": "vTj4C9xhGlat",
    "outputId": "497c628d-9423-4e3b-9e5d-cbdc541e8cab"
   },
   "outputs": [
    {
     "data": {
      "image/png": "[encoded data removed]",
      "text/plain": [
       "<Figure size 640x480 with 1 Axes>"
      ]
     },
     "metadata": {},
     "output_type": "display_data"
    }
   ],
   "source": [
    "import matplotlib.pyplot as plt\n",
    "import numpy as np\n",
    "plt.plot(np.arange(len(losshist)), losshist, 'r')\n",
    "plt.xlabel('Epoch')\n",
    "plt.ylabel('Loss')\n",
    "plt.show()"
   ]
  },
  {
   "cell_type": "code",
   "execution_count": null,
   "metadata": {
    "colab": {
     "base_uri": "https://localhost:8080/",
     "height": 466
    },
    "id": "rWhB3DNjGmnZ",
    "outputId": "735bade5-eefb-49db-91b8-772cd8d4428a"
   },
   "outputs": [
    {
     "data": {
      "text/plain": [
       "<function matplotlib.pyplot.show(close=None, block=None)>"
      ]
     },
     "execution_count": 25,
     "metadata": {},
     "output_type": "execute_result"
    },
    {
     "data": {
      "image/png": "[encoded data removed]",
      "text/plain": [
       "<Figure size 640x480 with 1 Axes>"
      ]
     },
     "metadata": {},
     "output_type": "display_data"
    }
   ],
   "source": [
    "plt.plot(np.arange(len(acchist)), acchist , 'b')\n",
    "plt.xlabel('Epoch')\n",
    "plt.ylabel('Accuracy')\n",
    "plt.show"
   ]
  },
  {
   "cell_type": "markdown",
   "metadata": {
    "id": "Wf2774s4OU7p"
   },
   "source": [
    "### 結果の考察"
   ]
  },
  {
   "cell_type": "markdown",
   "metadata": {
    "id": "92Yw6YZfOyrq"
   },
   "source": [
    "記事の判定の詳細を確認"
   ]
  },
  {
   "cell_type": "code",
   "execution_count": null,
   "metadata": {
    "colab": {
     "base_uri": "https://localhost:8080/",
     "height": 449
    },
    "id": "31qOHmwjGn3h",
    "outputId": "2c023ab0-e790-425d-8dee-f8594705a5b8"
   },
   "outputs": [
    {
     "data": {
      "image/png": "[encoded data removed]",
      "text/plain": [
       "<Figure size 640x480 with 2 Axes>"
      ]
     },
     "metadata": {},
     "output_type": "display_data"
    }
   ],
   "source": [
    "from sklearn.metrics import confusion_matrix\n",
    "from sklearn.metrics import ConfusionMatrixDisplay\n",
    "rescat = category_tensor.cpu().numpy().copy()\n",
    "respreds = preds.cpu().squeeze().numpy().copy()\n",
    "\n",
    "cm = confusion_matrix(rescat, respreds)\n",
    "cm\n",
    "\n",
    "disp =ConfusionMatrixDisplay(confusion_matrix=cm,\n",
    "  display_labels=categories)\n",
    "disp.plot()\n",
    "plt.show()"
   ]
  },
  {
   "cell_type": "markdown",
   "metadata": {
    "id": "mpOW-P4-tVN0"
   },
   "source": [
    "## どっちでもよかった課題(株価予想)"
   ]
  },
  {
   "cell_type": "markdown",
   "metadata": {
    "id": "GmLJpAl9fV7a"
   },
   "source": [
    "ライブラリのインポート"
   ]
  },
  {
   "cell_type": "code",
   "execution_count": null,
   "metadata": {
    "colab": {
     "base_uri": "https://localhost:8080/"
    },
    "id": "B_y2rPlTqkk6",
    "outputId": "40491235-ad5d-4dc4-f281-47b06f84894b"
   },
   "outputs": [
    {
     "data": {
      "text/plain": [
       "<torch._C.Generator at 0x7d7e8ecd0990>"
      ]
     },
     "execution_count": 1,
     "metadata": {},
     "output_type": "execute_result"
    }
   ],
   "source": [
    "cuda = \"cuda:0\"\n",
    "from bs4 import BeautifulSoup\n",
    "import numpy as np\n",
    "import pandas as pd\n",
    "import urllib.request\n",
    "import time\n",
    "import codecs\n",
    "from sklearn.model_selection import train_test_split\n",
    "import torch\n",
    "import torch.nn as nn\n",
    "from torch.utils.data import DataLoader\n",
    "import matplotlib.pyplot as plt\n",
    "torch.manual_seed(1)"
   ]
  },
  {
   "cell_type": "markdown",
   "metadata": {
    "id": "OHackg6_fZKk"
   },
   "source": [
    "株価の取得"
   ]
  },
  {
   "cell_type": "code",
   "execution_count": null,
   "metadata": {
    "id": "NxwPxnWwrvlo"
   },
   "outputs": [],
   "source": [
    "def getstockfromweb():\n",
    "  page_num = 20 # 取得するページ数\n",
    "  tstock = []\n",
    "  for i in range(page_num):\n",
    "    # Yahoo Financeのページを利用\n",
    "    url = \"https://finance.yahoo.co.jp/quote/998407.O/history?from=20170101&to=20211231&timeFrame=d&page=\" + str(i+2)\n",
    "    html = urllib.request.urlopen(url)\n",
    "    soup = BeautifulSoup(html, \"lxml\")\n",
    "    estock = [value.get_text() for value in soup.find_all(\"td\")[0:100]]\n",
    "     #<td></td>に欲しい数値が文字で入っているのでその部分を抽出し、get_textで文字のみさらに抽出する\n",
    "    tstock.extend(estock) # appendではなく一つの大きな配列にするためextendを使う\n",
    "    time.sleep(0.1) # どんどんデータをとると、サーバが察知してデータが取れなくなる\n",
    "  tstock = np.array(tstock) # NumPyへ変換\n",
    "  stock = tstock.reshape(-1, 5)\n",
    "  stock = pd.DataFrame(stock, columns=['date', 'open', 'max', 'min', 'close'], index=stock[:,0])\n",
    "  stock = stock.drop('date',axis=1).apply(lambda x: x.str.replace(',','')).apply(lambda x: x.astype(np.float32))\n",
    "  return stock\n",
    "#  return stock.apply(lambda x: x.str.replace(',','')).astype(np.float32) # 文字を数字に変換\n",
    "# この関数の実行を確認する場合は、次のコードセルを作成して実行するとよい\n",
    "# stock = getstockfromweb()\n",
    "# stock"
   ]
  },
  {
   "cell_type": "code",
   "execution_count": null,
   "metadata": {
    "id": "kZL4LSjDryG7"
   },
   "outputs": [],
   "source": [
    "def getstockdata():\n",
    "  path = 'stockdata.csv'\n",
    "  with codecs.open(path, \"r\", \"Shift-JIS\", \"ignore\") as f:\n",
    "    stock = pd.read_table(f, delimiter=\",\", header=None, names=['date', 'open', 'max', 'min', 'close', 'total', 'adjustment'])\n",
    "    stock = stock.drop(stock.index[[0,1]])[['open', 'max', 'min', 'close', 'total', 'adjustment']].apply(lambda x: x.astype(np.float32))\n",
    "  return stock"
   ]
  },
  {
   "cell_type": "code",
   "execution_count": null,
   "metadata": {
    "colab": {
     "base_uri": "https://localhost:8080/",
     "height": 1000
    },
    "id": "_x6EdSpDr0tY",
    "outputId": "3b284cf8-390e-40e0-a87d-38d4ae6d9435"
   },
   "outputs": [
    {
     "name": "stdout",
     "output_type": "stream",
     "text": [
      "--2023-12-12 08:22:22--  https://keio.box.com/shared/static/xml20yn9im6xiytxe5z25wbja242g61k\n",
      "Resolving keio.box.com (keio.box.com)... 74.112.186.144\n",
      "Connecting to keio.box.com (keio.box.com)|74.112.186.144|:443... connected.\n",
      "HTTP request sent, awaiting response... 301 Moved Permanently\n",
      "Location: /public/static/xml20yn9im6xiytxe5z25wbja242g61k [following]\n",
      "--2023-12-12 08:22:22--  https://keio.box.com/public/static/xml20yn9im6xiytxe5z25wbja242g61k\n",
      "Reusing existing connection to keio.box.com:443.\n",
      "HTTP request sent, awaiting response... 301 Moved Permanently\n",
      "Location: https://keio.app.box.com/public/static/xml20yn9im6xiytxe5z25wbja242g61k [following]\n",
      "--2023-12-12 08:22:22--  https://keio.app.box.com/public/static/xml20yn9im6xiytxe5z25wbja242g61k\n",
      "Resolving keio.app.box.com (keio.app.box.com)... 74.112.186.144\n",
      "Connecting to keio.app.box.com (keio.app.box.com)|74.112.186.144|:443... connected.\n",
      "HTTP request sent, awaiting response... 302 Found\n",
      "Location: https://public.boxcloud.com/d/1/b1!THpeGUPY0p3zTgb4d6LUjLJ_owQsEznWSE1Fq_vRpL5hV7F35WCJNJDY-VeZ7wdO-OiIUlZSgS-hW5Hr13DuvBpcyGCivUVoer6xkXVTHXcU-3Op8wA5driqlW8Uw5AfwIMxKv-8zUC20agENKdUn_yqTvn-FwYTgsloi8EzAbSnjFv0twO7VIEGIdtPWiqFAamRrm2LDfmJdEdTpiqMHn1jfppa2Q0rgkXP4zNMapAMaYCuM1o2Wk-B-5Tc-9Fzd6GQHIB_7gd5aYWjKnVpSNiWs7FFvswiSqRIo-mHP6G1EyY_aC4PtC9KABCzxOV4TgmMWHfp39c1InJKb4WxYxTZxlHdMP1bVd5k0WAPgjvTMvPSrTje2853jXNesjSDPbOH44pux8pUtk-52PUIj16Is3bkQ_h_NhCzbDkTPMSYVw0Rjm3Xszi7Enmowepza3nkLvXovRy3n9yarjSgsJ43LguZPj3e51-FblkZ-Z7El0YMQl-GSKszJ2lmup6ksCKJyfdf-UVn-zIi4rpKo6BOGssn8W-asfR5w-jP--1uCzW9FuG1DVmaayqBxYOyESdX6Uokew2sEhlODc0A65FGVyF4VGuWVN_M3PcB_df9zrdPj1KQ7lR4aE4BuMT89Z3IyvQEssRyYP4kjB773xWLIlGrmcmXPOmnFkQM_lFumMqX0A7QdqYk8NHRUzJ4loO0OPuhjKlsXiK-FScIXxEoRLjNE-VrePJ0U-jX1lB12_WnyzmjXGV6ahnYEvetn5QZQyQP0XpDhy4pC6Vup8-K0ayyFncbqBp7IyuI10IU2o74BsJxq8W1ko_INhZiQBTPJH4SRahUMOSH_s-11_BLULTV0L9GsaiEeadm0S3emAvTCwIxminGpJclsqhlcLVrE0SKvI4FViHjjE3dvkTxANnWRC_61WU5WrufUQnytEv8UimMeGzcQXTKCDcsB3zQt7lmfvmXpGuHtDWvIlEH-IsWPzJKAUqt5wl3oXpBajzqHC-CBDdXXo43-P9g4B3Tn0wP6w-Y4luYl4WF0ZCmgOpxzDCbLE-S5-YCsHlmy5tpuXjnrQVMCLOHcI3N312HCdjqYrKyFX7zf5POXNNOP_kHjtx3nzVfmEywBIoSKADPFVNy0FFXq_FGf6sixM7J3YQwS5XTum8bfajsfv5julb-7tq-bRvjvOn9GTD4C4rix6iv8OW5zNhghmlHU0dbuNlLFg4ckzmLuTI_xDhLJ4kCGSXfDELfuMykW-aL-hqvOV45fzt7J2nEl9NgqyC4AVc_v7vZeo-v5lxG5LDpvVdmGuPKnwhV2wu1SHstFlQvLJwESF-53oMKj-vxehX7UTUiBeKfHho0SMVD5yQT-Xk./download [following]\n",
      "--2023-12-12 08:22:22--  https://public.boxcloud.com/d/1/b1!THpeGUPY0p3zTgb4d6LUjLJ_owQsEznWSE1Fq_vRpL5hV7F35WCJNJDY-VeZ7wdO-OiIUlZSgS-hW5Hr13DuvBpcyGCivUVoer6xkXVTHXcU-3Op8wA5driqlW8Uw5AfwIMxKv-8zUC20agENKdUn_yqTvn-FwYTgsloi8EzAbSnjFv0twO7VIEGIdtPWiqFAamRrm2LDfmJdEdTpiqMHn1jfppa2Q0rgkXP4zNMapAMaYCuM1o2Wk-B-5Tc-9Fzd6GQHIB_7gd5aYWjKnVpSNiWs7FFvswiSqRIo-mHP6G1EyY_aC4PtC9KABCzxOV4TgmMWHfp39c1InJKb4WxYxTZxlHdMP1bVd5k0WAPgjvTMvPSrTje2853jXNesjSDPbOH44pux8pUtk-52PUIj16Is3bkQ_h_NhCzbDkTPMSYVw0Rjm3Xszi7Enmowepza3nkLvXovRy3n9yarjSgsJ43LguZPj3e51-FblkZ-Z7El0YMQl-GSKszJ2lmup6ksCKJyfdf-UVn-zIi4rpKo6BOGssn8W-asfR5w-jP--1uCzW9FuG1DVmaayqBxYOyESdX6Uokew2sEhlODc0A65FGVyF4VGuWVN_M3PcB_df9zrdPj1KQ7lR4aE4BuMT89Z3IyvQEssRyYP4kjB773xWLIlGrmcmXPOmnFkQM_lFumMqX0A7QdqYk8NHRUzJ4loO0OPuhjKlsXiK-FScIXxEoRLjNE-VrePJ0U-jX1lB12_WnyzmjXGV6ahnYEvetn5QZQyQP0XpDhy4pC6Vup8-K0ayyFncbqBp7IyuI10IU2o74BsJxq8W1ko_INhZiQBTPJH4SRahUMOSH_s-11_BLULTV0L9GsaiEeadm0S3emAvTCwIxminGpJclsqhlcLVrE0SKvI4FViHjjE3dvkTxANnWRC_61WU5WrufUQnytEv8UimMeGzcQXTKCDcsB3zQt7lmfvmXpGuHtDWvIlEH-IsWPzJKAUqt5wl3oXpBajzqHC-CBDdXXo43-P9g4B3Tn0wP6w-Y4luYl4WF0ZCmgOpxzDCbLE-S5-YCsHlmy5tpuXjnrQVMCLOHcI3N312HCdjqYrKyFX7zf5POXNNOP_kHjtx3nzVfmEywBIoSKADPFVNy0FFXq_FGf6sixM7J3YQwS5XTum8bfajsfv5julb-7tq-bRvjvOn9GTD4C4rix6iv8OW5zNhghmlHU0dbuNlLFg4ckzmLuTI_xDhLJ4kCGSXfDELfuMykW-aL-hqvOV45fzt7J2nEl9NgqyC4AVc_v7vZeo-v5lxG5LDpvVdmGuPKnwhV2wu1SHstFlQvLJwESF-53oMKj-vxehX7UTUiBeKfHho0SMVD5yQT-Xk./download\n",
      "Resolving public.boxcloud.com (public.boxcloud.com)... 74.112.186.128\n",
      "Connecting to public.boxcloud.com (public.boxcloud.com)|74.112.186.128|:443... connected.\n",
      "HTTP request sent, awaiting response... 200 OK\n",
      "Length: 8808 (8.6K) [text/csv]\n",
      "Saving to: ‘stockdata.csv’\n",
      "\n",
      "stockdata.csv       100%[===================>]   8.60K  --.-KB/s    in 0.005s  \n",
      "\n",
      "2023-12-12 08:22:23 (1.76 MB/s) - ‘stockdata.csv’ saved [8808/8808]\n",
      "\n",
      "open          float32\n",
      "max           float32\n",
      "min           float32\n",
      "close         float32\n",
      "total         float32\n",
      "adjustment    float32\n",
      "dtype: object\n",
      "       open     max     min   close     total  adjustment\n",
      "2    2770.0  2776.0  2690.0  2690.0  462800.0      2690.0\n",
      "3    2725.0  2751.0  2709.0  2750.0  240700.0      2750.0\n",
      "4    2714.0  2727.0  2692.0  2711.0  275800.0      2711.0\n",
      "5    2734.0  2756.0  2732.0  2749.0  213800.0      2749.0\n",
      "6    2765.0  2773.0  2753.0  2755.0  175400.0      2755.0\n",
      "..      ...     ...     ...     ...       ...         ...\n",
      "150  2274.0  2285.0  2262.0  2276.0   88000.0      2276.0\n",
      "151  2270.0  2291.0  2255.0  2255.0   86600.0      2255.0\n",
      "152  2255.0  2255.0  2228.0  2228.0  126100.0      2228.0\n",
      "153  2265.0  2290.0  2257.0  2271.0  217100.0      2271.0\n",
      "154  2294.0  2294.0  2265.0  2276.0  133300.0      2276.0\n",
      "\n",
      "[153 rows x 6 columns]\n"
     ]
    },
    {
     "data": {
      "text/html": [
       "\n",
       "  <div id=\"df-49af110d-0dfe-4309-8d33-094d21b63f2e\" class=\"colab-df-container\">\n",
       "    <div>\n",
       "<style scoped>\n",
       "    .dataframe tbody tr th:only-of-type {\n",
       "        vertical-align: middle;\n",
       "    }\n",
       "\n",
       "    .dataframe tbody tr th {\n",
       "        vertical-align: top;\n",
       "    }\n",
       "\n",
       "    .dataframe thead th {\n",
       "        text-align: right;\n",
       "    }\n",
       "</style>\n",
       "<table border=\"1\" class=\"dataframe\">\n",
       "  <thead>\n",
       "    <tr style=\"text-align: right;\">\n",
       "      <th></th>\n",
       "      <th>close</th>\n",
       "    </tr>\n",
       "  </thead>\n",
       "  <tbody>\n",
       "    <tr>\n",
       "      <th>0</th>\n",
       "      <td>2690.0</td>\n",
       "    </tr>\n",
       "    <tr>\n",
       "      <th>1</th>\n",
       "      <td>2750.0</td>\n",
       "    </tr>\n",
       "    <tr>\n",
       "      <th>2</th>\n",
       "      <td>2711.0</td>\n",
       "    </tr>\n",
       "    <tr>\n",
       "      <th>3</th>\n",
       "      <td>2749.0</td>\n",
       "    </tr>\n",
       "    <tr>\n",
       "      <th>4</th>\n",
       "      <td>2755.0</td>\n",
       "    </tr>\n",
       "    <tr>\n",
       "      <th>...</th>\n",
       "      <td>...</td>\n",
       "    </tr>\n",
       "    <tr>\n",
       "      <th>148</th>\n",
       "      <td>2276.0</td>\n",
       "    </tr>\n",
       "    <tr>\n",
       "      <th>149</th>\n",
       "      <td>2255.0</td>\n",
       "    </tr>\n",
       "    <tr>\n",
       "      <th>150</th>\n",
       "      <td>2228.0</td>\n",
       "    </tr>\n",
       "    <tr>\n",
       "      <th>151</th>\n",
       "      <td>2271.0</td>\n",
       "    </tr>\n",
       "    <tr>\n",
       "      <th>152</th>\n",
       "      <td>2276.0</td>\n",
       "    </tr>\n",
       "  </tbody>\n",
       "</table>\n",
       "<p>153 rows × 1 columns</p>\n",
       "</div>\n",
       "    <div class=\"colab-df-buttons\">\n",
       "\n",
       "  <div class=\"colab-df-container\">\n",
       "    <button class=\"colab-df-convert\" onclick=\"convertToInteractive('df-49af110d-0dfe-4309-8d33-094d21b63f2e')\"\n",
       "            title=\"Convert this dataframe to an interactive table.\"\n",
       "            style=\"display:none;\">\n",
       "\n",
       "  <svg xmlns=\"http://www.w3.org/2000/svg\" height=\"24px\" viewBox=\"0 -960 960 960\">\n",
       "    <path d=\"M120-120v-720h720v720H120Zm60-500h600v-160H180v160Zm220 220h160v-160H400v160Zm0 220h160v-160H400v160ZM180-400h160v-160H180v160Zm440 0h160v-160H620v160ZM180-180h160v-160H180v160Zm440 0h160v-160H620v160Z\"/>\n",
       "  </svg>\n",
       "    </button>\n",
       "\n",
       "  <style>\n",
       "    .colab-df-container {\n",
       "      display:flex;\n",
       "      gap: 12px;\n",
       "    }\n",
       "\n",
       "    .colab-df-convert {\n",
       "      background-color: #E8F0FE;\n",
       "      border: none;\n",
       "      border-radius: 50%;\n",
       "      cursor: pointer;\n",
       "      display: none;\n",
       "      fill: #1967D2;\n",
       "      height: 32px;\n",
       "      padding: 0 0 0 0;\n",
       "      width: 32px;\n",
       "    }\n",
       "\n",
       "    .colab-df-convert:hover {\n",
       "      background-color: #E2EBFA;\n",
       "      box-shadow: 0px 1px 2px rgba(60, 64, 67, 0.3), 0px 1px 3px 1px rgba(60, 64, 67, 0.15);\n",
       "      fill: #174EA6;\n",
       "    }\n",
       "\n",
       "    .colab-df-buttons div {\n",
       "      margin-bottom: 4px;\n",
       "    }\n",
       "\n",
       "    [theme=dark] .colab-df-convert {\n",
       "      background-color: #3B4455;\n",
       "      fill: #D2E3FC;\n",
       "    }\n",
       "\n",
       "    [theme=dark] .colab-df-convert:hover {\n",
       "      background-color: #434B5C;\n",
       "      box-shadow: 0px 1px 3px 1px rgba(0, 0, 0, 0.15);\n",
       "      filter: drop-shadow(0px 1px 2px rgba(0, 0, 0, 0.3));\n",
       "      fill: #FFFFFF;\n",
       "    }\n",
       "  </style>\n",
       "\n",
       "    <script>\n",
       "      const buttonEl =\n",
       "        document.querySelector('#df-49af110d-0dfe-4309-8d33-094d21b63f2e button.colab-df-convert');\n",
       "      buttonEl.style.display =\n",
       "        google.colab.kernel.accessAllowed ? 'block' : 'none';\n",
       "\n",
       "      async function convertToInteractive(key) {\n",
       "        const element = document.querySelector('#df-49af110d-0dfe-4309-8d33-094d21b63f2e');\n",
       "        const dataTable =\n",
       "          await google.colab.kernel.invokeFunction('convertToInteractive',\n",
       "                                                    [key], {});\n",
       "        if (!dataTable) return;\n",
       "\n",
       "        const docLinkHtml = 'Like what you see? Visit the ' +\n",
       "          '<a target=\"_blank\" href=https://colab.research.google.com/notebooks/data_table.ipynb>data table notebook</a>'\n",
       "          + ' to learn more about interactive tables.';\n",
       "        element.innerHTML = '';\n",
       "        dataTable['output_type'] = 'display_data';\n",
       "        await google.colab.output.renderOutput(dataTable, element);\n",
       "        const docLink = document.createElement('div');\n",
       "        docLink.innerHTML = docLinkHtml;\n",
       "        element.appendChild(docLink);\n",
       "      }\n",
       "    </script>\n",
       "  </div>\n",
       "\n",
       "\n",
       "<div id=\"df-ff7a41dd-34dc-4d45-8076-9876e7780405\">\n",
       "  <button class=\"colab-df-quickchart\" onclick=\"quickchart('df-ff7a41dd-34dc-4d45-8076-9876e7780405')\"\n",
       "            title=\"Suggest charts\"\n",
       "            style=\"display:none;\">\n",
       "\n",
       "<svg xmlns=\"http://www.w3.org/2000/svg\" height=\"24px\"viewBox=\"0 0 24 24\"\n",
       "     width=\"24px\">\n",
       "    <g>\n",
       "        <path d=\"M19 3H5c-1.1 0-2 .9-2 2v14c0 1.1.9 2 2 2h14c1.1 0 2-.9 2-2V5c0-1.1-.9-2-2-2zM9 17H7v-7h2v7zm4 0h-2V7h2v10zm4 0h-2v-4h2v4z\"/>\n",
       "    </g>\n",
       "</svg>\n",
       "  </button>\n",
       "\n",
       "<style>\n",
       "  .colab-df-quickchart {\n",
       "      --bg-color: #E8F0FE;\n",
       "      --fill-color: #1967D2;\n",
       "      --hover-bg-color: #E2EBFA;\n",
       "      --hover-fill-color: #174EA6;\n",
       "      --disabled-fill-color: #AAA;\n",
       "      --disabled-bg-color: #DDD;\n",
       "  }\n",
       "\n",
       "  [theme=dark] .colab-df-quickchart {\n",
       "      --bg-color: #3B4455;\n",
       "      --fill-color: #D2E3FC;\n",
       "      --hover-bg-color: #434B5C;\n",
       "      --hover-fill-color: #FFFFFF;\n",
       "      --disabled-bg-color: #3B4455;\n",
       "      --disabled-fill-color: #666;\n",
       "  }\n",
       "\n",
       "  .colab-df-quickchart {\n",
       "    background-color: var(--bg-color);\n",
       "    border: none;\n",
       "    border-radius: 50%;\n",
       "    cursor: pointer;\n",
       "    display: none;\n",
       "    fill: var(--fill-color);\n",
       "    height: 32px;\n",
       "    padding: 0;\n",
       "    width: 32px;\n",
       "  }\n",
       "\n",
       "  .colab-df-quickchart:hover {\n",
       "    background-color: var(--hover-bg-color);\n",
       "    box-shadow: 0 1px 2px rgba(60, 64, 67, 0.3), 0 1px 3px 1px rgba(60, 64, 67, 0.15);\n",
       "    fill: var(--button-hover-fill-color);\n",
       "  }\n",
       "\n",
       "  .colab-df-quickchart-complete:disabled,\n",
       "  .colab-df-quickchart-complete:disabled:hover {\n",
       "    background-color: var(--disabled-bg-color);\n",
       "    fill: var(--disabled-fill-color);\n",
       "    box-shadow: none;\n",
       "  }\n",
       "\n",
       "  .colab-df-spinner {\n",
       "    border: 2px solid var(--fill-color);\n",
       "    border-color: transparent;\n",
       "    border-bottom-color: var(--fill-color);\n",
       "    animation:\n",
       "      spin 1s steps(1) infinite;\n",
       "  }\n",
       "\n",
       "  @keyframes spin {\n",
       "    0% {\n",
       "      border-color: transparent;\n",
       "      border-bottom-color: var(--fill-color);\n",
       "      border-left-color: var(--fill-color);\n",
       "    }\n",
       "    20% {\n",
       "      border-color: transparent;\n",
       "      border-left-color: var(--fill-color);\n",
       "      border-top-color: var(--fill-color);\n",
       "    }\n",
       "    30% {\n",
       "      border-color: transparent;\n",
       "      border-left-color: var(--fill-color);\n",
       "      border-top-color: var(--fill-color);\n",
       "      border-right-color: var(--fill-color);\n",
       "    }\n",
       "    40% {\n",
       "      border-color: transparent;\n",
       "      border-right-color: var(--fill-color);\n",
       "      border-top-color: var(--fill-color);\n",
       "    }\n",
       "    60% {\n",
       "      border-color: transparent;\n",
       "      border-right-color: var(--fill-color);\n",
       "    }\n",
       "    80% {\n",
       "      border-color: transparent;\n",
       "      border-right-color: var(--fill-color);\n",
       "      border-bottom-color: var(--fill-color);\n",
       "    }\n",
       "    90% {\n",
       "      border-color: transparent;\n",
       "      border-bottom-color: var(--fill-color);\n",
       "    }\n",
       "  }\n",
       "</style>\n",
       "\n",
       "  <script>\n",
       "    async function quickchart(key) {\n",
       "      const quickchartButtonEl =\n",
       "        document.querySelector('#' + key + ' button');\n",
       "      quickchartButtonEl.disabled = true;  // To prevent multiple clicks.\n",
       "      quickchartButtonEl.classList.add('colab-df-spinner');\n",
       "      try {\n",
       "        const charts = await google.colab.kernel.invokeFunction(\n",
       "            'suggestCharts', [key], {});\n",
       "      } catch (error) {\n",
       "        console.error('Error during call to suggestCharts:', error);\n",
       "      }\n",
       "      quickchartButtonEl.classList.remove('colab-df-spinner');\n",
       "      quickchartButtonEl.classList.add('colab-df-quickchart-complete');\n",
       "    }\n",
       "    (() => {\n",
       "      let quickchartButtonEl =\n",
       "        document.querySelector('#df-ff7a41dd-34dc-4d45-8076-9876e7780405 button');\n",
       "      quickchartButtonEl.style.display =\n",
       "        google.colab.kernel.accessAllowed ? 'block' : 'none';\n",
       "    })();\n",
       "  </script>\n",
       "</div>\n",
       "\n",
       "  <div id=\"id_e2089c22-7622-43b7-8852-dba06a1131ab\">\n",
       "    <style>\n",
       "      .colab-df-generate {\n",
       "        background-color: #E8F0FE;\n",
       "        border: none;\n",
       "        border-radius: 50%;\n",
       "        cursor: pointer;\n",
       "        display: none;\n",
       "        fill: #1967D2;\n",
       "        height: 32px;\n",
       "        padding: 0 0 0 0;\n",
       "        width: 32px;\n",
       "      }\n",
       "\n",
       "      .colab-df-generate:hover {\n",
       "        background-color: #E2EBFA;\n",
       "        box-shadow: 0px 1px 2px rgba(60, 64, 67, 0.3), 0px 1px 3px 1px rgba(60, 64, 67, 0.15);\n",
       "        fill: #174EA6;\n",
       "      }\n",
       "\n",
       "      [theme=dark] .colab-df-generate {\n",
       "        background-color: #3B4455;\n",
       "        fill: #D2E3FC;\n",
       "      }\n",
       "\n",
       "      [theme=dark] .colab-df-generate:hover {\n",
       "        background-color: #434B5C;\n",
       "        box-shadow: 0px 1px 3px 1px rgba(0, 0, 0, 0.15);\n",
       "        filter: drop-shadow(0px 1px 2px rgba(0, 0, 0, 0.3));\n",
       "        fill: #FFFFFF;\n",
       "      }\n",
       "    </style>\n",
       "    <button class=\"colab-df-generate\" onclick=\"generateWithVariable('df')\"\n",
       "            title=\"Generate code using this dataframe.\"\n",
       "            style=\"display:none;\">\n",
       "\n",
       "  <svg xmlns=\"http://www.w3.org/2000/svg\" height=\"24px\"viewBox=\"0 0 24 24\"\n",
       "       width=\"24px\">\n",
       "    <path d=\"M7,19H8.4L18.45,9,17,7.55,7,17.6ZM5,21V16.75L18.45,3.32a2,2,0,0,1,2.83,0l1.4,1.43a1.91,1.91,0,0,1,.58,1.4,1.91,1.91,0,0,1-.58,1.4L9.25,21ZM18.45,9,17,7.55Zm-12,3A5.31,5.31,0,0,0,4.9,8.1,5.31,5.31,0,0,0,1,6.5,5.31,5.31,0,0,0,4.9,4.9,5.31,5.31,0,0,0,6.5,1,5.31,5.31,0,0,0,8.1,4.9,5.31,5.31,0,0,0,12,6.5,5.46,5.46,0,0,0,6.5,12Z\"/>\n",
       "  </svg>\n",
       "    </button>\n",
       "    <script>\n",
       "      (() => {\n",
       "      const buttonEl =\n",
       "        document.querySelector('#id_e2089c22-7622-43b7-8852-dba06a1131ab button.colab-df-generate');\n",
       "      buttonEl.style.display =\n",
       "        google.colab.kernel.accessAllowed ? 'block' : 'none';\n",
       "\n",
       "      buttonEl.onclick = () => {\n",
       "        google.colab.notebook.generateWithVariable('df');\n",
       "      }\n",
       "      })();\n",
       "    </script>\n",
       "  </div>\n",
       "\n",
       "    </div>\n",
       "  </div>\n"
      ],
      "text/plain": [
       "      close\n",
       "0    2690.0\n",
       "1    2750.0\n",
       "2    2711.0\n",
       "3    2749.0\n",
       "4    2755.0\n",
       "..      ...\n",
       "148  2276.0\n",
       "149  2255.0\n",
       "150  2228.0\n",
       "151  2271.0\n",
       "152  2276.0\n",
       "\n",
       "[153 rows x 1 columns]"
      ]
     },
     "execution_count": 4,
     "metadata": {},
     "output_type": "execute_result"
    }
   ],
   "source": [
    "whichdata = False # webスクレイピングを利用する、Falseでダウンロードデータを利用する\n",
    "if whichdata==True:\n",
    "  dfp = getstockfromweb()\n",
    "  print(dfp.dtypes)\n",
    "  print(dfp)\n",
    "  df = dfp.reset_index(drop=True).drop(columns=['open', 'max', 'min'])\n",
    "else:\n",
    "  import os\n",
    "  if not os.path.exists('stockdata.csv'):\n",
    "      #!wget \"https://drive.google.com/uc?export=download&id=1OsqF2vQ94ZF8gA0IEjhp0rJM-2lnyfUw\" -O stockdata.csv\n",
    "      !wget https://keio.box.com/shared/static/xml20yn9im6xiytxe5z25wbja242g61k -O stockdata.csv\n",
    "  dfp = getstockdata()\n",
    "  print(dfp.dtypes)\n",
    "  print(dfp)\n",
    "  df = dfp.reset_index(drop=True).drop(columns=['open','max','min','total','adjustment'])\n",
    "df"
   ]
  },
  {
   "cell_type": "markdown",
   "metadata": {
    "id": "JEZfrWI_f0sF"
   },
   "source": [
    "学習用データを作成\n",
    "- 正規化をして精度を上げる"
   ]
  },
  {
   "cell_type": "code",
   "execution_count": null,
   "metadata": {
    "colab": {
     "base_uri": "https://localhost:8080/"
    },
    "id": "H8wexwkhr21u",
    "outputId": "a6c71b5c-6c76-4a6c-e956-072c6af0a828"
   },
   "outputs": [
    {
     "name": "stdout",
     "output_type": "stream",
     "text": [
      "total_len: 153  train_len: 108 test_len: 45\n"
     ]
    }
   ],
   "source": [
    "#訓練データとテストデータに分割\n",
    "test_size = 0.3\n",
    "sp = df['close'].values # pandasからnumpyへ変換\n",
    "total_len = len(sp)\n",
    "test_len = int(len(sp)*test_size)\n",
    "train_len = total_len - test_len\n",
    "print(\"total_len:\", total_len, \" train_len:\", train_len, \"test_len:\", test_len)\n",
    "train = sp[0:train_len]\n",
    "test = sp[train_len:total_len]\n",
    "x_max, x_min = max(sp), min(sp)\n",
    "train_norm = (train - x_min) / (x_max - x_min) # 正規化\n",
    "test_norm = (test - x_min) / (x_max - x_min) # 正規化"
   ]
  },
  {
   "cell_type": "markdown",
   "metadata": {
    "id": "jUAZsMf9f7Tt"
   },
   "source": [
    "データを分割"
   ]
  },
  {
   "cell_type": "code",
   "execution_count": null,
   "metadata": {
    "id": "LDhZlCpUr3Z_"
   },
   "outputs": [],
   "source": [
    "#時系列データに分割\n",
    "n_time = 6\n",
    "x_train, y_train, x_test, y_test= [], [], [], []\n",
    "for i in range(train_len-n_time):\n",
    "  x_train.append(train_norm[i:i+n_time].reshape(-1,1))\n",
    "  y_train.append(train_norm[i+n_time])\n",
    "for i in range(test_len-n_time):\n",
    "  x_test.append(test_norm[i:i+n_time])\n",
    "  y_test.append(test_norm[i+n_time])"
   ]
  },
  {
   "cell_type": "markdown",
   "metadata": {
    "id": "1XWxbhwpgL6c"
   },
   "source": [
    "作成したデータをTensorDatasetとしてDataLoaderに渡す"
   ]
  },
  {
   "cell_type": "code",
   "execution_count": null,
   "metadata": {
    "colab": {
     "base_uri": "https://localhost:8080/"
    },
    "id": "VwU8arohr5eF",
    "outputId": "9fe4e3ed-5ee7-4821-97c8-4095c27c149a"
   },
   "outputs": [
    {
     "name": "stdout",
     "output_type": "stream",
     "text": [
      "cuda:0\n"
     ]
    },
    {
     "name": "stderr",
     "output_type": "stream",
     "text": [
      "<ipython-input-7-a05a55699403>:3: UserWarning: Creating a tensor from a list of numpy.ndarrays is extremely slow. Please consider converting the list to a single numpy.ndarray with numpy.array() before converting to a tensor. (Triggered internally at ../torch/csrc/utils/tensor_new.cpp:261.)\n",
      "  train_input_data = torch.tensor(x_train, dtype=torch.float)  # テンソルに変換\n"
     ]
    }
   ],
   "source": [
    "epochs = 50\n",
    "batch_size = 32\n",
    "train_input_data = torch.tensor(x_train, dtype=torch.float)  # テンソルに変換\n",
    "train_correct_data = torch.tensor(y_train, dtype=torch.float)\n",
    "train_dataset = torch.utils.data.TensorDataset(train_input_data, train_correct_data)  # trainデータセットの作成\n",
    "train_loader = DataLoader(train_dataset, batch_size=batch_size)\n",
    "\n",
    "test_input_data = torch.tensor(x_test, dtype=torch.float)  # テンソルに変換\n",
    "test_correct_data = torch.tensor(y_test, dtype=torch.float)\n",
    "test_dataset = torch.utils.data.TensorDataset(test_input_data, test_correct_data)  # testデータセットの作成\n",
    "test_loader = DataLoader(test_dataset, batch_size=len(x_test))\n",
    "\n",
    "device = torch.device(cuda if torch.cuda.is_available() else \"cpu\")\n",
    "print(device)"
   ]
  },
  {
   "cell_type": "markdown",
   "metadata": {
    "id": "w7wYTKbQhUIL"
   },
   "source": [
    "損失関数の計算の定義"
   ]
  },
  {
   "cell_type": "code",
   "execution_count": null,
   "metadata": {
    "id": "RXbKjrsIgF-1"
   },
   "outputs": [],
   "source": [
    "def learn():\n",
    "  loss_func = nn.MSELoss()\n",
    "  optimizer = torch.optim.Adam(model.parameters(), lr=0.01)\n",
    "  record_loss_train = []\n",
    "  model.train()\n",
    "  time_sta = time.perf_counter()\n",
    "  for i in range(epochs):\n",
    "    for j, (x, t) in enumerate(train_loader):\n",
    "      x, t = x.to(device), t.reshape(-1,1).to(device)\n",
    "      y = model(x)\n",
    "      loss = loss_func(y, t)\n",
    "      optimizer.zero_grad()\n",
    "      loss.backward()\n",
    "      optimizer.step()\n",
    "    loss /= j+1\n",
    "    record_loss_train.append(loss.item()) # 勾配情報を消す・lossの計算結果をGPUからCPUに移すためにloss→loss.item()\n",
    "    print(f'epoch: {i:3} loss: {loss.item():10.8f}')\n",
    "  plt.plot(range(len(record_loss_train)), record_loss_train, label=\"Train\")\n",
    "  plt.legend()\n",
    "  plt.xlabel(\"Epochs\")\n",
    "  plt.ylabel(\"Loss\")\n",
    "  plt.show()\n",
    "  time_end = time.perf_counter()\n",
    "  print(\"Elapsed Time:\",  time_end- time_sta)\n",
    "  return record_loss_train"
   ]
  },
  {
   "cell_type": "code",
   "execution_count": null,
   "metadata": {
    "id": "2fOj8mKgr_2v"
   },
   "outputs": [],
   "source": [
    "def show(record_loss_train):\n",
    "  sp_norm = sp/x_max\n",
    "  in_true = list(sp_norm.reshape(-1).astype(np.float32)) # ここの意味を理解する\n",
    "  pred = []\n",
    "  model.eval()\n",
    "  for i in range(n_time):\n",
    "    pred.append(0)\n",
    "  with torch.no_grad():\n",
    "    for i in range(len(sp)-n_time):\n",
    "      x = torch.tensor(in_true[i:i+n_time])  # 直近の時系列を取り出す\n",
    "      x = x.reshape(1, -1, 1)  # (バッチサイズ, 時系列の数, 入力の数)\n",
    "      y = model(x)\n",
    "      pred.append(y[0].item())  # 予測結果をpredictedに追加する\n",
    "  plt.plot(range(len(sp)), sp, label=\"Correct\")\n",
    "  pred = np.array(pred)\n",
    "  pred = pred * x_max\n",
    "  plt.plot(range(len(pred)), pred, label=\"Predicted\")\n",
    "  plt.legend()\n",
    "  plt.show()"
   ]
  },
  {
   "cell_type": "markdown",
   "metadata": {
    "id": "0eReER7Di9ak"
   },
   "source": [
    "ここの意味を理解する→CPUはFP64・GPUはFP32のため，GPUにCPUが扱えるFP64を入れると桁あふれによりエラーになる．つまり，`.astype(np.float32)`によってCPUをFP32に変換してからGPUに入れるようにする．"
   ]
  },
  {
   "cell_type": "markdown",
   "metadata": {
    "id": "rsxgvHOdgQVK"
   },
   "source": [
    "### ①GRUを用いた評価"
   ]
  },
  {
   "cell_type": "code",
   "execution_count": null,
   "metadata": {
    "colab": {
     "base_uri": "https://localhost:8080/"
    },
    "id": "UPdvt42Or8UC",
    "outputId": "33c7bb2d-f4a6-4d7a-93a3-bbca904e64e8"
   },
   "outputs": [
    {
     "name": "stdout",
     "output_type": "stream",
     "text": [
      "GRUN(\n",
      "  (gru): GRU(1, 100, batch_first=True)\n",
      "  (fc): Linear(in_features=100, out_features=1, bias=True)\n",
      ")\n"
     ]
    }
   ],
   "source": [
    "class GRUN(nn.Module):\n",
    "  def __init__(self, input_size, hidden_size, output_size):\n",
    "    super(GRUN, self).__init__()\n",
    "    self.gru = nn.GRU(input_size, hidden_size, batch_first=True)\n",
    "    self.fc = nn.Linear(hidden_size, output_size)\n",
    "  def forward(self, x):\n",
    "    x = x.to(device)\n",
    "    y_gru, h = self.gru(x, None)\n",
    "    y = self.fc(y_gru[:, -1, :])\n",
    "    return y\n",
    "model = GRUN(1, 100, 1).to(device)\n",
    "print(model)"
   ]
  },
  {
   "cell_type": "markdown",
   "metadata": {
    "id": "U0EG61b6oip6"
   },
   "source": [
    "結果の表示"
   ]
  },
  {
   "cell_type": "code",
   "execution_count": null,
   "metadata": {
    "colab": {
     "base_uri": "https://localhost:8080/",
     "height": 1000
    },
    "id": "pXi8Me2_maAp",
    "outputId": "51977f43-21aa-423d-cd92-2d12a7312797"
   },
   "outputs": [
    {
     "name": "stdout",
     "output_type": "stream",
     "text": [
      "epoch:   0 loss: 0.00967935\n",
      "epoch:   1 loss: 0.00280316\n",
      "epoch:   2 loss: 0.00451574\n",
      "epoch:   3 loss: 0.00312620\n",
      "epoch:   4 loss: 0.00327820\n",
      "epoch:   5 loss: 0.00317253\n",
      "epoch:   6 loss: 0.00380984\n",
      "epoch:   7 loss: 0.00188703\n",
      "epoch:   8 loss: 0.00322448\n",
      "epoch:   9 loss: 0.00181429\n",
      "epoch:  10 loss: 0.00336591\n",
      "epoch:  11 loss: 0.00148389\n",
      "epoch:  12 loss: 0.00350043\n",
      "epoch:  13 loss: 0.00116995\n",
      "epoch:  14 loss: 0.00380802\n",
      "epoch:  15 loss: 0.00111535\n",
      "epoch:  16 loss: 0.00505430\n",
      "epoch:  17 loss: 0.00144987\n",
      "epoch:  18 loss: 0.00570019\n",
      "epoch:  19 loss: 0.00111853\n",
      "epoch:  20 loss: 0.00194127\n",
      "epoch:  21 loss: 0.00167483\n",
      "epoch:  22 loss: 0.00076093\n",
      "epoch:  23 loss: 0.00187043\n",
      "epoch:  24 loss: 0.00079760\n",
      "epoch:  25 loss: 0.00085599\n",
      "epoch:  26 loss: 0.00116590\n",
      "epoch:  27 loss: 0.00068414\n",
      "epoch:  28 loss: 0.00100962\n",
      "epoch:  29 loss: 0.00079887\n",
      "epoch:  30 loss: 0.00076069\n",
      "epoch:  31 loss: 0.00088649\n",
      "epoch:  32 loss: 0.00069236\n",
      "epoch:  33 loss: 0.00079176\n",
      "epoch:  34 loss: 0.00069998\n",
      "epoch:  35 loss: 0.00069429\n",
      "epoch:  36 loss: 0.00070448\n",
      "epoch:  37 loss: 0.00065166\n",
      "epoch:  38 loss: 0.00068847\n",
      "epoch:  39 loss: 0.00063650\n",
      "epoch:  40 loss: 0.00066172\n",
      "epoch:  41 loss: 0.00062564\n",
      "epoch:  42 loss: 0.00063691\n",
      "epoch:  43 loss: 0.00061506\n",
      "epoch:  44 loss: 0.00062049\n",
      "epoch:  45 loss: 0.00060668\n",
      "epoch:  46 loss: 0.00061053\n",
      "epoch:  47 loss: 0.00059900\n",
      "epoch:  48 loss: 0.00060298\n",
      "epoch:  49 loss: 0.00059085\n"
     ]
    },
    {
     "data": {
      "image/png": "[encoded data removed]",
      "text/plain": [
       "<Figure size 640x480 with 1 Axes>"
      ]
     },
     "metadata": {},
     "output_type": "display_data"
    },
    {
     "name": "stdout",
     "output_type": "stream",
     "text": [
      "Elapsed Time: 1.8662660610000046\n"
     ]
    },
    {
     "data": {
      "image/png": "[encoded data removed]",
      "text/plain": [
       "<Figure size 640x480 with 1 Axes>"
      ]
     },
     "metadata": {},
     "output_type": "display_data"
    }
   ],
   "source": [
    "result = learn()\n",
    "show(learn)"
   ]
  },
  {
   "cell_type": "code",
   "execution_count": null,
   "metadata": {
    "id": "u14sr69KnjLF"
   },
   "outputs": [],
   "source": [
    "gruloss = result[-1]"
   ]
  },
  {
   "cell_type": "markdown",
   "metadata": {
    "id": "80XyvX7toJT8"
   },
   "source": [
    "### ②RNNを用いた評価"
   ]
  },
  {
   "cell_type": "code",
   "execution_count": null,
   "metadata": {
    "colab": {
     "base_uri": "https://localhost:8080/"
    },
    "id": "NeBFlEEpmnD_",
    "outputId": "3e3d44da-3f68-429b-f27b-51c554106486"
   },
   "outputs": [
    {
     "name": "stdout",
     "output_type": "stream",
     "text": [
      "RNNN(\n",
      "  (rnn): RNN(1, 100, batch_first=True)\n",
      "  (fc): Linear(in_features=100, out_features=1, bias=True)\n",
      ")\n"
     ]
    }
   ],
   "source": [
    "class RNNN(nn.Module):\n",
    "  def __init__(self, input_size, hidden_size, output_size):\n",
    "    super(RNNN, self).__init__()\n",
    "    self.rnn = nn.RNN(input_size, hidden_size, batch_first=True)\n",
    "    self.fc = nn.Linear(hidden_size, output_size)\n",
    "  def forward(self, x):\n",
    "    x = x.to(device)\n",
    "    y_rnn, h = self.rnn(x, None)\n",
    "    y = self.fc(y_rnn[:, -1, :])\n",
    "    return y\n",
    "model = RNNN(1, 100, 1).to(device)\n",
    "print(model)"
   ]
  },
  {
   "cell_type": "markdown",
   "metadata": {
    "id": "c0Ja-XQ0opy5"
   },
   "source": [
    "結果の表示"
   ]
  },
  {
   "cell_type": "code",
   "execution_count": null,
   "metadata": {
    "colab": {
     "base_uri": "https://localhost:8080/",
     "height": 1000
    },
    "id": "IHPQd6Usmtd-",
    "outputId": "11bb78ac-feaf-4b83-c565-33fd03e906d7"
   },
   "outputs": [
    {
     "name": "stdout",
     "output_type": "stream",
     "text": [
      "epoch:   0 loss: 0.00589037\n",
      "epoch:   1 loss: 0.01667315\n",
      "epoch:   2 loss: 0.00251657\n",
      "epoch:   3 loss: 0.00739300\n",
      "epoch:   4 loss: 0.01625605\n",
      "epoch:   5 loss: 0.00872826\n",
      "epoch:   6 loss: 0.00424668\n",
      "epoch:   7 loss: 0.00511249\n",
      "epoch:   8 loss: 0.00236792\n",
      "epoch:   9 loss: 0.00666610\n",
      "epoch:  10 loss: 0.00243030\n",
      "epoch:  11 loss: 0.00494354\n",
      "epoch:  12 loss: 0.00234172\n",
      "epoch:  13 loss: 0.00324073\n",
      "epoch:  14 loss: 0.00325608\n",
      "epoch:  15 loss: 0.00236026\n",
      "epoch:  16 loss: 0.00331436\n",
      "epoch:  17 loss: 0.00232992\n",
      "epoch:  18 loss: 0.00278511\n",
      "epoch:  19 loss: 0.00234769\n",
      "epoch:  20 loss: 0.00250460\n",
      "epoch:  21 loss: 0.00234621\n",
      "epoch:  22 loss: 0.00234229\n",
      "epoch:  23 loss: 0.00229450\n",
      "epoch:  24 loss: 0.00221077\n",
      "epoch:  25 loss: 0.00220311\n",
      "epoch:  26 loss: 0.00209026\n",
      "epoch:  27 loss: 0.00213123\n",
      "epoch:  28 loss: 0.00198689\n",
      "epoch:  29 loss: 0.00209642\n",
      "epoch:  30 loss: 0.00186709\n",
      "epoch:  31 loss: 0.00208270\n",
      "epoch:  32 loss: 0.00170160\n",
      "epoch:  33 loss: 0.00211647\n",
      "epoch:  34 loss: 0.00149151\n",
      "epoch:  35 loss: 0.00225379\n",
      "epoch:  36 loss: 0.00122686\n",
      "epoch:  37 loss: 0.00258601\n",
      "epoch:  38 loss: 0.00094460\n",
      "epoch:  39 loss: 0.00326812\n",
      "epoch:  40 loss: 0.00084241\n",
      "epoch:  41 loss: 0.00354819\n",
      "epoch:  42 loss: 0.00083625\n",
      "epoch:  43 loss: 0.00153718\n",
      "epoch:  44 loss: 0.00169035\n",
      "epoch:  45 loss: 0.00088778\n",
      "epoch:  46 loss: 0.00156659\n",
      "epoch:  47 loss: 0.00114089\n",
      "epoch:  48 loss: 0.00100182\n",
      "epoch:  49 loss: 0.00137557\n"
     ]
    },
    {
     "data": {
      "image/png": "[encoded data removed]",
      "text/plain": [
       "<Figure size 640x480 with 1 Axes>"
      ]
     },
     "metadata": {},
     "output_type": "display_data"
    },
    {
     "name": "stdout",
     "output_type": "stream",
     "text": [
      "Elapsed Time: 0.6568756279999945\n"
     ]
    },
    {
     "data": {
      "image/png": "[encoded data removed]",
      "text/plain": [
       "<Figure size 640x480 with 1 Axes>"
      ]
     },
     "metadata": {},
     "output_type": "display_data"
    }
   ],
   "source": [
    "result = learn()\n",
    "show(learn)"
   ]
  },
  {
   "cell_type": "code",
   "execution_count": null,
   "metadata": {
    "id": "qJs52LQWnfug"
   },
   "outputs": [],
   "source": [
    "rnnloss = result[-1]"
   ]
  },
  {
   "cell_type": "markdown",
   "metadata": {
    "id": "L1rZWtUkoR3P"
   },
   "source": [
    "### ③LSTMを用いた評価"
   ]
  },
  {
   "cell_type": "code",
   "execution_count": null,
   "metadata": {
    "colab": {
     "base_uri": "https://localhost:8080/"
    },
    "id": "f43oDKcMnK5N",
    "outputId": "a6b6b9c9-2eff-4916-bcfa-1ab569b672c4"
   },
   "outputs": [
    {
     "name": "stdout",
     "output_type": "stream",
     "text": [
      "LSTMN(\n",
      "  (lstm): LSTM(1, 100, batch_first=True)\n",
      "  (fc): Linear(in_features=100, out_features=1, bias=True)\n",
      ")\n"
     ]
    }
   ],
   "source": [
    "class LSTMN(nn.Module):\n",
    "  def __init__(self, input_size, hidden_size, output_size):\n",
    "    super(LSTMN, self).__init__()\n",
    "    self.lstm = nn.LSTM(input_size, hidden_size, batch_first=True)\n",
    "    self.fc = nn.Linear(hidden_size, output_size)\n",
    "  def forward(self, x):\n",
    "    x = x.to(device)\n",
    "    y_lstm, h = self.lstm(x, None)\n",
    "    y = self.fc(y_lstm[:, -1, :])\n",
    "    return y\n",
    "model = LSTMN(1, 100, 1).to(device)\n",
    "print(model)"
   ]
  },
  {
   "cell_type": "markdown",
   "metadata": {
    "id": "7usOluXsos8q"
   },
   "source": [
    "結果の表示"
   ]
  },
  {
   "cell_type": "code",
   "execution_count": null,
   "metadata": {
    "colab": {
     "base_uri": "https://localhost:8080/",
     "height": 1000
    },
    "id": "PFLxdXW-naZG",
    "outputId": "ef5ad212-5980-43d4-e1c7-b34ff0b86868"
   },
   "outputs": [
    {
     "name": "stdout",
     "output_type": "stream",
     "text": [
      "epoch:   0 loss: 0.01997105\n",
      "epoch:   1 loss: 0.00286675\n",
      "epoch:   2 loss: 0.00691755\n",
      "epoch:   3 loss: 0.00293189\n",
      "epoch:   4 loss: 0.00439069\n",
      "epoch:   5 loss: 0.00377337\n",
      "epoch:   6 loss: 0.00351674\n",
      "epoch:   7 loss: 0.00335659\n",
      "epoch:   8 loss: 0.00271188\n",
      "epoch:   9 loss: 0.00259359\n",
      "epoch:  10 loss: 0.00477950\n",
      "epoch:  11 loss: 0.00247900\n",
      "epoch:  12 loss: 0.00654814\n",
      "epoch:  13 loss: 0.00345058\n",
      "epoch:  14 loss: 0.01215617\n",
      "epoch:  15 loss: 0.00825367\n",
      "epoch:  16 loss: 0.00439221\n",
      "epoch:  17 loss: 0.00404151\n",
      "epoch:  18 loss: 0.00227468\n",
      "epoch:  19 loss: 0.00360220\n",
      "epoch:  20 loss: 0.00424115\n",
      "epoch:  21 loss: 0.00221878\n",
      "epoch:  22 loss: 0.00296104\n",
      "epoch:  23 loss: 0.00247418\n",
      "epoch:  24 loss: 0.00213170\n",
      "epoch:  25 loss: 0.00236105\n",
      "epoch:  26 loss: 0.00200231\n",
      "epoch:  27 loss: 0.00291579\n",
      "epoch:  28 loss: 0.00204871\n",
      "epoch:  29 loss: 0.00316141\n",
      "epoch:  30 loss: 0.00190719\n",
      "epoch:  31 loss: 0.00226285\n",
      "epoch:  32 loss: 0.00264015\n",
      "epoch:  33 loss: 0.00183926\n",
      "epoch:  34 loss: 0.00245471\n",
      "epoch:  35 loss: 0.00172127\n",
      "epoch:  36 loss: 0.00228402\n",
      "epoch:  37 loss: 0.00164075\n",
      "epoch:  38 loss: 0.00241825\n",
      "epoch:  39 loss: 0.00157849\n",
      "epoch:  40 loss: 0.00241270\n",
      "epoch:  41 loss: 0.00155355\n",
      "epoch:  42 loss: 0.00207576\n",
      "epoch:  43 loss: 0.00163958\n",
      "epoch:  44 loss: 0.00175013\n",
      "epoch:  45 loss: 0.00162461\n",
      "epoch:  46 loss: 0.00155647\n",
      "epoch:  47 loss: 0.00154290\n",
      "epoch:  48 loss: 0.00144252\n",
      "epoch:  49 loss: 0.00151673\n"
     ]
    },
    {
     "data": {
      "image/png": "[encoded data removed]",
      "text/plain": [
       "<Figure size 640x480 with 1 Axes>"
      ]
     },
     "metadata": {},
     "output_type": "display_data"
    },
    {
     "name": "stdout",
     "output_type": "stream",
     "text": [
      "Elapsed Time: 0.8185873810000146\n"
     ]
    },
    {
     "data": {
      "image/png": "[encoded data removed]",
      "text/plain": [
       "<Figure size 640x480 with 1 Axes>"
      ]
     },
     "metadata": {},
     "output_type": "display_data"
    }
   ],
   "source": [
    "result = learn()\n",
    "show(learn)"
   ]
  },
  {
   "cell_type": "code",
   "execution_count": null,
   "metadata": {
    "id": "f8OEGVNAncZZ"
   },
   "outputs": [],
   "source": [
    "lstmloss = result[-1]"
   ]
  },
  {
   "cell_type": "markdown",
   "metadata": {
    "id": "xV_sgE4pqHrF"
   },
   "source": [
    "### MSELossの値の比較"
   ]
  },
  {
   "cell_type": "code",
   "execution_count": null,
   "metadata": {
    "colab": {
     "base_uri": "https://localhost:8080/"
    },
    "id": "f1To2xX0oOHo",
    "outputId": "e9cda74c-313c-4e16-d235-8902923a02c2"
   },
   "outputs": [
    {
     "name": "stdout",
     "output_type": "stream",
     "text": [
      "GRU: 0.0005908488528802991\n",
      "RNN: 0.0013755690306425095\n",
      "LSTM: 0.0015167280798777938\n"
     ]
    }
   ],
   "source": [
    "print(\"GRU:\", gruloss)\n",
    "print(\"RNN:\", rnnloss)\n",
    "print(\"LSTM:\", lstmloss)"
   ]
  },
  {
   "cell_type": "markdown",
   "metadata": {
    "id": "cimBzjsroSy3"
   },
   "source": [
    "| |LOSS|Elapsed Time|\n",
    "|---|---|---|\n",
    "|GRU|0.0005908488528802991|1.8662660610000046|\n",
    "|RNN|0.0013755690306425095|0.6568756279999945|\n",
    "|LSTM|0.0015167280798777938|0.8185873810000146|"
   ]
  },
  {
   "cell_type": "markdown",
   "metadata": {
    "id": "51SUkX_1umDM"
   },
   "source": [
    "### 結果・考察\n",
    "\n",
    "まず初めに，３種類にのネットワークモデルを比較する．\n",
    "\n",
    "- RNN：PyTorchの再帰型ニューラルネットワーク(オワコン？)\n",
    "\n",
    "- LSTM：長期的な依存関係の学習・記憶保持に適している．勾配消失問題を緩和する．\n",
    "\n",
    "- GRU：LSTMに比してシンプルな構造で計算量が少ない\n",
    "\n",
    "結果を見てみると，最終的なロスはGRUが最も小さく，LSTMが最も大きい．GRUは10～20エポックにおいて大きく振動したあとに収束している．RNNは0～5エポックで大きく振動し，その後収束しながらもやや振動的である．LSTMは大きな振動は見られないが，14エポック目でステップ的な応答を示している．また計算スピードについては，RNNがLSTMと僅差で最も速く，GRUが最も遅い．"
   ]
  },
  {
   "cell_type": "markdown",
   "metadata": {
    "id": "UajaETtjLN9g"
   },
   "source": [
    "これらの結果を鑑みると，それぞれの特徴にあった結果を得られていないことがわかる．"
   ]
  },
  {
   "cell_type": "markdown",
   "metadata": {
    "id": "OHwu3W6LL0OE"
   },
   "source": [
    "考察①：株価に周期性はほぼみられていないため，LSTMは過去の記憶セルの参照がうまくできなかった．したがって，ロスが最も大きくなったしまった"
   ]
  },
  {
   "cell_type": "markdown",
   "metadata": {
    "id": "nYfeD5svMsBv"
   },
   "source": [
    "考察②：RNNはロスが収束しきっておらず，値の信頼度が低い．安定的な学習ができていないことは最終的な結果に影響する．"
   ]
  },
  {
   "cell_type": "markdown",
   "metadata": {
    "id": "wGarKvJ7OISU"
   },
   "source": [
    "考察③：ロスに関しては３つとも極めて小さいため，正直なところどれも差は無い．計算時間も１秒程度の差である．"
   ]
  },
  {
   "cell_type": "markdown",
   "metadata": {
    "id": "oApPlUMhvWoD"
   },
   "source": [
    "## 発展的課題(全結合網のみを用いた実装)"
   ]
  },
  {
   "cell_type": "markdown",
   "metadata": {
    "id": "TzQRfcbN26Ra"
   },
   "source": [
    "コード"
   ]
  },
  {
   "cell_type": "code",
   "execution_count": null,
   "metadata": {
    "colab": {
     "base_uri": "https://localhost:8080/"
    },
    "id": "tcR0f2VM25RA",
    "outputId": "8acf1f1e-760c-4b02-b636-81f0967fe8ec"
   },
   "outputs": [
    {
     "name": "stdout",
     "output_type": "stream",
     "text": [
      "NET(\n",
      "  (fc): Linear(in_features=100, out_features=1, bias=True)\n",
      ")\n"
     ]
    }
   ],
   "source": [
    "class NET(nn.Module):\n",
    "  def __init__(self, input_size, hidden_size, output_size):\n",
    "    super(NET, self).__init__()\n",
    "    # self.NET = nn.NET(input_size, hidden_size, batch_first=True)\n",
    "    self.fc = nn.Linear(hidden_size, output_size)\n",
    "  def forward(self, x):\n",
    "    x = x.to(device)\n",
    "    # y_NET, h = self.NET(x, None)\n",
    "    y = self.fc(x)\n",
    "    return y\n",
    "model = NET(1, 100, 1).to(device)\n",
    "print(model)"
   ]
  }
 ],
 "metadata": {
  "accelerator": "GPU",
  "colab": {
   "gpuType": "T4",
   "provenance": []
  },
  "kernelspec": {
   "display_name": "Python 3 (ipykernel)",
   "language": "python",
   "name": "python3"
  },
  "language_info": {
   "codemirror_mode": {
    "name": "ipython",
    "version": 3
   },
   "file_extension": ".py",
   "mimetype": "text/x-python",
   "name": "python",
   "nbconvert_exporter": "python",
   "pygments_lexer": "ipython3",
   "version": "3.9.18"
  }
 },
 "nbformat": 4,
 "nbformat_minor": 4
}
