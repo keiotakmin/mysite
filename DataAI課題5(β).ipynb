{
  "nbformat": 4,
  "nbformat_minor": 0,
  "metadata": {
    "colab": {
      "provenance": []
    },
    "kernelspec": {
      "name": "python3",
      "display_name": "Python 3"
    },
    "language_info": {
      "name": "python"
    }
  },
  "cells": [
    {
      "cell_type": "markdown",
      "source": [
        "# データシステムの知能化とデザイン\n",
        "# 第5回課題\n",
        "## 学籍番号：62116674\n",
        "## 氏名：藤本巧実"
      ],
      "metadata": {
        "id": "Gdr9D3MnMvAc"
      }
    },
    {
      "cell_type": "markdown",
      "source": [
        "## 課題"
      ],
      "metadata": {
        "id": "0KnYYSqcNZIw"
      }
    },
    {
      "cell_type": "markdown",
      "source": [
        "前準備"
      ],
      "metadata": {
        "id": "dIHdzrF1Zf8V"
      }
    },
    {
      "cell_type": "code",
      "source": [
        "import torch\n",
        "import torch.nn as nn\n",
        "import torch.nn.functional as F\n",
        "import torch.optim as optim\n",
        "from torch.utils.data import DataLoader, TensorDataset"
      ],
      "metadata": {
        "id": "tK6AbezlZXNT"
      },
      "execution_count": 79,
      "outputs": []
    },
    {
      "cell_type": "markdown",
      "source": [
        "学習データの準備"
      ],
      "metadata": {
        "id": "zLTcOM35Z9Ry"
      }
    },
    {
      "cell_type": "code",
      "source": [
        "from sklearn.datasets import load_wine\n",
        "from sklearn.model_selection import train_test_split\n",
        "import pandas as pd"
      ],
      "metadata": {
        "id": "cuexBxHmZa3b"
      },
      "execution_count": 80,
      "outputs": []
    },
    {
      "cell_type": "code",
      "source": [
        "wine = load_wine()\n",
        "wine"
      ],
      "metadata": {
        "id": "656S-wd-asFF",
        "colab": {
          "base_uri": "https://localhost:8080/"
        },
        "outputId": "dccf5d5b-db6d-449c-b7bf-9cccf22b2a16"
      },
      "execution_count": 81,
      "outputs": [
        {
          "output_type": "execute_result",
          "data": {
            "text/plain": [
              "{'data': array([[1.423e+01, 1.710e+00, 2.430e+00, ..., 1.040e+00, 3.920e+00,\n",
              "         1.065e+03],\n",
              "        [1.320e+01, 1.780e+00, 2.140e+00, ..., 1.050e+00, 3.400e+00,\n",
              "         1.050e+03],\n",
              "        [1.316e+01, 2.360e+00, 2.670e+00, ..., 1.030e+00, 3.170e+00,\n",
              "         1.185e+03],\n",
              "        ...,\n",
              "        [1.327e+01, 4.280e+00, 2.260e+00, ..., 5.900e-01, 1.560e+00,\n",
              "         8.350e+02],\n",
              "        [1.317e+01, 2.590e+00, 2.370e+00, ..., 6.000e-01, 1.620e+00,\n",
              "         8.400e+02],\n",
              "        [1.413e+01, 4.100e+00, 2.740e+00, ..., 6.100e-01, 1.600e+00,\n",
              "         5.600e+02]]),\n",
              " 'target': array([0, 0, 0, 0, 0, 0, 0, 0, 0, 0, 0, 0, 0, 0, 0, 0, 0, 0, 0, 0, 0, 0,\n",
              "        0, 0, 0, 0, 0, 0, 0, 0, 0, 0, 0, 0, 0, 0, 0, 0, 0, 0, 0, 0, 0, 0,\n",
              "        0, 0, 0, 0, 0, 0, 0, 0, 0, 0, 0, 0, 0, 0, 0, 1, 1, 1, 1, 1, 1, 1,\n",
              "        1, 1, 1, 1, 1, 1, 1, 1, 1, 1, 1, 1, 1, 1, 1, 1, 1, 1, 1, 1, 1, 1,\n",
              "        1, 1, 1, 1, 1, 1, 1, 1, 1, 1, 1, 1, 1, 1, 1, 1, 1, 1, 1, 1, 1, 1,\n",
              "        1, 1, 1, 1, 1, 1, 1, 1, 1, 1, 1, 1, 1, 1, 1, 1, 1, 1, 1, 1, 2, 2,\n",
              "        2, 2, 2, 2, 2, 2, 2, 2, 2, 2, 2, 2, 2, 2, 2, 2, 2, 2, 2, 2, 2, 2,\n",
              "        2, 2, 2, 2, 2, 2, 2, 2, 2, 2, 2, 2, 2, 2, 2, 2, 2, 2, 2, 2, 2, 2,\n",
              "        2, 2]),\n",
              " 'frame': None,\n",
              " 'target_names': array(['class_0', 'class_1', 'class_2'], dtype='<U7'),\n",
              " 'DESCR': '.. _wine_dataset:\\n\\nWine recognition dataset\\n------------------------\\n\\n**Data Set Characteristics:**\\n\\n    :Number of Instances: 178\\n    :Number of Attributes: 13 numeric, predictive attributes and the class\\n    :Attribute Information:\\n \\t\\t- Alcohol\\n \\t\\t- Malic acid\\n \\t\\t- Ash\\n\\t\\t- Alcalinity of ash  \\n \\t\\t- Magnesium\\n\\t\\t- Total phenols\\n \\t\\t- Flavanoids\\n \\t\\t- Nonflavanoid phenols\\n \\t\\t- Proanthocyanins\\n\\t\\t- Color intensity\\n \\t\\t- Hue\\n \\t\\t- OD280/OD315 of diluted wines\\n \\t\\t- Proline\\n\\n    - class:\\n            - class_0\\n            - class_1\\n            - class_2\\n\\t\\t\\n    :Summary Statistics:\\n    \\n    ============================= ==== ===== ======= =====\\n                                   Min   Max   Mean     SD\\n    ============================= ==== ===== ======= =====\\n    Alcohol:                      11.0  14.8    13.0   0.8\\n    Malic Acid:                   0.74  5.80    2.34  1.12\\n    Ash:                          1.36  3.23    2.36  0.27\\n    Alcalinity of Ash:            10.6  30.0    19.5   3.3\\n    Magnesium:                    70.0 162.0    99.7  14.3\\n    Total Phenols:                0.98  3.88    2.29  0.63\\n    Flavanoids:                   0.34  5.08    2.03  1.00\\n    Nonflavanoid Phenols:         0.13  0.66    0.36  0.12\\n    Proanthocyanins:              0.41  3.58    1.59  0.57\\n    Colour Intensity:              1.3  13.0     5.1   2.3\\n    Hue:                          0.48  1.71    0.96  0.23\\n    OD280/OD315 of diluted wines: 1.27  4.00    2.61  0.71\\n    Proline:                       278  1680     746   315\\n    ============================= ==== ===== ======= =====\\n\\n    :Missing Attribute Values: None\\n    :Class Distribution: class_0 (59), class_1 (71), class_2 (48)\\n    :Creator: R.A. Fisher\\n    :Donor: Michael Marshall (MARSHALL%PLU@io.arc.nasa.gov)\\n    :Date: July, 1988\\n\\nThis is a copy of UCI ML Wine recognition datasets.\\nhttps://archive.ics.uci.edu/ml/machine-learning-databases/wine/wine.data\\n\\nThe data is the results of a chemical analysis of wines grown in the same\\nregion in Italy by three different cultivators. There are thirteen different\\nmeasurements taken for different constituents found in the three types of\\nwine.\\n\\nOriginal Owners: \\n\\nForina, M. et al, PARVUS - \\nAn Extendible Package for Data Exploration, Classification and Correlation. \\nInstitute of Pharmaceutical and Food Analysis and Technologies,\\nVia Brigata Salerno, 16147 Genoa, Italy.\\n\\nCitation:\\n\\nLichman, M. (2013). UCI Machine Learning Repository\\n[https://archive.ics.uci.edu/ml]. Irvine, CA: University of California,\\nSchool of Information and Computer Science. \\n\\n.. topic:: References\\n\\n  (1) S. Aeberhard, D. Coomans and O. de Vel, \\n  Comparison of Classifiers in High Dimensional Settings, \\n  Tech. Rep. no. 92-02, (1992), Dept. of Computer Science and Dept. of  \\n  Mathematics and Statistics, James Cook University of North Queensland. \\n  (Also submitted to Technometrics). \\n\\n  The data was used with many others for comparing various \\n  classifiers. The classes are separable, though only RDA \\n  has achieved 100% correct classification. \\n  (RDA : 100%, QDA 99.4%, LDA 98.9%, 1NN 96.1% (z-transformed data)) \\n  (All results using the leave-one-out technique) \\n\\n  (2) S. Aeberhard, D. Coomans and O. de Vel, \\n  \"THE CLASSIFICATION PERFORMANCE OF RDA\" \\n  Tech. Rep. no. 92-01, (1992), Dept. of Computer Science and Dept. of \\n  Mathematics and Statistics, James Cook University of North Queensland. \\n  (Also submitted to Journal of Chemometrics).\\n',\n",
              " 'feature_names': ['alcohol',\n",
              "  'malic_acid',\n",
              "  'ash',\n",
              "  'alcalinity_of_ash',\n",
              "  'magnesium',\n",
              "  'total_phenols',\n",
              "  'flavanoids',\n",
              "  'nonflavanoid_phenols',\n",
              "  'proanthocyanins',\n",
              "  'color_intensity',\n",
              "  'hue',\n",
              "  'od280/od315_of_diluted_wines',\n",
              "  'proline']}"
            ]
          },
          "metadata": {},
          "execution_count": 81
        }
      ]
    },
    {
      "cell_type": "markdown",
      "source": [
        "データの整理"
      ],
      "metadata": {
        "id": "-kt6qoRDa4vc"
      }
    },
    {
      "cell_type": "code",
      "source": [
        "pd.DataFrame(wine.data, columns=wine.feature_names)"
      ],
      "metadata": {
        "id": "9stLBBXsa6-L",
        "colab": {
          "base_uri": "https://localhost:8080/",
          "height": 443
        },
        "outputId": "8cce6c60-92be-4cbd-b1fe-ef8aeba4fa51"
      },
      "execution_count": 82,
      "outputs": [
        {
          "output_type": "execute_result",
          "data": {
            "text/plain": [
              "     alcohol  malic_acid   ash  alcalinity_of_ash  magnesium  total_phenols  \\\n",
              "0      14.23        1.71  2.43               15.6      127.0           2.80   \n",
              "1      13.20        1.78  2.14               11.2      100.0           2.65   \n",
              "2      13.16        2.36  2.67               18.6      101.0           2.80   \n",
              "3      14.37        1.95  2.50               16.8      113.0           3.85   \n",
              "4      13.24        2.59  2.87               21.0      118.0           2.80   \n",
              "..       ...         ...   ...                ...        ...            ...   \n",
              "173    13.71        5.65  2.45               20.5       95.0           1.68   \n",
              "174    13.40        3.91  2.48               23.0      102.0           1.80   \n",
              "175    13.27        4.28  2.26               20.0      120.0           1.59   \n",
              "176    13.17        2.59  2.37               20.0      120.0           1.65   \n",
              "177    14.13        4.10  2.74               24.5       96.0           2.05   \n",
              "\n",
              "     flavanoids  nonflavanoid_phenols  proanthocyanins  color_intensity   hue  \\\n",
              "0          3.06                  0.28             2.29             5.64  1.04   \n",
              "1          2.76                  0.26             1.28             4.38  1.05   \n",
              "2          3.24                  0.30             2.81             5.68  1.03   \n",
              "3          3.49                  0.24             2.18             7.80  0.86   \n",
              "4          2.69                  0.39             1.82             4.32  1.04   \n",
              "..          ...                   ...              ...              ...   ...   \n",
              "173        0.61                  0.52             1.06             7.70  0.64   \n",
              "174        0.75                  0.43             1.41             7.30  0.70   \n",
              "175        0.69                  0.43             1.35            10.20  0.59   \n",
              "176        0.68                  0.53             1.46             9.30  0.60   \n",
              "177        0.76                  0.56             1.35             9.20  0.61   \n",
              "\n",
              "     od280/od315_of_diluted_wines  proline  \n",
              "0                            3.92   1065.0  \n",
              "1                            3.40   1050.0  \n",
              "2                            3.17   1185.0  \n",
              "3                            3.45   1480.0  \n",
              "4                            2.93    735.0  \n",
              "..                            ...      ...  \n",
              "173                          1.74    740.0  \n",
              "174                          1.56    750.0  \n",
              "175                          1.56    835.0  \n",
              "176                          1.62    840.0  \n",
              "177                          1.60    560.0  \n",
              "\n",
              "[178 rows x 13 columns]"
            ],
            "text/html": [
              "\n",
              "  <div id=\"df-bdafdbad-d361-4dfb-8665-bcfb62d4491d\" class=\"colab-df-container\">\n",
              "    <div>\n",
              "<style scoped>\n",
              "    .dataframe tbody tr th:only-of-type {\n",
              "        vertical-align: middle;\n",
              "    }\n",
              "\n",
              "    .dataframe tbody tr th {\n",
              "        vertical-align: top;\n",
              "    }\n",
              "\n",
              "    .dataframe thead th {\n",
              "        text-align: right;\n",
              "    }\n",
              "</style>\n",
              "<table border=\"1\" class=\"dataframe\">\n",
              "  <thead>\n",
              "    <tr style=\"text-align: right;\">\n",
              "      <th></th>\n",
              "      <th>alcohol</th>\n",
              "      <th>malic_acid</th>\n",
              "      <th>ash</th>\n",
              "      <th>alcalinity_of_ash</th>\n",
              "      <th>magnesium</th>\n",
              "      <th>total_phenols</th>\n",
              "      <th>flavanoids</th>\n",
              "      <th>nonflavanoid_phenols</th>\n",
              "      <th>proanthocyanins</th>\n",
              "      <th>color_intensity</th>\n",
              "      <th>hue</th>\n",
              "      <th>od280/od315_of_diluted_wines</th>\n",
              "      <th>proline</th>\n",
              "    </tr>\n",
              "  </thead>\n",
              "  <tbody>\n",
              "    <tr>\n",
              "      <th>0</th>\n",
              "      <td>14.23</td>\n",
              "      <td>1.71</td>\n",
              "      <td>2.43</td>\n",
              "      <td>15.6</td>\n",
              "      <td>127.0</td>\n",
              "      <td>2.80</td>\n",
              "      <td>3.06</td>\n",
              "      <td>0.28</td>\n",
              "      <td>2.29</td>\n",
              "      <td>5.64</td>\n",
              "      <td>1.04</td>\n",
              "      <td>3.92</td>\n",
              "      <td>1065.0</td>\n",
              "    </tr>\n",
              "    <tr>\n",
              "      <th>1</th>\n",
              "      <td>13.20</td>\n",
              "      <td>1.78</td>\n",
              "      <td>2.14</td>\n",
              "      <td>11.2</td>\n",
              "      <td>100.0</td>\n",
              "      <td>2.65</td>\n",
              "      <td>2.76</td>\n",
              "      <td>0.26</td>\n",
              "      <td>1.28</td>\n",
              "      <td>4.38</td>\n",
              "      <td>1.05</td>\n",
              "      <td>3.40</td>\n",
              "      <td>1050.0</td>\n",
              "    </tr>\n",
              "    <tr>\n",
              "      <th>2</th>\n",
              "      <td>13.16</td>\n",
              "      <td>2.36</td>\n",
              "      <td>2.67</td>\n",
              "      <td>18.6</td>\n",
              "      <td>101.0</td>\n",
              "      <td>2.80</td>\n",
              "      <td>3.24</td>\n",
              "      <td>0.30</td>\n",
              "      <td>2.81</td>\n",
              "      <td>5.68</td>\n",
              "      <td>1.03</td>\n",
              "      <td>3.17</td>\n",
              "      <td>1185.0</td>\n",
              "    </tr>\n",
              "    <tr>\n",
              "      <th>3</th>\n",
              "      <td>14.37</td>\n",
              "      <td>1.95</td>\n",
              "      <td>2.50</td>\n",
              "      <td>16.8</td>\n",
              "      <td>113.0</td>\n",
              "      <td>3.85</td>\n",
              "      <td>3.49</td>\n",
              "      <td>0.24</td>\n",
              "      <td>2.18</td>\n",
              "      <td>7.80</td>\n",
              "      <td>0.86</td>\n",
              "      <td>3.45</td>\n",
              "      <td>1480.0</td>\n",
              "    </tr>\n",
              "    <tr>\n",
              "      <th>4</th>\n",
              "      <td>13.24</td>\n",
              "      <td>2.59</td>\n",
              "      <td>2.87</td>\n",
              "      <td>21.0</td>\n",
              "      <td>118.0</td>\n",
              "      <td>2.80</td>\n",
              "      <td>2.69</td>\n",
              "      <td>0.39</td>\n",
              "      <td>1.82</td>\n",
              "      <td>4.32</td>\n",
              "      <td>1.04</td>\n",
              "      <td>2.93</td>\n",
              "      <td>735.0</td>\n",
              "    </tr>\n",
              "    <tr>\n",
              "      <th>...</th>\n",
              "      <td>...</td>\n",
              "      <td>...</td>\n",
              "      <td>...</td>\n",
              "      <td>...</td>\n",
              "      <td>...</td>\n",
              "      <td>...</td>\n",
              "      <td>...</td>\n",
              "      <td>...</td>\n",
              "      <td>...</td>\n",
              "      <td>...</td>\n",
              "      <td>...</td>\n",
              "      <td>...</td>\n",
              "      <td>...</td>\n",
              "    </tr>\n",
              "    <tr>\n",
              "      <th>173</th>\n",
              "      <td>13.71</td>\n",
              "      <td>5.65</td>\n",
              "      <td>2.45</td>\n",
              "      <td>20.5</td>\n",
              "      <td>95.0</td>\n",
              "      <td>1.68</td>\n",
              "      <td>0.61</td>\n",
              "      <td>0.52</td>\n",
              "      <td>1.06</td>\n",
              "      <td>7.70</td>\n",
              "      <td>0.64</td>\n",
              "      <td>1.74</td>\n",
              "      <td>740.0</td>\n",
              "    </tr>\n",
              "    <tr>\n",
              "      <th>174</th>\n",
              "      <td>13.40</td>\n",
              "      <td>3.91</td>\n",
              "      <td>2.48</td>\n",
              "      <td>23.0</td>\n",
              "      <td>102.0</td>\n",
              "      <td>1.80</td>\n",
              "      <td>0.75</td>\n",
              "      <td>0.43</td>\n",
              "      <td>1.41</td>\n",
              "      <td>7.30</td>\n",
              "      <td>0.70</td>\n",
              "      <td>1.56</td>\n",
              "      <td>750.0</td>\n",
              "    </tr>\n",
              "    <tr>\n",
              "      <th>175</th>\n",
              "      <td>13.27</td>\n",
              "      <td>4.28</td>\n",
              "      <td>2.26</td>\n",
              "      <td>20.0</td>\n",
              "      <td>120.0</td>\n",
              "      <td>1.59</td>\n",
              "      <td>0.69</td>\n",
              "      <td>0.43</td>\n",
              "      <td>1.35</td>\n",
              "      <td>10.20</td>\n",
              "      <td>0.59</td>\n",
              "      <td>1.56</td>\n",
              "      <td>835.0</td>\n",
              "    </tr>\n",
              "    <tr>\n",
              "      <th>176</th>\n",
              "      <td>13.17</td>\n",
              "      <td>2.59</td>\n",
              "      <td>2.37</td>\n",
              "      <td>20.0</td>\n",
              "      <td>120.0</td>\n",
              "      <td>1.65</td>\n",
              "      <td>0.68</td>\n",
              "      <td>0.53</td>\n",
              "      <td>1.46</td>\n",
              "      <td>9.30</td>\n",
              "      <td>0.60</td>\n",
              "      <td>1.62</td>\n",
              "      <td>840.0</td>\n",
              "    </tr>\n",
              "    <tr>\n",
              "      <th>177</th>\n",
              "      <td>14.13</td>\n",
              "      <td>4.10</td>\n",
              "      <td>2.74</td>\n",
              "      <td>24.5</td>\n",
              "      <td>96.0</td>\n",
              "      <td>2.05</td>\n",
              "      <td>0.76</td>\n",
              "      <td>0.56</td>\n",
              "      <td>1.35</td>\n",
              "      <td>9.20</td>\n",
              "      <td>0.61</td>\n",
              "      <td>1.60</td>\n",
              "      <td>560.0</td>\n",
              "    </tr>\n",
              "  </tbody>\n",
              "</table>\n",
              "<p>178 rows × 13 columns</p>\n",
              "</div>\n",
              "    <div class=\"colab-df-buttons\">\n",
              "\n",
              "  <div class=\"colab-df-container\">\n",
              "    <button class=\"colab-df-convert\" onclick=\"convertToInteractive('df-bdafdbad-d361-4dfb-8665-bcfb62d4491d')\"\n",
              "            title=\"Convert this dataframe to an interactive table.\"\n",
              "            style=\"display:none;\">\n",
              "\n",
              "  <svg xmlns=\"http://www.w3.org/2000/svg\" height=\"24px\" viewBox=\"0 -960 960 960\">\n",
              "    <path d=\"M120-120v-720h720v720H120Zm60-500h600v-160H180v160Zm220 220h160v-160H400v160Zm0 220h160v-160H400v160ZM180-400h160v-160H180v160Zm440 0h160v-160H620v160ZM180-180h160v-160H180v160Zm440 0h160v-160H620v160Z\"/>\n",
              "  </svg>\n",
              "    </button>\n",
              "\n",
              "  <style>\n",
              "    .colab-df-container {\n",
              "      display:flex;\n",
              "      gap: 12px;\n",
              "    }\n",
              "\n",
              "    .colab-df-convert {\n",
              "      background-color: #E8F0FE;\n",
              "      border: none;\n",
              "      border-radius: 50%;\n",
              "      cursor: pointer;\n",
              "      display: none;\n",
              "      fill: #1967D2;\n",
              "      height: 32px;\n",
              "      padding: 0 0 0 0;\n",
              "      width: 32px;\n",
              "    }\n",
              "\n",
              "    .colab-df-convert:hover {\n",
              "      background-color: #E2EBFA;\n",
              "      box-shadow: 0px 1px 2px rgba(60, 64, 67, 0.3), 0px 1px 3px 1px rgba(60, 64, 67, 0.15);\n",
              "      fill: #174EA6;\n",
              "    }\n",
              "\n",
              "    .colab-df-buttons div {\n",
              "      margin-bottom: 4px;\n",
              "    }\n",
              "\n",
              "    [theme=dark] .colab-df-convert {\n",
              "      background-color: #3B4455;\n",
              "      fill: #D2E3FC;\n",
              "    }\n",
              "\n",
              "    [theme=dark] .colab-df-convert:hover {\n",
              "      background-color: #434B5C;\n",
              "      box-shadow: 0px 1px 3px 1px rgba(0, 0, 0, 0.15);\n",
              "      filter: drop-shadow(0px 1px 2px rgba(0, 0, 0, 0.3));\n",
              "      fill: #FFFFFF;\n",
              "    }\n",
              "  </style>\n",
              "\n",
              "    <script>\n",
              "      const buttonEl =\n",
              "        document.querySelector('#df-bdafdbad-d361-4dfb-8665-bcfb62d4491d button.colab-df-convert');\n",
              "      buttonEl.style.display =\n",
              "        google.colab.kernel.accessAllowed ? 'block' : 'none';\n",
              "\n",
              "      async function convertToInteractive(key) {\n",
              "        const element = document.querySelector('#df-bdafdbad-d361-4dfb-8665-bcfb62d4491d');\n",
              "        const dataTable =\n",
              "          await google.colab.kernel.invokeFunction('convertToInteractive',\n",
              "                                                    [key], {});\n",
              "        if (!dataTable) return;\n",
              "\n",
              "        const docLinkHtml = 'Like what you see? Visit the ' +\n",
              "          '<a target=\"_blank\" href=https://colab.research.google.com/notebooks/data_table.ipynb>data table notebook</a>'\n",
              "          + ' to learn more about interactive tables.';\n",
              "        element.innerHTML = '';\n",
              "        dataTable['output_type'] = 'display_data';\n",
              "        await google.colab.output.renderOutput(dataTable, element);\n",
              "        const docLink = document.createElement('div');\n",
              "        docLink.innerHTML = docLinkHtml;\n",
              "        element.appendChild(docLink);\n",
              "      }\n",
              "    </script>\n",
              "  </div>\n",
              "\n",
              "\n",
              "<div id=\"df-51b4abf6-880c-4fad-b799-60205e555fdb\">\n",
              "  <button class=\"colab-df-quickchart\" onclick=\"quickchart('df-51b4abf6-880c-4fad-b799-60205e555fdb')\"\n",
              "            title=\"Suggest charts.\"\n",
              "            style=\"display:none;\">\n",
              "\n",
              "<svg xmlns=\"http://www.w3.org/2000/svg\" height=\"24px\"viewBox=\"0 0 24 24\"\n",
              "     width=\"24px\">\n",
              "    <g>\n",
              "        <path d=\"M19 3H5c-1.1 0-2 .9-2 2v14c0 1.1.9 2 2 2h14c1.1 0 2-.9 2-2V5c0-1.1-.9-2-2-2zM9 17H7v-7h2v7zm4 0h-2V7h2v10zm4 0h-2v-4h2v4z\"/>\n",
              "    </g>\n",
              "</svg>\n",
              "  </button>\n",
              "\n",
              "<style>\n",
              "  .colab-df-quickchart {\n",
              "      --bg-color: #E8F0FE;\n",
              "      --fill-color: #1967D2;\n",
              "      --hover-bg-color: #E2EBFA;\n",
              "      --hover-fill-color: #174EA6;\n",
              "      --disabled-fill-color: #AAA;\n",
              "      --disabled-bg-color: #DDD;\n",
              "  }\n",
              "\n",
              "  [theme=dark] .colab-df-quickchart {\n",
              "      --bg-color: #3B4455;\n",
              "      --fill-color: #D2E3FC;\n",
              "      --hover-bg-color: #434B5C;\n",
              "      --hover-fill-color: #FFFFFF;\n",
              "      --disabled-bg-color: #3B4455;\n",
              "      --disabled-fill-color: #666;\n",
              "  }\n",
              "\n",
              "  .colab-df-quickchart {\n",
              "    background-color: var(--bg-color);\n",
              "    border: none;\n",
              "    border-radius: 50%;\n",
              "    cursor: pointer;\n",
              "    display: none;\n",
              "    fill: var(--fill-color);\n",
              "    height: 32px;\n",
              "    padding: 0;\n",
              "    width: 32px;\n",
              "  }\n",
              "\n",
              "  .colab-df-quickchart:hover {\n",
              "    background-color: var(--hover-bg-color);\n",
              "    box-shadow: 0 1px 2px rgba(60, 64, 67, 0.3), 0 1px 3px 1px rgba(60, 64, 67, 0.15);\n",
              "    fill: var(--button-hover-fill-color);\n",
              "  }\n",
              "\n",
              "  .colab-df-quickchart-complete:disabled,\n",
              "  .colab-df-quickchart-complete:disabled:hover {\n",
              "    background-color: var(--disabled-bg-color);\n",
              "    fill: var(--disabled-fill-color);\n",
              "    box-shadow: none;\n",
              "  }\n",
              "\n",
              "  .colab-df-spinner {\n",
              "    border: 2px solid var(--fill-color);\n",
              "    border-color: transparent;\n",
              "    border-bottom-color: var(--fill-color);\n",
              "    animation:\n",
              "      spin 1s steps(1) infinite;\n",
              "  }\n",
              "\n",
              "  @keyframes spin {\n",
              "    0% {\n",
              "      border-color: transparent;\n",
              "      border-bottom-color: var(--fill-color);\n",
              "      border-left-color: var(--fill-color);\n",
              "    }\n",
              "    20% {\n",
              "      border-color: transparent;\n",
              "      border-left-color: var(--fill-color);\n",
              "      border-top-color: var(--fill-color);\n",
              "    }\n",
              "    30% {\n",
              "      border-color: transparent;\n",
              "      border-left-color: var(--fill-color);\n",
              "      border-top-color: var(--fill-color);\n",
              "      border-right-color: var(--fill-color);\n",
              "    }\n",
              "    40% {\n",
              "      border-color: transparent;\n",
              "      border-right-color: var(--fill-color);\n",
              "      border-top-color: var(--fill-color);\n",
              "    }\n",
              "    60% {\n",
              "      border-color: transparent;\n",
              "      border-right-color: var(--fill-color);\n",
              "    }\n",
              "    80% {\n",
              "      border-color: transparent;\n",
              "      border-right-color: var(--fill-color);\n",
              "      border-bottom-color: var(--fill-color);\n",
              "    }\n",
              "    90% {\n",
              "      border-color: transparent;\n",
              "      border-bottom-color: var(--fill-color);\n",
              "    }\n",
              "  }\n",
              "</style>\n",
              "\n",
              "  <script>\n",
              "    async function quickchart(key) {\n",
              "      const quickchartButtonEl =\n",
              "        document.querySelector('#' + key + ' button');\n",
              "      quickchartButtonEl.disabled = true;  // To prevent multiple clicks.\n",
              "      quickchartButtonEl.classList.add('colab-df-spinner');\n",
              "      try {\n",
              "        const charts = await google.colab.kernel.invokeFunction(\n",
              "            'suggestCharts', [key], {});\n",
              "      } catch (error) {\n",
              "        console.error('Error during call to suggestCharts:', error);\n",
              "      }\n",
              "      quickchartButtonEl.classList.remove('colab-df-spinner');\n",
              "      quickchartButtonEl.classList.add('colab-df-quickchart-complete');\n",
              "    }\n",
              "    (() => {\n",
              "      let quickchartButtonEl =\n",
              "        document.querySelector('#df-51b4abf6-880c-4fad-b799-60205e555fdb button');\n",
              "      quickchartButtonEl.style.display =\n",
              "        google.colab.kernel.accessAllowed ? 'block' : 'none';\n",
              "    })();\n",
              "  </script>\n",
              "</div>\n",
              "    </div>\n",
              "  </div>\n"
            ]
          },
          "metadata": {},
          "execution_count": 82
        }
      ]
    },
    {
      "cell_type": "markdown",
      "source": [
        "ラベル2のデータの排除\n",
        "\n",
        "※ちょうど0~130列が0と1のため下のコードによる方法を採っているが，汎用性は低い．"
      ],
      "metadata": {
        "id": "x_WN0HzQ4hgQ"
      }
    },
    {
      "cell_type": "code",
      "source": [
        "wine_data2 = wine.data[0:130]\n",
        "wine_target2 = wine.target[0:130]"
      ],
      "metadata": {
        "id": "ScbLVlycfsM2"
      },
      "execution_count": 83,
      "outputs": []
    },
    {
      "cell_type": "markdown",
      "source": [
        "正解ラベルのcolumnsをclassとして追加"
      ],
      "metadata": {
        "id": "vkwv03-m6619"
      }
    },
    {
      "cell_type": "code",
      "source": [
        "wine_cat = pd.concat([pd.DataFrame(wine.data, columns=wine.feature_names),\n",
        "                      pd.DataFrame(wine.target, columns=['class'])], axis=1)\n",
        "wine_cat.head(5)"
      ],
      "metadata": {
        "id": "f7CjJS7H6JR2",
        "colab": {
          "base_uri": "https://localhost:8080/",
          "height": 226
        },
        "outputId": "9115e4fd-43d5-40b2-cb36-98787379051d"
      },
      "execution_count": 84,
      "outputs": [
        {
          "output_type": "execute_result",
          "data": {
            "text/plain": [
              "   alcohol  malic_acid   ash  alcalinity_of_ash  magnesium  total_phenols  \\\n",
              "0    14.23        1.71  2.43               15.6      127.0           2.80   \n",
              "1    13.20        1.78  2.14               11.2      100.0           2.65   \n",
              "2    13.16        2.36  2.67               18.6      101.0           2.80   \n",
              "3    14.37        1.95  2.50               16.8      113.0           3.85   \n",
              "4    13.24        2.59  2.87               21.0      118.0           2.80   \n",
              "\n",
              "   flavanoids  nonflavanoid_phenols  proanthocyanins  color_intensity   hue  \\\n",
              "0        3.06                  0.28             2.29             5.64  1.04   \n",
              "1        2.76                  0.26             1.28             4.38  1.05   \n",
              "2        3.24                  0.30             2.81             5.68  1.03   \n",
              "3        3.49                  0.24             2.18             7.80  0.86   \n",
              "4        2.69                  0.39             1.82             4.32  1.04   \n",
              "\n",
              "   od280/od315_of_diluted_wines  proline  class  \n",
              "0                          3.92   1065.0      0  \n",
              "1                          3.40   1050.0      0  \n",
              "2                          3.17   1185.0      0  \n",
              "3                          3.45   1480.0      0  \n",
              "4                          2.93    735.0      0  "
            ],
            "text/html": [
              "\n",
              "  <div id=\"df-db4fc53f-5149-4156-857c-32b9c96a5ab3\" class=\"colab-df-container\">\n",
              "    <div>\n",
              "<style scoped>\n",
              "    .dataframe tbody tr th:only-of-type {\n",
              "        vertical-align: middle;\n",
              "    }\n",
              "\n",
              "    .dataframe tbody tr th {\n",
              "        vertical-align: top;\n",
              "    }\n",
              "\n",
              "    .dataframe thead th {\n",
              "        text-align: right;\n",
              "    }\n",
              "</style>\n",
              "<table border=\"1\" class=\"dataframe\">\n",
              "  <thead>\n",
              "    <tr style=\"text-align: right;\">\n",
              "      <th></th>\n",
              "      <th>alcohol</th>\n",
              "      <th>malic_acid</th>\n",
              "      <th>ash</th>\n",
              "      <th>alcalinity_of_ash</th>\n",
              "      <th>magnesium</th>\n",
              "      <th>total_phenols</th>\n",
              "      <th>flavanoids</th>\n",
              "      <th>nonflavanoid_phenols</th>\n",
              "      <th>proanthocyanins</th>\n",
              "      <th>color_intensity</th>\n",
              "      <th>hue</th>\n",
              "      <th>od280/od315_of_diluted_wines</th>\n",
              "      <th>proline</th>\n",
              "      <th>class</th>\n",
              "    </tr>\n",
              "  </thead>\n",
              "  <tbody>\n",
              "    <tr>\n",
              "      <th>0</th>\n",
              "      <td>14.23</td>\n",
              "      <td>1.71</td>\n",
              "      <td>2.43</td>\n",
              "      <td>15.6</td>\n",
              "      <td>127.0</td>\n",
              "      <td>2.80</td>\n",
              "      <td>3.06</td>\n",
              "      <td>0.28</td>\n",
              "      <td>2.29</td>\n",
              "      <td>5.64</td>\n",
              "      <td>1.04</td>\n",
              "      <td>3.92</td>\n",
              "      <td>1065.0</td>\n",
              "      <td>0</td>\n",
              "    </tr>\n",
              "    <tr>\n",
              "      <th>1</th>\n",
              "      <td>13.20</td>\n",
              "      <td>1.78</td>\n",
              "      <td>2.14</td>\n",
              "      <td>11.2</td>\n",
              "      <td>100.0</td>\n",
              "      <td>2.65</td>\n",
              "      <td>2.76</td>\n",
              "      <td>0.26</td>\n",
              "      <td>1.28</td>\n",
              "      <td>4.38</td>\n",
              "      <td>1.05</td>\n",
              "      <td>3.40</td>\n",
              "      <td>1050.0</td>\n",
              "      <td>0</td>\n",
              "    </tr>\n",
              "    <tr>\n",
              "      <th>2</th>\n",
              "      <td>13.16</td>\n",
              "      <td>2.36</td>\n",
              "      <td>2.67</td>\n",
              "      <td>18.6</td>\n",
              "      <td>101.0</td>\n",
              "      <td>2.80</td>\n",
              "      <td>3.24</td>\n",
              "      <td>0.30</td>\n",
              "      <td>2.81</td>\n",
              "      <td>5.68</td>\n",
              "      <td>1.03</td>\n",
              "      <td>3.17</td>\n",
              "      <td>1185.0</td>\n",
              "      <td>0</td>\n",
              "    </tr>\n",
              "    <tr>\n",
              "      <th>3</th>\n",
              "      <td>14.37</td>\n",
              "      <td>1.95</td>\n",
              "      <td>2.50</td>\n",
              "      <td>16.8</td>\n",
              "      <td>113.0</td>\n",
              "      <td>3.85</td>\n",
              "      <td>3.49</td>\n",
              "      <td>0.24</td>\n",
              "      <td>2.18</td>\n",
              "      <td>7.80</td>\n",
              "      <td>0.86</td>\n",
              "      <td>3.45</td>\n",
              "      <td>1480.0</td>\n",
              "      <td>0</td>\n",
              "    </tr>\n",
              "    <tr>\n",
              "      <th>4</th>\n",
              "      <td>13.24</td>\n",
              "      <td>2.59</td>\n",
              "      <td>2.87</td>\n",
              "      <td>21.0</td>\n",
              "      <td>118.0</td>\n",
              "      <td>2.80</td>\n",
              "      <td>2.69</td>\n",
              "      <td>0.39</td>\n",
              "      <td>1.82</td>\n",
              "      <td>4.32</td>\n",
              "      <td>1.04</td>\n",
              "      <td>2.93</td>\n",
              "      <td>735.0</td>\n",
              "      <td>0</td>\n",
              "    </tr>\n",
              "  </tbody>\n",
              "</table>\n",
              "</div>\n",
              "    <div class=\"colab-df-buttons\">\n",
              "\n",
              "  <div class=\"colab-df-container\">\n",
              "    <button class=\"colab-df-convert\" onclick=\"convertToInteractive('df-db4fc53f-5149-4156-857c-32b9c96a5ab3')\"\n",
              "            title=\"Convert this dataframe to an interactive table.\"\n",
              "            style=\"display:none;\">\n",
              "\n",
              "  <svg xmlns=\"http://www.w3.org/2000/svg\" height=\"24px\" viewBox=\"0 -960 960 960\">\n",
              "    <path d=\"M120-120v-720h720v720H120Zm60-500h600v-160H180v160Zm220 220h160v-160H400v160Zm0 220h160v-160H400v160ZM180-400h160v-160H180v160Zm440 0h160v-160H620v160ZM180-180h160v-160H180v160Zm440 0h160v-160H620v160Z\"/>\n",
              "  </svg>\n",
              "    </button>\n",
              "\n",
              "  <style>\n",
              "    .colab-df-container {\n",
              "      display:flex;\n",
              "      gap: 12px;\n",
              "    }\n",
              "\n",
              "    .colab-df-convert {\n",
              "      background-color: #E8F0FE;\n",
              "      border: none;\n",
              "      border-radius: 50%;\n",
              "      cursor: pointer;\n",
              "      display: none;\n",
              "      fill: #1967D2;\n",
              "      height: 32px;\n",
              "      padding: 0 0 0 0;\n",
              "      width: 32px;\n",
              "    }\n",
              "\n",
              "    .colab-df-convert:hover {\n",
              "      background-color: #E2EBFA;\n",
              "      box-shadow: 0px 1px 2px rgba(60, 64, 67, 0.3), 0px 1px 3px 1px rgba(60, 64, 67, 0.15);\n",
              "      fill: #174EA6;\n",
              "    }\n",
              "\n",
              "    .colab-df-buttons div {\n",
              "      margin-bottom: 4px;\n",
              "    }\n",
              "\n",
              "    [theme=dark] .colab-df-convert {\n",
              "      background-color: #3B4455;\n",
              "      fill: #D2E3FC;\n",
              "    }\n",
              "\n",
              "    [theme=dark] .colab-df-convert:hover {\n",
              "      background-color: #434B5C;\n",
              "      box-shadow: 0px 1px 3px 1px rgba(0, 0, 0, 0.15);\n",
              "      filter: drop-shadow(0px 1px 2px rgba(0, 0, 0, 0.3));\n",
              "      fill: #FFFFFF;\n",
              "    }\n",
              "  </style>\n",
              "\n",
              "    <script>\n",
              "      const buttonEl =\n",
              "        document.querySelector('#df-db4fc53f-5149-4156-857c-32b9c96a5ab3 button.colab-df-convert');\n",
              "      buttonEl.style.display =\n",
              "        google.colab.kernel.accessAllowed ? 'block' : 'none';\n",
              "\n",
              "      async function convertToInteractive(key) {\n",
              "        const element = document.querySelector('#df-db4fc53f-5149-4156-857c-32b9c96a5ab3');\n",
              "        const dataTable =\n",
              "          await google.colab.kernel.invokeFunction('convertToInteractive',\n",
              "                                                    [key], {});\n",
              "        if (!dataTable) return;\n",
              "\n",
              "        const docLinkHtml = 'Like what you see? Visit the ' +\n",
              "          '<a target=\"_blank\" href=https://colab.research.google.com/notebooks/data_table.ipynb>data table notebook</a>'\n",
              "          + ' to learn more about interactive tables.';\n",
              "        element.innerHTML = '';\n",
              "        dataTable['output_type'] = 'display_data';\n",
              "        await google.colab.output.renderOutput(dataTable, element);\n",
              "        const docLink = document.createElement('div');\n",
              "        docLink.innerHTML = docLinkHtml;\n",
              "        element.appendChild(docLink);\n",
              "      }\n",
              "    </script>\n",
              "  </div>\n",
              "\n",
              "\n",
              "<div id=\"df-fa9f8a5c-1d4c-4b1c-99b9-864d414ea1ef\">\n",
              "  <button class=\"colab-df-quickchart\" onclick=\"quickchart('df-fa9f8a5c-1d4c-4b1c-99b9-864d414ea1ef')\"\n",
              "            title=\"Suggest charts.\"\n",
              "            style=\"display:none;\">\n",
              "\n",
              "<svg xmlns=\"http://www.w3.org/2000/svg\" height=\"24px\"viewBox=\"0 0 24 24\"\n",
              "     width=\"24px\">\n",
              "    <g>\n",
              "        <path d=\"M19 3H5c-1.1 0-2 .9-2 2v14c0 1.1.9 2 2 2h14c1.1 0 2-.9 2-2V5c0-1.1-.9-2-2-2zM9 17H7v-7h2v7zm4 0h-2V7h2v10zm4 0h-2v-4h2v4z\"/>\n",
              "    </g>\n",
              "</svg>\n",
              "  </button>\n",
              "\n",
              "<style>\n",
              "  .colab-df-quickchart {\n",
              "      --bg-color: #E8F0FE;\n",
              "      --fill-color: #1967D2;\n",
              "      --hover-bg-color: #E2EBFA;\n",
              "      --hover-fill-color: #174EA6;\n",
              "      --disabled-fill-color: #AAA;\n",
              "      --disabled-bg-color: #DDD;\n",
              "  }\n",
              "\n",
              "  [theme=dark] .colab-df-quickchart {\n",
              "      --bg-color: #3B4455;\n",
              "      --fill-color: #D2E3FC;\n",
              "      --hover-bg-color: #434B5C;\n",
              "      --hover-fill-color: #FFFFFF;\n",
              "      --disabled-bg-color: #3B4455;\n",
              "      --disabled-fill-color: #666;\n",
              "  }\n",
              "\n",
              "  .colab-df-quickchart {\n",
              "    background-color: var(--bg-color);\n",
              "    border: none;\n",
              "    border-radius: 50%;\n",
              "    cursor: pointer;\n",
              "    display: none;\n",
              "    fill: var(--fill-color);\n",
              "    height: 32px;\n",
              "    padding: 0;\n",
              "    width: 32px;\n",
              "  }\n",
              "\n",
              "  .colab-df-quickchart:hover {\n",
              "    background-color: var(--hover-bg-color);\n",
              "    box-shadow: 0 1px 2px rgba(60, 64, 67, 0.3), 0 1px 3px 1px rgba(60, 64, 67, 0.15);\n",
              "    fill: var(--button-hover-fill-color);\n",
              "  }\n",
              "\n",
              "  .colab-df-quickchart-complete:disabled,\n",
              "  .colab-df-quickchart-complete:disabled:hover {\n",
              "    background-color: var(--disabled-bg-color);\n",
              "    fill: var(--disabled-fill-color);\n",
              "    box-shadow: none;\n",
              "  }\n",
              "\n",
              "  .colab-df-spinner {\n",
              "    border: 2px solid var(--fill-color);\n",
              "    border-color: transparent;\n",
              "    border-bottom-color: var(--fill-color);\n",
              "    animation:\n",
              "      spin 1s steps(1) infinite;\n",
              "  }\n",
              "\n",
              "  @keyframes spin {\n",
              "    0% {\n",
              "      border-color: transparent;\n",
              "      border-bottom-color: var(--fill-color);\n",
              "      border-left-color: var(--fill-color);\n",
              "    }\n",
              "    20% {\n",
              "      border-color: transparent;\n",
              "      border-left-color: var(--fill-color);\n",
              "      border-top-color: var(--fill-color);\n",
              "    }\n",
              "    30% {\n",
              "      border-color: transparent;\n",
              "      border-left-color: var(--fill-color);\n",
              "      border-top-color: var(--fill-color);\n",
              "      border-right-color: var(--fill-color);\n",
              "    }\n",
              "    40% {\n",
              "      border-color: transparent;\n",
              "      border-right-color: var(--fill-color);\n",
              "      border-top-color: var(--fill-color);\n",
              "    }\n",
              "    60% {\n",
              "      border-color: transparent;\n",
              "      border-right-color: var(--fill-color);\n",
              "    }\n",
              "    80% {\n",
              "      border-color: transparent;\n",
              "      border-right-color: var(--fill-color);\n",
              "      border-bottom-color: var(--fill-color);\n",
              "    }\n",
              "    90% {\n",
              "      border-color: transparent;\n",
              "      border-bottom-color: var(--fill-color);\n",
              "    }\n",
              "  }\n",
              "</style>\n",
              "\n",
              "  <script>\n",
              "    async function quickchart(key) {\n",
              "      const quickchartButtonEl =\n",
              "        document.querySelector('#' + key + ' button');\n",
              "      quickchartButtonEl.disabled = true;  // To prevent multiple clicks.\n",
              "      quickchartButtonEl.classList.add('colab-df-spinner');\n",
              "      try {\n",
              "        const charts = await google.colab.kernel.invokeFunction(\n",
              "            'suggestCharts', [key], {});\n",
              "      } catch (error) {\n",
              "        console.error('Error during call to suggestCharts:', error);\n",
              "      }\n",
              "      quickchartButtonEl.classList.remove('colab-df-spinner');\n",
              "      quickchartButtonEl.classList.add('colab-df-quickchart-complete');\n",
              "    }\n",
              "    (() => {\n",
              "      let quickchartButtonEl =\n",
              "        document.querySelector('#df-fa9f8a5c-1d4c-4b1c-99b9-864d414ea1ef button');\n",
              "      quickchartButtonEl.style.display =\n",
              "        google.colab.kernel.accessAllowed ? 'block' : 'none';\n",
              "    })();\n",
              "  </script>\n",
              "</div>\n",
              "    </div>\n",
              "  </div>\n"
            ]
          },
          "metadata": {},
          "execution_count": 84
        }
      ]
    },
    {
      "cell_type": "markdown",
      "source": [
        "クラス2のデータの削除"
      ],
      "metadata": {
        "id": "rf1vGyCo7d2g"
      }
    },
    {
      "cell_type": "code",
      "source": [
        "wine_cat[wine_cat['class']==2].index"
      ],
      "metadata": {
        "id": "zPNv99Kff_cC",
        "colab": {
          "base_uri": "https://localhost:8080/"
        },
        "outputId": "ce7fa941-2525-427c-924a-86fad28bad21"
      },
      "execution_count": 85,
      "outputs": [
        {
          "output_type": "execute_result",
          "data": {
            "text/plain": [
              "Int64Index([130, 131, 132, 133, 134, 135, 136, 137, 138, 139, 140, 141, 142,\n",
              "            143, 144, 145, 146, 147, 148, 149, 150, 151, 152, 153, 154, 155,\n",
              "            156, 157, 158, 159, 160, 161, 162, 163, 164, 165, 166, 167, 168,\n",
              "            169, 170, 171, 172, 173, 174, 175, 176, 177],\n",
              "           dtype='int64')"
            ]
          },
          "metadata": {},
          "execution_count": 85
        }
      ]
    },
    {
      "cell_type": "code",
      "source": [
        "wine_cat.drop(wine_cat[wine_cat['class'] == 2].index, inplace=True)"
      ],
      "metadata": {
        "id": "bwRS31TOgEEN"
      },
      "execution_count": 86,
      "outputs": []
    },
    {
      "cell_type": "code",
      "source": [
        "wine_data = wine_cat.values[:,:13]\n",
        "wine_target = wine_cat.values[:,13]\n",
        "print(wine_data, len(wine_data))\n",
        "print(wine_target, len(wine_target))"
      ],
      "metadata": {
        "id": "_e4vrC6RgLKK",
        "colab": {
          "base_uri": "https://localhost:8080/"
        },
        "outputId": "157b8496-cfe0-4549-a558-85a4b18089c4"
      },
      "execution_count": 87,
      "outputs": [
        {
          "output_type": "stream",
          "name": "stdout",
          "text": [
            "[[1.423e+01 1.710e+00 2.430e+00 ... 1.040e+00 3.920e+00 1.065e+03]\n",
            " [1.320e+01 1.780e+00 2.140e+00 ... 1.050e+00 3.400e+00 1.050e+03]\n",
            " [1.316e+01 2.360e+00 2.670e+00 ... 1.030e+00 3.170e+00 1.185e+03]\n",
            " ...\n",
            " [1.179e+01 2.130e+00 2.780e+00 ... 9.700e-01 2.440e+00 4.660e+02]\n",
            " [1.237e+01 1.630e+00 2.300e+00 ... 8.900e-01 2.780e+00 3.420e+02]\n",
            " [1.204e+01 4.300e+00 2.380e+00 ... 7.900e-01 2.570e+00 5.800e+02]] 130\n",
            "[0. 0. 0. 0. 0. 0. 0. 0. 0. 0. 0. 0. 0. 0. 0. 0. 0. 0. 0. 0. 0. 0. 0. 0.\n",
            " 0. 0. 0. 0. 0. 0. 0. 0. 0. 0. 0. 0. 0. 0. 0. 0. 0. 0. 0. 0. 0. 0. 0. 0.\n",
            " 0. 0. 0. 0. 0. 0. 0. 0. 0. 0. 0. 1. 1. 1. 1. 1. 1. 1. 1. 1. 1. 1. 1. 1.\n",
            " 1. 1. 1. 1. 1. 1. 1. 1. 1. 1. 1. 1. 1. 1. 1. 1. 1. 1. 1. 1. 1. 1. 1. 1.\n",
            " 1. 1. 1. 1. 1. 1. 1. 1. 1. 1. 1. 1. 1. 1. 1. 1. 1. 1. 1. 1. 1. 1. 1. 1.\n",
            " 1. 1. 1. 1. 1. 1. 1. 1. 1. 1.] 130\n"
          ]
        }
      ]
    },
    {
      "cell_type": "markdown",
      "source": [
        "データセットの分割"
      ],
      "metadata": {
        "id": "Co11cCCYgPHx"
      }
    },
    {
      "cell_type": "code",
      "source": [
        "Train_X, Test_X, Train_Y, Test_Y = train_test_split(wine_data, wine_target, test_size=0.25)"
      ],
      "metadata": {
        "id": "dtjcClN2gLTL"
      },
      "execution_count": 88,
      "outputs": []
    },
    {
      "cell_type": "code",
      "source": [
        "Train_X.shape, Test_X.shape"
      ],
      "metadata": {
        "id": "NpW_Q4PHgWaB",
        "colab": {
          "base_uri": "https://localhost:8080/"
        },
        "outputId": "e9202ef7-00d0-47a3-8b77-787b2a61bfb1"
      },
      "execution_count": 89,
      "outputs": [
        {
          "output_type": "execute_result",
          "data": {
            "text/plain": [
              "((97, 13), (33, 13))"
            ]
          },
          "metadata": {},
          "execution_count": 89
        }
      ]
    },
    {
      "cell_type": "markdown",
      "source": [
        "PyTorchテンソルへの変換と訓練データセット作成"
      ],
      "metadata": {
        "id": "UXcRLje-8BOX"
      }
    },
    {
      "cell_type": "code",
      "source": [
        "train_X = torch.FloatTensor(Train_X)\n",
        "train_Y = torch.LongTensor(Train_Y)\n",
        "test_X = torch.FloatTensor(Test_X)\n",
        "test_Y = torch.LongTensor(Test_Y)"
      ],
      "metadata": {
        "id": "L_J0UBcCga2D"
      },
      "execution_count": 90,
      "outputs": []
    },
    {
      "cell_type": "code",
      "source": [
        "train_X.shape, test_X.shape, train_Y.shape, test_Y.shape"
      ],
      "metadata": {
        "id": "DMJKY2eSgc6l",
        "colab": {
          "base_uri": "https://localhost:8080/"
        },
        "outputId": "de972c75-2576-4460-9f6c-5e3b73c04b92"
      },
      "execution_count": 91,
      "outputs": [
        {
          "output_type": "execute_result",
          "data": {
            "text/plain": [
              "(torch.Size([97, 13]),\n",
              " torch.Size([33, 13]),\n",
              " torch.Size([97]),\n",
              " torch.Size([33]))"
            ]
          },
          "metadata": {},
          "execution_count": 91
        }
      ]
    },
    {
      "cell_type": "code",
      "source": [
        "train = TensorDataset(train_X, train_Y)"
      ],
      "metadata": {
        "id": "golHhVlTgfAe"
      },
      "execution_count": 92,
      "outputs": []
    },
    {
      "cell_type": "code",
      "source": [
        "train[0], len(train)"
      ],
      "metadata": {
        "id": "S3a7a0Bygh-X",
        "colab": {
          "base_uri": "https://localhost:8080/"
        },
        "outputId": "3f7c4ddd-2352-4dab-aaea-03587b135524"
      },
      "execution_count": 93,
      "outputs": [
        {
          "output_type": "execute_result",
          "data": {
            "text/plain": [
              "((tensor([1.2470e+01, 1.5200e+00, 2.2000e+00, 1.9000e+01, 1.6200e+02, 2.5000e+00,\n",
              "          2.2700e+00, 3.2000e-01, 3.2800e+00, 2.6000e+00, 1.1600e+00, 2.6300e+00,\n",
              "          9.3700e+02]),\n",
              "  tensor(1)),\n",
              " 97)"
            ]
          },
          "metadata": {},
          "execution_count": 93
        }
      ]
    },
    {
      "cell_type": "markdown",
      "source": [
        "データローダの構築"
      ],
      "metadata": {
        "id": "tJ5qYemSgySH"
      }
    },
    {
      "cell_type": "code",
      "source": [
        "train_loader = DataLoader(train, batch_size=15, shuffle=True)"
      ],
      "metadata": {
        "id": "qYANq73cg05f"
      },
      "execution_count": 94,
      "outputs": []
    },
    {
      "cell_type": "markdown",
      "source": [
        "### ［改良1］lrを1/10倍する(0.01→0.001)←なんとなく"
      ],
      "metadata": {
        "id": "T1_XpaDEZ6k7"
      }
    },
    {
      "cell_type": "markdown",
      "source": [
        "モデルの定義"
      ],
      "metadata": {
        "id": "yNdkeOi2g3sH"
      }
    },
    {
      "cell_type": "code",
      "source": [
        "class Net(nn.Module):\n",
        "  def __init__(self): #(1)\n",
        "    super(Net, self).__init__() #(2)\n",
        "    self.fc1 = nn.Linear(13, 128) #(3)\n",
        "    self.fc2 = nn.Linear(128, 2) #(4)\n",
        "  def forward(self, x): #(5)\n",
        "    x = F.relu(self.fc1(x)) #(6)\n",
        "    x = self.fc2(x) #(7)\n",
        "    return x #(8)"
      ],
      "metadata": {
        "id": "UOFMljK-g6dP"
      },
      "execution_count": 95,
      "outputs": []
    },
    {
      "cell_type": "code",
      "source": [
        "model = Net()"
      ],
      "metadata": {
        "id": "MtDRPsAvg956"
      },
      "execution_count": 96,
      "outputs": []
    },
    {
      "cell_type": "code",
      "source": [
        "criterion = nn.CrossEntropyLoss()\n",
        "optimizer = optim.SGD(model.parameters(), lr=0.001)"
      ],
      "metadata": {
        "id": "KqIY4q7ghAJ6"
      },
      "execution_count": 97,
      "outputs": []
    },
    {
      "cell_type": "markdown",
      "source": [
        "学習の実行"
      ],
      "metadata": {
        "id": "nVYZPGDxhDNV"
      }
    },
    {
      "cell_type": "code",
      "source": [
        "for epoch in range(500):\n",
        "  total_loss = 0 #(1)\n",
        "  for train_x, train_y in train_loader: #(2)\n",
        "    optimizer.zero_grad() #(3)\n",
        "    output = model(train_x) #(4)\n",
        "    loss = criterion(output, train_y) #(5)\n",
        "    loss.backward() #(6)\n",
        "    optimizer.step() #(7)\n",
        "    total_loss += loss.data #(8)\n",
        "  if(epoch+1)%10 == 0: #(9)\n",
        "    print(epoch+1, total_loss)"
      ],
      "metadata": {
        "id": "YPUlpwDihI-z",
        "colab": {
          "base_uri": "https://localhost:8080/"
        },
        "outputId": "c4cb2681-4fcf-485d-b0a9-3e91beca9f4a"
      },
      "execution_count": 98,
      "outputs": [
        {
          "output_type": "stream",
          "name": "stdout",
          "text": [
            "10 tensor(1.6842)\n",
            "20 tensor(1.3832)\n",
            "30 tensor(1.6943)\n",
            "40 tensor(1.3102)\n",
            "50 tensor(1.4195)\n",
            "60 tensor(1.1555)\n",
            "70 tensor(1.3105)\n",
            "80 tensor(1.3757)\n",
            "90 tensor(1.4727)\n",
            "100 tensor(1.1675)\n",
            "110 tensor(1.5421)\n",
            "120 tensor(1.1043)\n",
            "130 tensor(1.3143)\n",
            "140 tensor(1.2841)\n",
            "150 tensor(1.2702)\n",
            "160 tensor(1.2793)\n",
            "170 tensor(1.0168)\n",
            "180 tensor(1.3063)\n",
            "190 tensor(1.2187)\n",
            "200 tensor(1.0611)\n",
            "210 tensor(1.9389)\n",
            "220 tensor(1.5308)\n",
            "230 tensor(1.3450)\n",
            "240 tensor(1.2644)\n",
            "250 tensor(1.3351)\n",
            "260 tensor(1.3145)\n",
            "270 tensor(1.2734)\n",
            "280 tensor(1.4326)\n",
            "290 tensor(1.2723)\n",
            "300 tensor(1.2067)\n",
            "310 tensor(2.9025)\n",
            "320 tensor(1.6019)\n",
            "330 tensor(1.2499)\n",
            "340 tensor(1.5008)\n",
            "350 tensor(1.7133)\n",
            "360 tensor(1.0940)\n",
            "370 tensor(1.2572)\n",
            "380 tensor(2.3729)\n",
            "390 tensor(1.1080)\n",
            "400 tensor(1.3610)\n",
            "410 tensor(1.9144)\n",
            "420 tensor(1.2016)\n",
            "430 tensor(1.0523)\n",
            "440 tensor(1.9320)\n",
            "450 tensor(1.3288)\n",
            "460 tensor(1.6581)\n",
            "470 tensor(1.4171)\n",
            "480 tensor(1.1102)\n",
            "490 tensor(1.3681)\n",
            "500 tensor(1.2944)\n"
          ]
        }
      ]
    },
    {
      "cell_type": "markdown",
      "source": [
        "精度の計算"
      ],
      "metadata": {
        "id": "1eO67YldhK4d"
      }
    },
    {
      "cell_type": "code",
      "source": [
        "test_model = model(test_X).detach()"
      ],
      "metadata": {
        "id": "5sewd9unhMpP"
      },
      "execution_count": 99,
      "outputs": []
    },
    {
      "cell_type": "code",
      "source": [
        "test_model"
      ],
      "metadata": {
        "id": "oqln4TxXhP2R",
        "colab": {
          "base_uri": "https://localhost:8080/"
        },
        "outputId": "97321a45-a748-45cb-b5cb-8b9dd260a761"
      },
      "execution_count": 100,
      "outputs": [
        {
          "output_type": "execute_result",
          "data": {
            "text/plain": [
              "tensor([[13.3333,  1.8196],\n",
              "        [-2.0252,  2.8454],\n",
              "        [-0.6909,  1.7761],\n",
              "        [-3.3367,  3.9335],\n",
              "        [-0.2194,  1.2371],\n",
              "        [18.0715,  2.2752],\n",
              "        [-1.3922,  2.3873],\n",
              "        [-3.5213,  3.9795],\n",
              "        [-2.6558,  3.1854],\n",
              "        [13.3628,  2.3973],\n",
              "        [-2.1581,  2.7683],\n",
              "        [-1.1988,  3.0791],\n",
              "        [ 0.6281,  1.1714],\n",
              "        [-0.0797,  1.9075],\n",
              "        [11.1358,  2.3692],\n",
              "        [-1.0978,  2.2349],\n",
              "        [ 2.2889,  1.1599],\n",
              "        [ 0.8055,  1.2324],\n",
              "        [-1.2076,  2.5134],\n",
              "        [ 7.0228,  1.6341],\n",
              "        [ 2.1009,  1.3028],\n",
              "        [ 2.6924,  1.0717],\n",
              "        [-3.7812,  4.5669],\n",
              "        [ 7.0472,  1.6023],\n",
              "        [-2.0251,  2.7802],\n",
              "        [ 2.1662,  1.0241],\n",
              "        [-1.7454,  3.2013],\n",
              "        [-1.2388,  2.3583],\n",
              "        [10.2762,  1.8953],\n",
              "        [ 1.1518,  1.8070],\n",
              "        [-0.2222,  1.5659],\n",
              "        [-3.2073,  4.4992],\n",
              "        [15.0240,  2.1572]])"
            ]
          },
          "metadata": {},
          "execution_count": 100
        }
      ]
    },
    {
      "cell_type": "markdown",
      "source": [
        "torch.maxで最大の抽出"
      ],
      "metadata": {
        "id": "Owx3P8AE8x_n"
      }
    },
    {
      "cell_type": "code",
      "source": [
        "torch.max(test_model, 1)"
      ],
      "metadata": {
        "id": "iixV151ZhbMs",
        "colab": {
          "base_uri": "https://localhost:8080/"
        },
        "outputId": "2336dc41-24c8-42b7-9191-6506ff20c7bb"
      },
      "execution_count": 101,
      "outputs": [
        {
          "output_type": "execute_result",
          "data": {
            "text/plain": [
              "torch.return_types.max(\n",
              "values=tensor([13.3333,  2.8454,  1.7761,  3.9335,  1.2371, 18.0715,  2.3873,  3.9795,\n",
              "         3.1854, 13.3628,  2.7683,  3.0791,  1.1714,  1.9075, 11.1358,  2.2349,\n",
              "         2.2889,  1.2324,  2.5134,  7.0228,  2.1009,  2.6924,  4.5669,  7.0472,\n",
              "         2.7802,  2.1662,  3.2013,  2.3583, 10.2762,  1.8070,  1.5659,  4.4992,\n",
              "        15.0240]),\n",
              "indices=tensor([0, 1, 1, 1, 1, 0, 1, 1, 1, 0, 1, 1, 1, 1, 0, 1, 0, 1, 1, 0, 0, 0, 1, 0,\n",
              "        1, 0, 1, 1, 0, 1, 1, 1, 0]))"
            ]
          },
          "metadata": {},
          "execution_count": 101
        }
      ]
    },
    {
      "cell_type": "code",
      "source": [
        "result = torch.max(test_model, 1)[1]\n",
        "accuracy = sum(test_Y.data.numpy() == result.numpy()) / len(test_Y.data.numpy())\n",
        "accuracy"
      ],
      "metadata": {
        "id": "42ZbXuZYhesE",
        "colab": {
          "base_uri": "https://localhost:8080/"
        },
        "outputId": "e952a251-9262-44af-952c-3a1a0c3dde1e"
      },
      "execution_count": 102,
      "outputs": [
        {
          "output_type": "execute_result",
          "data": {
            "text/plain": [
              "0.9090909090909091"
            ]
          },
          "metadata": {},
          "execution_count": 102
        }
      ]
    },
    {
      "cell_type": "markdown",
      "source": [
        "精度90%を超えることができた．しかし複数回実行すると90%を下回ることもあり，おおよそ75~100%の間であった．"
      ],
      "metadata": {
        "id": "wBdDGHZNe8VW"
      }
    },
    {
      "cell_type": "markdown",
      "source": [
        "## →では，学習率と正解率にはどのような関係があるのか？"
      ],
      "metadata": {
        "id": "COiaLCcafQE6"
      }
    },
    {
      "cell_type": "code",
      "source": [
        "import numpy as np\n",
        "from tqdm import tqdm\n",
        "import matplotlib.pyplot as plt"
      ],
      "metadata": {
        "id": "OdomZvO_gJnG"
      },
      "execution_count": 103,
      "outputs": []
    },
    {
      "cell_type": "code",
      "source": [
        "lr_list = np.logspace(-10,0,num=10,base=10)\n",
        "\n",
        "ac_num_list_s = np.zeros(len(lr_list))\n",
        "for i in range(10):\n",
        "  ac_score_list = []\n",
        "  for lr in tqdm(lr_list):\n",
        "    model = Net()\n",
        "    criterion = nn.CrossEntropyLoss()\n",
        "    optimizer = optim.SGD(model.parameters(), lr=lr)\n",
        "    for epoch in range(500):\n",
        "      total_loss = 0 #(1)\n",
        "      for train_x, train_y in train_loader: #(2)\n",
        "        optimizer.zero_grad() #(3)\n",
        "        output = model(train_x) #(4)\n",
        "        loss = criterion(output, train_y) #(5)\n",
        "        loss.backward() #(6)\n",
        "        optimizer.step() #(7)\n",
        "        total_loss += loss.data #(8)\n",
        "    test_model = model(test_X).detach()\n",
        "    torch.max(test_model, 1)\n",
        "    result = torch.max(test_model, 1)[1]\n",
        "    accuracy = sum(test_Y.data.numpy() == result.numpy()) / len(test_Y.data.numpy())\n",
        "    ac_score_list.append(accuracy)\n",
        "  ac_score_list = np.array(ac_score_list)\n",
        "  ac_num_list_s = ac_num_list_s + ac_score_list\n",
        "ac_num_list_s = ac_num_list_s/10"
      ],
      "metadata": {
        "colab": {
          "base_uri": "https://localhost:8080/"
        },
        "id": "CT94tcmEJYig",
        "outputId": "ad48b947-7268-4a40-aa4a-c441ea4c183f"
      },
      "execution_count": 104,
      "outputs": [
        {
          "output_type": "stream",
          "name": "stderr",
          "text": [
            "100%|██████████| 10/10 [00:28<00:00,  2.87s/it]\n",
            "100%|██████████| 10/10 [00:29<00:00,  2.93s/it]\n",
            "100%|██████████| 10/10 [00:28<00:00,  2.88s/it]\n",
            "100%|██████████| 10/10 [00:29<00:00,  2.98s/it]\n",
            "100%|██████████| 10/10 [00:29<00:00,  2.94s/it]\n",
            "100%|██████████| 10/10 [00:28<00:00,  2.86s/it]\n",
            "100%|██████████| 10/10 [00:28<00:00,  2.86s/it]\n",
            "100%|██████████| 10/10 [00:29<00:00,  2.94s/it]\n",
            "100%|██████████| 10/10 [00:28<00:00,  2.86s/it]\n",
            "100%|██████████| 10/10 [00:28<00:00,  2.87s/it]\n"
          ]
        }
      ]
    },
    {
      "cell_type": "code",
      "source": [
        "plt.plot(lr_list, ac_num_list_s,label='SGD')\n",
        "plt.xlabel('lr')\n",
        "plt.ylabel('accuracy-ave')\n",
        "plt.xscale('log')\n",
        "plt.legend()\n",
        "plt.show()"
      ],
      "metadata": {
        "colab": {
          "base_uri": "https://localhost:8080/",
          "height": 454
        },
        "id": "0pRbEZwCLtIs",
        "outputId": "870b424b-27ab-48ca-bac3-0a3f15696de6"
      },
      "execution_count": 109,
      "outputs": [
        {
          "output_type": "display_data",
          "data": {
            "text/plain": [
              "<Figure size 640x480 with 1 Axes>"
            ],
            "image/png": "[encoded data removed]"
          },
          "metadata": {}
        }
      ]
    },
    {
      "cell_type": "markdown",
      "source": [
        "おおよそlr=0.001~0.00001付近で高い正解率となることがわかった．"
      ],
      "metadata": {
        "id": "hY1tFG2gjPB5"
      }
    },
    {
      "cell_type": "code",
      "source": [
        "plt.plot(lr_list, ac_num_list_s,label='cat')\n",
        "plt.scatter([10**-5,5*10**-4],[0.8,0.8])\n",
        "plt.plot([10**-5,5*10**-4],[0.75,0.72])\n",
        "plt.xlabel('width')\n",
        "plt.ylabel('height')\n",
        "plt.xscale('log')\n",
        "plt.legend()\n",
        "plt.show()"
      ],
      "metadata": {
        "colab": {
          "base_uri": "https://localhost:8080/",
          "height": 454
        },
        "id": "mYzjvY-Qjtpi",
        "outputId": "f4d88edd-2dfc-45b2-b926-49aac34c96cf"
      },
      "execution_count": 117,
      "outputs": [
        {
          "output_type": "display_data",
          "data": {
            "text/plain": [
              "<Figure size 640x480 with 1 Axes>"
            ],
            "image/png": "[encoded data removed]"
          },
          "metadata": {}
        }
      ]
    },
    {
      "cell_type": "markdown",
      "source": [
        "このように，不貞腐れた猫を表すこともできる．"
      ],
      "metadata": {
        "id": "-5FLQn6sjuyR"
      }
    },
    {
      "cell_type": "markdown",
      "source": [
        "### ［改良2］隠れ層を深くする（lrは元の0.01）"
      ],
      "metadata": {
        "id": "a_c1pQueNhrU"
      }
    },
    {
      "cell_type": "markdown",
      "source": [
        "モデルの再定義"
      ],
      "metadata": {
        "id": "Afa4M60YEyk_"
      }
    },
    {
      "cell_type": "code",
      "source": [
        "class Net(nn.Module):\n",
        "  def __init__(self):\n",
        "    super().__init__()\n",
        "    self.fc1 = nn.Linear(13, 128)\n",
        "    self.fc2 = nn.Linear(128, 128)\n",
        "    self.fc3 = nn.Linear(128, 128)\n",
        "    self.fc4 = nn.Linear(128, 128)\n",
        "    self.fc5 = nn.Linear(128, 128)\n",
        "    self.fc6 = nn.Linear(128, 2)\n",
        "  def forward(self, x):\n",
        "    x = F.relu(self.fc1(x))\n",
        "    x = F.relu(self.fc2(x))\n",
        "    x = F.relu(self.fc3(x))\n",
        "    x = F.relu(self.fc4(x))\n",
        "    x = F.relu(self.fc5(x))\n",
        "    x = self.fc6(x)\n",
        "    return x"
      ],
      "metadata": {
        "id": "oPymUvOMETcs"
      },
      "execution_count": 141,
      "outputs": []
    },
    {
      "cell_type": "code",
      "source": [
        "model = Net()"
      ],
      "metadata": {
        "id": "g9HadWXQE-tv"
      },
      "execution_count": 134,
      "outputs": []
    },
    {
      "cell_type": "code",
      "source": [
        "criterion = nn.CrossEntropyLoss()\n",
        "optimizer = optim.Adam(model.parameters(), lr=0.01)"
      ],
      "metadata": {
        "id": "pyIBBtWWFDNw"
      },
      "execution_count": 135,
      "outputs": []
    },
    {
      "cell_type": "code",
      "source": [
        "for epoch in range(500):\n",
        "  total_loss = 0 #(1)\n",
        "  for train_x, train_y in train_loader: #(2)\n",
        "    optimizer.zero_grad() #(3)\n",
        "    output = model(train_x) #(4)\n",
        "    loss = criterion(output, train_y) #(5)\n",
        "    loss.backward() #(6)\n",
        "    optimizer.step() #(7)\n",
        "    total_loss += loss.data #(8)\n",
        "  if(epoch+1)%10 == 0: #(9)\n",
        "    print(epoch+1, total_loss)"
      ],
      "metadata": {
        "id": "ClsVrg0gFIjq",
        "colab": {
          "base_uri": "https://localhost:8080/"
        },
        "outputId": "99f7ff59-164d-4635-92e6-d1fd2773aa7b"
      },
      "execution_count": 136,
      "outputs": [
        {
          "output_type": "stream",
          "name": "stdout",
          "text": [
            "10 tensor(3.8822)\n",
            "20 tensor(1.4367)\n",
            "30 tensor(1.3204)\n",
            "40 tensor(1.3279)\n",
            "50 tensor(2.9675)\n",
            "60 tensor(1.4284)\n",
            "70 tensor(1.2894)\n",
            "80 tensor(1.2054)\n",
            "90 tensor(1.1916)\n",
            "100 tensor(1.7040)\n",
            "110 tensor(1.2032)\n",
            "120 tensor(1.0759)\n",
            "130 tensor(1.6598)\n",
            "140 tensor(0.8898)\n",
            "150 tensor(1.2889)\n",
            "160 tensor(1.4614)\n",
            "170 tensor(0.8797)\n",
            "180 tensor(0.9745)\n",
            "190 tensor(0.8823)\n",
            "200 tensor(0.7006)\n",
            "210 tensor(0.8546)\n",
            "220 tensor(0.8541)\n",
            "230 tensor(0.8323)\n",
            "240 tensor(0.7356)\n",
            "250 tensor(0.6240)\n",
            "260 tensor(0.5434)\n",
            "270 tensor(0.6120)\n",
            "280 tensor(0.4254)\n",
            "290 tensor(4.3892)\n",
            "300 tensor(0.5591)\n",
            "310 tensor(0.5917)\n",
            "320 tensor(0.6071)\n",
            "330 tensor(4.4037)\n",
            "340 tensor(1.5278)\n",
            "350 tensor(1.1267)\n",
            "360 tensor(1.6184)\n",
            "370 tensor(0.9568)\n",
            "380 tensor(0.6658)\n",
            "390 tensor(1.4448)\n",
            "400 tensor(0.7135)\n",
            "410 tensor(0.8593)\n",
            "420 tensor(0.6011)\n",
            "430 tensor(0.5626)\n",
            "440 tensor(0.5114)\n",
            "450 tensor(0.6342)\n",
            "460 tensor(0.5178)\n",
            "470 tensor(0.7569)\n",
            "480 tensor(0.4097)\n",
            "490 tensor(0.6732)\n",
            "500 tensor(0.6120)\n"
          ]
        }
      ]
    },
    {
      "cell_type": "code",
      "source": [
        "test_model = model(test_X).detach()"
      ],
      "metadata": {
        "id": "1g4Okn0PFIvt"
      },
      "execution_count": 137,
      "outputs": []
    },
    {
      "cell_type": "code",
      "source": [
        "test_model"
      ],
      "metadata": {
        "id": "ztr-TFZIFI25",
        "colab": {
          "base_uri": "https://localhost:8080/"
        },
        "outputId": "86530616-31f4-44af-8369-be3e4de5a010"
      },
      "execution_count": 138,
      "outputs": [
        {
          "output_type": "execute_result",
          "data": {
            "text/plain": [
              "tensor([[ 5.7570, -6.2842],\n",
              "        [-2.7657,  2.8431],\n",
              "        [-2.3227,  2.3686],\n",
              "        [-2.7657,  2.8431],\n",
              "        [-1.9366,  1.9551],\n",
              "        [ 9.0654, -9.8273],\n",
              "        [-2.4833,  2.5407],\n",
              "        [-2.6363,  2.6578],\n",
              "        [-2.7657,  2.8431],\n",
              "        [ 7.1607, -7.7875],\n",
              "        [-2.7657,  2.8431],\n",
              "        [-2.4032,  2.4549],\n",
              "        [-1.1708,  1.1350],\n",
              "        [-2.0566,  2.0837],\n",
              "        [ 5.8078, -6.3386],\n",
              "        [-2.6531,  2.7225],\n",
              "        [ 0.6935, -0.8615],\n",
              "        [-0.8654,  0.8080],\n",
              "        [-2.7657,  2.8431],\n",
              "        [ 3.1609, -3.5039],\n",
              "        [ 0.4682, -0.6202],\n",
              "        [ 2.2745, -2.5546],\n",
              "        [-2.7654,  2.8437],\n",
              "        [ 3.8176, -4.2072],\n",
              "        [-2.7657,  2.8431],\n",
              "        [ 1.4752, -1.6987],\n",
              "        [-2.5787,  2.6428],\n",
              "        [-2.4474,  2.5022],\n",
              "        [ 4.5218, -4.9614],\n",
              "        [-0.4226,  0.3337],\n",
              "        [-2.2895,  2.3332],\n",
              "        [-2.7657,  2.8431],\n",
              "        [ 7.1023, -7.7250]])"
            ]
          },
          "metadata": {},
          "execution_count": 138
        }
      ]
    },
    {
      "cell_type": "code",
      "source": [
        "torch.max(test_model, 1)"
      ],
      "metadata": {
        "id": "hon6IoSuFRhA",
        "colab": {
          "base_uri": "https://localhost:8080/"
        },
        "outputId": "60a84802-6475-479f-947e-e8bb01e954b8"
      },
      "execution_count": 139,
      "outputs": [
        {
          "output_type": "execute_result",
          "data": {
            "text/plain": [
              "torch.return_types.max(\n",
              "values=tensor([5.7570, 2.8431, 2.3686, 2.8431, 1.9551, 9.0654, 2.5407, 2.6578, 2.8431,\n",
              "        7.1607, 2.8431, 2.4549, 1.1350, 2.0837, 5.8078, 2.7225, 0.6935, 0.8080,\n",
              "        2.8431, 3.1609, 0.4682, 2.2745, 2.8437, 3.8176, 2.8431, 1.4752, 2.6428,\n",
              "        2.5022, 4.5218, 0.3337, 2.3332, 2.8431, 7.1023]),\n",
              "indices=tensor([0, 1, 1, 1, 1, 0, 1, 1, 1, 0, 1, 1, 1, 1, 0, 1, 0, 1, 1, 0, 0, 0, 1, 0,\n",
              "        1, 0, 1, 1, 0, 1, 1, 1, 0]))"
            ]
          },
          "metadata": {},
          "execution_count": 139
        }
      ]
    },
    {
      "cell_type": "code",
      "source": [
        "result = torch.max(test_model, 1)[1]\n",
        "accuracy = sum(test_Y.data.numpy() == result.numpy()) / len(test_Y.data.numpy())\n",
        "accuracy"
      ],
      "metadata": {
        "id": "zBVbFGe4FRj8",
        "colab": {
          "base_uri": "https://localhost:8080/"
        },
        "outputId": "11fea83e-49f8-4777-be39-9e57d1553473"
      },
      "execution_count": 140,
      "outputs": [
        {
          "output_type": "execute_result",
          "data": {
            "text/plain": [
              "0.9090909090909091"
            ]
          },
          "metadata": {},
          "execution_count": 140
        }
      ]
    },
    {
      "cell_type": "markdown",
      "source": [
        "こちらも精度90%を超えることができた．"
      ],
      "metadata": {
        "id": "6CUE7A_-F1H1"
      }
    },
    {
      "cell_type": "markdown",
      "source": [
        "### ［改良3］正解率1を目指す．"
      ],
      "metadata": {
        "id": "u_dC1OdvmSvv"
      }
    },
    {
      "cell_type": "markdown",
      "source": [
        "- 改良2のように隠れ層を深くした上で，学習率・学習方法を工夫することで正解率1を目指す．\n",
        "\n",
        "- 今回は改良1で行った方法で正解率の高い学習率を探し，それをAdamとSDGで比較する．"
      ],
      "metadata": {
        "id": "kC9tDZWgtTq3"
      }
    },
    {
      "cell_type": "code",
      "source": [
        "class Net(nn.Module):\n",
        "  def __init__(self):\n",
        "    super().__init__()\n",
        "    self.fc1 = nn.Linear(13, 128)\n",
        "    self.fc2 = nn.Linear(128, 128)\n",
        "    self.fc3 = nn.Linear(128, 128)\n",
        "    self.fc4 = nn.Linear(128, 128)\n",
        "    self.fc5 = nn.Linear(128, 128)\n",
        "    self.fc6 = nn.Linear(128, 2)\n",
        "  def forward(self, x):\n",
        "    x = F.relu(self.fc1(x))\n",
        "    x = F.relu(self.fc2(x))\n",
        "    x = F.relu(self.fc3(x))\n",
        "    x = F.relu(self.fc4(x))\n",
        "    x = F.relu(self.fc5(x))\n",
        "    x = self.fc6(x)\n",
        "    return x"
      ],
      "metadata": {
        "id": "Qv_GP-aLmvAD"
      },
      "execution_count": 142,
      "outputs": []
    },
    {
      "cell_type": "code",
      "source": [
        "lr_list = np.logspace(-10,0,num=10,base=10)\n",
        "\n",
        "ac_num_list_s = np.zeros(len(lr_list))\n",
        "for i in range(10):\n",
        "  ac_score_list = []\n",
        "  for lr in tqdm(lr_list):\n",
        "    model = Net()\n",
        "    criterion = nn.CrossEntropyLoss()\n",
        "    optimizer = optim.SGD(model.parameters(), lr=lr)\n",
        "    for epoch in range(500):\n",
        "      total_loss = 0 #(1)\n",
        "      for train_x, train_y in train_loader: #(2)\n",
        "        optimizer.zero_grad() #(3)\n",
        "        output = model(train_x) #(4)\n",
        "        loss = criterion(output, train_y) #(5)\n",
        "        loss.backward() #(6)\n",
        "        optimizer.step() #(7)\n",
        "        total_loss += loss.data #(8)\n",
        "    test_model = model(test_X).detach()\n",
        "    torch.max(test_model, 1)\n",
        "    result = torch.max(test_model, 1)[1]\n",
        "    accuracy = sum(test_Y.data.numpy() == result.numpy()) / len(test_Y.data.numpy())\n",
        "    ac_score_list.append(accuracy)\n",
        "  ac_score_list = np.array(ac_score_list)\n",
        "  ac_num_list_s = ac_num_list_s + ac_score_list\n",
        "ac_num_list_s = ac_num_list_s/10\n",
        "\n",
        "\n",
        "\n",
        "ac_num_list_a = np.zeros(len(lr_list))\n",
        "for i in range(10):\n",
        "  ac_score_list = []\n",
        "  for lr in tqdm(lr_list):\n",
        "    model = Net()\n",
        "    criterion = nn.CrossEntropyLoss()\n",
        "    optimizer = optim.Adam(model.parameters(), lr=lr)\n",
        "    for epoch in range(500):\n",
        "      total_loss = 0 #(1)\n",
        "      for train_x, train_y in train_loader: #(2)\n",
        "        optimizer.zero_grad() #(3)\n",
        "        output = model(train_x) #(4)\n",
        "        loss = criterion(output, train_y) #(5)\n",
        "        loss.backward() #(6)\n",
        "        optimizer.step() #(7)\n",
        "        total_loss += loss.data #(8)\n",
        "    test_model = model(test_X).detach()\n",
        "    torch.max(test_model, 1)\n",
        "    result = torch.max(test_model, 1)[1]\n",
        "    accuracy = sum(test_Y.data.numpy() == result.numpy()) / len(test_Y.data.numpy())\n",
        "    ac_score_list.append(accuracy)\n",
        "  ac_score_list = np.array(ac_score_list)\n",
        "  ac_num_list_a = ac_num_list_a + ac_score_list\n",
        "ac_num_list_a = ac_num_list_a/10"
      ],
      "metadata": {
        "colab": {
          "base_uri": "https://localhost:8080/"
        },
        "id": "80nHU_YIrbzv",
        "outputId": "919aabea-becf-491e-9aa3-1b7651ffca0e"
      },
      "execution_count": 143,
      "outputs": [
        {
          "output_type": "stream",
          "name": "stderr",
          "text": [
            "100%|██████████| 10/10 [00:57<00:00,  5.73s/it]\n",
            "100%|██████████| 10/10 [00:58<00:00,  5.81s/it]\n",
            "100%|██████████| 10/10 [00:55<00:00,  5.60s/it]\n",
            "100%|██████████| 10/10 [00:51<00:00,  5.17s/it]\n",
            "100%|██████████| 10/10 [00:55<00:00,  5.58s/it]\n",
            "100%|██████████| 10/10 [00:53<00:00,  5.33s/it]\n",
            "100%|██████████| 10/10 [01:01<00:00,  6.13s/it]\n",
            "100%|██████████| 10/10 [00:56<00:00,  5.69s/it]\n",
            "100%|██████████| 10/10 [00:57<00:00,  5.77s/it]\n",
            "100%|██████████| 10/10 [01:01<00:00,  6.18s/it]\n",
            "100%|██████████| 10/10 [02:10<00:00, 13.04s/it]\n",
            "100%|██████████| 10/10 [02:02<00:00, 12.25s/it]\n",
            "100%|██████████| 10/10 [02:01<00:00, 12.19s/it]\n",
            "100%|██████████| 10/10 [01:59<00:00, 11.94s/it]\n",
            "100%|██████████| 10/10 [01:51<00:00, 11.19s/it]\n",
            "100%|██████████| 10/10 [01:55<00:00, 11.59s/it]\n",
            "100%|██████████| 10/10 [01:55<00:00, 11.52s/it]\n",
            "100%|██████████| 10/10 [01:49<00:00, 10.90s/it]\n",
            "100%|██████████| 10/10 [01:50<00:00, 11.09s/it]\n",
            "100%|██████████| 10/10 [01:49<00:00, 10.95s/it]\n"
          ]
        }
      ]
    },
    {
      "cell_type": "code",
      "source": [
        "plt.plot(lr_list, ac_num_list_s,label='SGD')\n",
        "plt.plot(lr_list, ac_num_list_a,label='Adam')\n",
        "plt.xlabel('lr')\n",
        "plt.ylabel('accuracy-ave')\n",
        "plt.xscale('log')\n",
        "plt.legend()\n",
        "plt.show()"
      ],
      "metadata": {
        "colab": {
          "base_uri": "https://localhost:8080/",
          "height": 454
        },
        "id": "vofQA-7VsdLL",
        "outputId": "7b3f2dfd-9a1d-41fc-d407-5a9bf57f8c3f"
      },
      "execution_count": 145,
      "outputs": [
        {
          "output_type": "display_data",
          "data": {
            "text/plain": [
              "<Figure size 640x480 with 1 Axes>"
            ],
            "image/png": "[encoded data removed]"
          },
          "metadata": {}
        }
      ]
    },
    {
      "cell_type": "markdown",
      "source": [
        "したがって，Adamを用いて学習率を以下のように設定してみる．\n",
        "\n",
        "ちなみに，学習率が小さすぎると学習が進んでいないことから正解率が低いことが見れる．"
      ],
      "metadata": {
        "id": "yz5lu_9nvaZ1"
      }
    },
    {
      "cell_type": "markdown",
      "source": [
        "$$\n",
        "lr＝0.001\n",
        "$$"
      ],
      "metadata": {
        "id": "BwxZMuGawZlc"
      }
    },
    {
      "cell_type": "code",
      "source": [
        "model = Net()\n",
        "criterion = nn.CrossEntropyLoss()\n",
        "optimizer = optim.Adam(model.parameters(), lr=0.001)\n",
        "for epoch in range(500):\n",
        "  total_loss = 0 #(1)\n",
        "  for train_x, train_y in train_loader: #(2)\n",
        "    optimizer.zero_grad() #(3)\n",
        "    output = model(train_x) #(4)\n",
        "    loss = criterion(output, train_y) #(5)\n",
        "    loss.backward() #(6)\n",
        "    optimizer.step() #(7)\n",
        "    total_loss += loss.data #(8)\n",
        "test_model = model(test_X).detach()\n",
        "# test_model\n",
        "torch.max(test_model, 1)\n",
        "result = torch.max(test_model, 1)[1]\n",
        "accuracy = sum(test_Y.data.numpy() == result.numpy()) / len(test_Y.data.numpy())\n",
        "accuracy"
      ],
      "metadata": {
        "colab": {
          "base_uri": "https://localhost:8080/"
        },
        "id": "xZemi1t5xQPE",
        "outputId": "23c74717-feee-4c1e-ee49-b60f0285ba27"
      },
      "execution_count": 149,
      "outputs": [
        {
          "output_type": "execute_result",
          "data": {
            "text/plain": [
              "0.9696969696969697"
            ]
          },
          "metadata": {},
          "execution_count": 149
        }
      ]
    },
    {
      "cell_type": "markdown",
      "source": [
        "### 惜しい！！！"
      ],
      "metadata": {
        "id": "oc4dK1PCmq20"
      }
    },
    {
      "cell_type": "markdown",
      "source": [
        "（似たような課題回答があるかもしれないが，私が友人から学んだため，先駆者は友人である）"
      ],
      "metadata": {
        "id": "E6XajNc23FfD"
      }
    }
  ]
}